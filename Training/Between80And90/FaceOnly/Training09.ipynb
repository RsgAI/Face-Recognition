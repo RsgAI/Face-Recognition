{
 "cells": [
  {
   "cell_type": "markdown",
   "metadata": {},
   "source": [
    "# Training9\n",
    "\n",
    "In this notebook file, Between80And90-FaceOnly dataset will be read from pkl file.\n",
    "\n",
    "Input(X) and Output(Y) numpy arrays will be created from pandas dataframes.\n",
    "\n",
    "VGG16 pre-trained model will be load and used.\n",
    "\n",
    "Pre-trained model's layers except the last CNN block will be set to non-trainable.\n",
    "\n",
    "Training will be performed in the sections between the last CNN block and the Output layer.\n",
    "\n",
    "In this way, the experience gained by the model on very large datasets will be used in this classification problem, while the last CNN block will be updated and fine-tuned.\n",
    "\n",
    "This method is known as [**Fine-Tuning**](https://deeplizard.com/learn/video/5T-iXNNiwIs \"deeplizard\").\n",
    "\n",
    "See also [**Transfer Learning and Fine-Tuning**](https://www.tensorflow.org/tutorials/images/transfer_learning \"tensorflow\").\n",
    "\n",
    "A keras utils Sequence class will be defined so that operations can be performed on the data to be used during the training.\n",
    "\n",
    "Performance will be checked with Validation data while training model with Training data.\n",
    "\n",
    "Accuracy and Loss charts will be drawn according to epoch numbers.\n",
    "\n",
    "The results obtained by evaluating the model with Test data will be printed."
   ]
  },
  {
   "cell_type": "code",
   "execution_count": 1,
   "metadata": {},
   "outputs": [],
   "source": [
    "#Libraries are being imported\n",
    "import numpy as np\n",
    "import pandas as pd\n",
    "import tensorflow as tf\n",
    "import matplotlib\n",
    "import matplotlib.pyplot as plt"
   ]
  },
  {
   "cell_type": "code",
   "execution_count": 2,
   "metadata": {},
   "outputs": [
    {
     "name": "stdout",
     "output_type": "stream",
     "text": [
      "numpy Version: 1.22.3\n",
      "pandas Version: 1.4.3\n",
      "tensorflow Version: 2.6.0\n",
      "matplotlib Version: 3.5.2\n"
     ]
    }
   ],
   "source": [
    "#Library versions are being printed\n",
    "print('numpy Version: ' + np.__version__)\n",
    "print('pandas Version: ' + pd.__version__)\n",
    "print('tensorflow Version: ' + tf.__version__)\n",
    "print('matplotlib Version: ' + matplotlib.__version__)"
   ]
  },
  {
   "cell_type": "code",
   "execution_count": 3,
   "metadata": {},
   "outputs": [
    {
     "name": "stdout",
     "output_type": "stream",
     "text": [
      "/device:GPU:0\n"
     ]
    }
   ],
   "source": [
    "#GPU will be used for training\n",
    "myGPU = tf.test.gpu_device_name()\n",
    "if myGPU:\n",
    "    print(myGPU)\n",
    "else:\n",
    "    print(\"Error\")"
   ]
  },
  {
   "cell_type": "code",
   "execution_count": 4,
   "metadata": {},
   "outputs": [
    {
     "data": {
      "text/html": [
       "<div>\n",
       "<style scoped>\n",
       "    .dataframe tbody tr th:only-of-type {\n",
       "        vertical-align: middle;\n",
       "    }\n",
       "\n",
       "    .dataframe tbody tr th {\n",
       "        vertical-align: top;\n",
       "    }\n",
       "\n",
       "    .dataframe thead th {\n",
       "        text-align: right;\n",
       "    }\n",
       "</style>\n",
       "<table border=\"1\" class=\"dataframe\">\n",
       "  <thead>\n",
       "    <tr style=\"text-align: right;\">\n",
       "      <th></th>\n",
       "      <th>Name</th>\n",
       "    </tr>\n",
       "    <tr>\n",
       "      <th>ID</th>\n",
       "      <th></th>\n",
       "    </tr>\n",
       "  </thead>\n",
       "  <tbody>\n",
       "    <tr>\n",
       "      <th>0</th>\n",
       "      <td>Abdullah Gul</td>\n",
       "    </tr>\n",
       "    <tr>\n",
       "      <th>1</th>\n",
       "      <td>Amelie Mauresmo</td>\n",
       "    </tr>\n",
       "    <tr>\n",
       "      <th>2</th>\n",
       "      <td>Angelina Jolie</td>\n",
       "    </tr>\n",
       "    <tr>\n",
       "      <th>3</th>\n",
       "      <td>Bill Gates</td>\n",
       "    </tr>\n",
       "    <tr>\n",
       "      <th>4</th>\n",
       "      <td>Carlos Menem</td>\n",
       "    </tr>\n",
       "    <tr>\n",
       "      <th>5</th>\n",
       "      <td>Carlos Moya</td>\n",
       "    </tr>\n",
       "    <tr>\n",
       "      <th>6</th>\n",
       "      <td>Fidel Castro</td>\n",
       "    </tr>\n",
       "    <tr>\n",
       "      <th>7</th>\n",
       "      <td>George Robertson</td>\n",
       "    </tr>\n",
       "    <tr>\n",
       "      <th>8</th>\n",
       "      <td>Halle Berry</td>\n",
       "    </tr>\n",
       "    <tr>\n",
       "      <th>9</th>\n",
       "      <td>Hamid Karzai</td>\n",
       "    </tr>\n",
       "    <tr>\n",
       "      <th>10</th>\n",
       "      <td>Igor Ivanov</td>\n",
       "    </tr>\n",
       "    <tr>\n",
       "      <th>11</th>\n",
       "      <td>Jean Charest</td>\n",
       "    </tr>\n",
       "    <tr>\n",
       "      <th>12</th>\n",
       "      <td>Jennifer Aniston</td>\n",
       "    </tr>\n",
       "    <tr>\n",
       "      <th>13</th>\n",
       "      <td>Jennifer Lopez</td>\n",
       "    </tr>\n",
       "    <tr>\n",
       "      <th>14</th>\n",
       "      <td>Jiang Zemin</td>\n",
       "    </tr>\n",
       "    <tr>\n",
       "      <th>15</th>\n",
       "      <td>John Bolton</td>\n",
       "    </tr>\n",
       "    <tr>\n",
       "      <th>16</th>\n",
       "      <td>John Howard</td>\n",
       "    </tr>\n",
       "    <tr>\n",
       "      <th>17</th>\n",
       "      <td>John Kerry</td>\n",
       "    </tr>\n",
       "    <tr>\n",
       "      <th>18</th>\n",
       "      <td>John Snow</td>\n",
       "    </tr>\n",
       "    <tr>\n",
       "      <th>19</th>\n",
       "      <td>Joschka Fischer</td>\n",
       "    </tr>\n",
       "    <tr>\n",
       "      <th>20</th>\n",
       "      <td>Jose Maria Aznar</td>\n",
       "    </tr>\n",
       "    <tr>\n",
       "      <th>21</th>\n",
       "      <td>Julianne Moore</td>\n",
       "    </tr>\n",
       "    <tr>\n",
       "      <th>22</th>\n",
       "      <td>Lance Armstrong</td>\n",
       "    </tr>\n",
       "    <tr>\n",
       "      <th>23</th>\n",
       "      <td>Lindsay Davenport</td>\n",
       "    </tr>\n",
       "    <tr>\n",
       "      <th>24</th>\n",
       "      <td>Michael Bloomberg</td>\n",
       "    </tr>\n",
       "    <tr>\n",
       "      <th>25</th>\n",
       "      <td>Michael Schumacher</td>\n",
       "    </tr>\n",
       "    <tr>\n",
       "      <th>26</th>\n",
       "      <td>Naomi Watts</td>\n",
       "    </tr>\n",
       "    <tr>\n",
       "      <th>27</th>\n",
       "      <td>Nicole Kidman</td>\n",
       "    </tr>\n",
       "    <tr>\n",
       "      <th>28</th>\n",
       "      <td>Paul Bremer</td>\n",
       "    </tr>\n",
       "    <tr>\n",
       "      <th>29</th>\n",
       "      <td>Pervez Musharraf</td>\n",
       "    </tr>\n",
       "    <tr>\n",
       "      <th>30</th>\n",
       "      <td>Pete Sampras</td>\n",
       "    </tr>\n",
       "    <tr>\n",
       "      <th>31</th>\n",
       "      <td>Renee Zellweger</td>\n",
       "    </tr>\n",
       "    <tr>\n",
       "      <th>32</th>\n",
       "      <td>Richard Myers</td>\n",
       "    </tr>\n",
       "    <tr>\n",
       "      <th>33</th>\n",
       "      <td>Saddam Hussein</td>\n",
       "    </tr>\n",
       "    <tr>\n",
       "      <th>34</th>\n",
       "      <td>Spencer Abraham</td>\n",
       "    </tr>\n",
       "    <tr>\n",
       "      <th>35</th>\n",
       "      <td>Tiger Woods</td>\n",
       "    </tr>\n",
       "    <tr>\n",
       "      <th>36</th>\n",
       "      <td>Tim Henman</td>\n",
       "    </tr>\n",
       "    <tr>\n",
       "      <th>37</th>\n",
       "      <td>Tommy Franks</td>\n",
       "    </tr>\n",
       "    <tr>\n",
       "      <th>38</th>\n",
       "      <td>Trent Lott</td>\n",
       "    </tr>\n",
       "    <tr>\n",
       "      <th>39</th>\n",
       "      <td>Venus Williams</td>\n",
       "    </tr>\n",
       "  </tbody>\n",
       "</table>\n",
       "</div>"
      ],
      "text/plain": [
       "                  Name\n",
       "ID                    \n",
       "0         Abdullah Gul\n",
       "1      Amelie Mauresmo\n",
       "2       Angelina Jolie\n",
       "3           Bill Gates\n",
       "4         Carlos Menem\n",
       "5          Carlos Moya\n",
       "6         Fidel Castro\n",
       "7     George Robertson\n",
       "8          Halle Berry\n",
       "9         Hamid Karzai\n",
       "10         Igor Ivanov\n",
       "11        Jean Charest\n",
       "12    Jennifer Aniston\n",
       "13      Jennifer Lopez\n",
       "14         Jiang Zemin\n",
       "15         John Bolton\n",
       "16         John Howard\n",
       "17          John Kerry\n",
       "18           John Snow\n",
       "19     Joschka Fischer\n",
       "20    Jose Maria Aznar\n",
       "21      Julianne Moore\n",
       "22     Lance Armstrong\n",
       "23   Lindsay Davenport\n",
       "24   Michael Bloomberg\n",
       "25  Michael Schumacher\n",
       "26         Naomi Watts\n",
       "27       Nicole Kidman\n",
       "28         Paul Bremer\n",
       "29    Pervez Musharraf\n",
       "30        Pete Sampras\n",
       "31     Renee Zellweger\n",
       "32       Richard Myers\n",
       "33      Saddam Hussein\n",
       "34     Spencer Abraham\n",
       "35         Tiger Woods\n",
       "36          Tim Henman\n",
       "37        Tommy Franks\n",
       "38          Trent Lott\n",
       "39      Venus Williams"
      ]
     },
     "execution_count": 4,
     "metadata": {},
     "output_type": "execute_result"
    }
   ],
   "source": [
    "#Person dataframe in Between80And90 is being read from md5 file\n",
    "personDf = pd.read_pickle(\"../../../Data/Between80And90/Person.pkl\")\n",
    "personDf"
   ]
  },
  {
   "cell_type": "code",
   "execution_count": 5,
   "metadata": {},
   "outputs": [
    {
     "data": {
      "text/html": [
       "<div>\n",
       "<style scoped>\n",
       "    .dataframe tbody tr th:only-of-type {\n",
       "        vertical-align: middle;\n",
       "    }\n",
       "\n",
       "    .dataframe tbody tr th {\n",
       "        vertical-align: top;\n",
       "    }\n",
       "\n",
       "    .dataframe thead th {\n",
       "        text-align: right;\n",
       "    }\n",
       "</style>\n",
       "<table border=\"1\" class=\"dataframe\">\n",
       "  <thead>\n",
       "    <tr style=\"text-align: right;\">\n",
       "      <th></th>\n",
       "      <th>PersonID</th>\n",
       "      <th>ImageBGR</th>\n",
       "      <th>DetectionType</th>\n",
       "    </tr>\n",
       "  </thead>\n",
       "  <tbody>\n",
       "    <tr>\n",
       "      <th>0</th>\n",
       "      <td>28</td>\n",
       "      <td>[[[70, 96, 113], [70, 97, 114], [71, 99, 116],...</td>\n",
       "      <td>SingleFace</td>\n",
       "    </tr>\n",
       "    <tr>\n",
       "      <th>1</th>\n",
       "      <td>13</td>\n",
       "      <td>[[[10, 24, 52], [14, 28, 55], [24, 38, 65], [3...</td>\n",
       "      <td>SingleFace</td>\n",
       "    </tr>\n",
       "    <tr>\n",
       "      <th>2</th>\n",
       "      <td>29</td>\n",
       "      <td>[[[215, 181, 187], [216, 181, 187], [218, 180,...</td>\n",
       "      <td>MultipleFace</td>\n",
       "    </tr>\n",
       "    <tr>\n",
       "      <th>3</th>\n",
       "      <td>1</td>\n",
       "      <td>[[[58, 86, 93], [59, 87, 94], [62, 89, 95], [6...</td>\n",
       "      <td>SingleFace</td>\n",
       "    </tr>\n",
       "    <tr>\n",
       "      <th>4</th>\n",
       "      <td>16</td>\n",
       "      <td>[[[167, 189, 201], [167, 190, 202], [168, 192,...</td>\n",
       "      <td>SingleFace</td>\n",
       "    </tr>\n",
       "    <tr>\n",
       "      <th>...</th>\n",
       "      <td>...</td>\n",
       "      <td>...</td>\n",
       "      <td>...</td>\n",
       "    </tr>\n",
       "    <tr>\n",
       "      <th>524</th>\n",
       "      <td>17</td>\n",
       "      <td>[[[174, 186, 190], [169, 182, 186], [159, 172,...</td>\n",
       "      <td>SingleFace</td>\n",
       "    </tr>\n",
       "    <tr>\n",
       "      <th>525</th>\n",
       "      <td>30</td>\n",
       "      <td>[[[20, 33, 47], [19, 32, 47], [16, 31, 46], [1...</td>\n",
       "      <td>SingleFace</td>\n",
       "    </tr>\n",
       "    <tr>\n",
       "      <th>526</th>\n",
       "      <td>13</td>\n",
       "      <td>[[[33, 101, 190], [34, 101, 187], [36, 100, 18...</td>\n",
       "      <td>SingleFace</td>\n",
       "    </tr>\n",
       "    <tr>\n",
       "      <th>527</th>\n",
       "      <td>23</td>\n",
       "      <td>[[[14, 27, 29], [13, 26, 28], [11, 25, 27], [8...</td>\n",
       "      <td>SingleFace</td>\n",
       "    </tr>\n",
       "    <tr>\n",
       "      <th>528</th>\n",
       "      <td>17</td>\n",
       "      <td>[[[81, 94, 110], [80, 95, 112], [77, 98, 118],...</td>\n",
       "      <td>SingleFace</td>\n",
       "    </tr>\n",
       "  </tbody>\n",
       "</table>\n",
       "<p>529 rows × 3 columns</p>\n",
       "</div>"
      ],
      "text/plain": [
       "     PersonID                                           ImageBGR DetectionType\n",
       "0          28  [[[70, 96, 113], [70, 97, 114], [71, 99, 116],...    SingleFace\n",
       "1          13  [[[10, 24, 52], [14, 28, 55], [24, 38, 65], [3...    SingleFace\n",
       "2          29  [[[215, 181, 187], [216, 181, 187], [218, 180,...  MultipleFace\n",
       "3           1  [[[58, 86, 93], [59, 87, 94], [62, 89, 95], [6...    SingleFace\n",
       "4          16  [[[167, 189, 201], [167, 190, 202], [168, 192,...    SingleFace\n",
       "..        ...                                                ...           ...\n",
       "524        17  [[[174, 186, 190], [169, 182, 186], [159, 172,...    SingleFace\n",
       "525        30  [[[20, 33, 47], [19, 32, 47], [16, 31, 46], [1...    SingleFace\n",
       "526        13  [[[33, 101, 190], [34, 101, 187], [36, 100, 18...    SingleFace\n",
       "527        23  [[[14, 27, 29], [13, 26, 28], [11, 25, 27], [8...    SingleFace\n",
       "528        17  [[[81, 94, 110], [80, 95, 112], [77, 98, 118],...    SingleFace\n",
       "\n",
       "[529 rows x 3 columns]"
      ]
     },
     "execution_count": 5,
     "metadata": {},
     "output_type": "execute_result"
    }
   ],
   "source": [
    "#FaceOnly Training data is being read from md5 file\n",
    "trainingDf = pd.read_pickle(\"../../../Data/Between80And90/FaceOnly/Training.pkl\")\n",
    "trainingDf"
   ]
  },
  {
   "cell_type": "code",
   "execution_count": 6,
   "metadata": {},
   "outputs": [
    {
     "data": {
      "text/plain": [
       "(529, 224, 224, 3)"
      ]
     },
     "execution_count": 6,
     "metadata": {},
     "output_type": "execute_result"
    }
   ],
   "source": [
    "#trainingX is being extracted from trainingDf as wanted shape\n",
    "#trainingX contains images with pixel values of data type np.uint8 in the range [0, 255]\n",
    "\n",
    "#Many pre-trained models, including the ones to be used within the scope of this project,\n",
    "#have been trained with images containing pixel values in the [-1, 1] range\n",
    "#In this way, the data will be symmetrical and the performance of the Backpropagation algorithm will be increased\n",
    "#See https://en.wikipedia.org/wiki/Backpropagation\n",
    "#See also https://stackoverflow.com/questions/59540276/why-in-preprocessing-image-data-we-need-to-do-zero-centered-data\n",
    "#Therefore, training will be performed by converting pixel values to this range with the simplest method (pixel / 127.5 - 1)\n",
    "\n",
    "trainingX = (np.array(trainingDf.ImageBGR.values.tolist()) / 127.5) - 1\n",
    "trainingX.shape"
   ]
  },
  {
   "cell_type": "code",
   "execution_count": 7,
   "metadata": {},
   "outputs": [
    {
     "data": {
      "text/plain": [
       "(529, 1)"
      ]
     },
     "execution_count": 7,
     "metadata": {},
     "output_type": "execute_result"
    }
   ],
   "source": [
    "#trainingY is being extracted from trainingDf as wanted shape\n",
    "trainingY = np.array(trainingDf.PersonID.values.tolist()).reshape((-1,1))\n",
    "trainingY.shape"
   ]
  },
  {
   "cell_type": "code",
   "execution_count": 8,
   "metadata": {},
   "outputs": [
    {
     "data": {
      "text/html": [
       "<div>\n",
       "<style scoped>\n",
       "    .dataframe tbody tr th:only-of-type {\n",
       "        vertical-align: middle;\n",
       "    }\n",
       "\n",
       "    .dataframe tbody tr th {\n",
       "        vertical-align: top;\n",
       "    }\n",
       "\n",
       "    .dataframe thead th {\n",
       "        text-align: right;\n",
       "    }\n",
       "</style>\n",
       "<table border=\"1\" class=\"dataframe\">\n",
       "  <thead>\n",
       "    <tr style=\"text-align: right;\">\n",
       "      <th></th>\n",
       "      <th>PersonID</th>\n",
       "      <th>ImageBGR</th>\n",
       "      <th>DetectionType</th>\n",
       "    </tr>\n",
       "  </thead>\n",
       "  <tbody>\n",
       "    <tr>\n",
       "      <th>0</th>\n",
       "      <td>36</td>\n",
       "      <td>[[[227, 227, 227], [227, 227, 227], [227, 227,...</td>\n",
       "      <td>SingleFace</td>\n",
       "    </tr>\n",
       "    <tr>\n",
       "      <th>1</th>\n",
       "      <td>27</td>\n",
       "      <td>[[[59, 122, 143], [63, 127, 148], [72, 136, 15...</td>\n",
       "      <td>SingleFace</td>\n",
       "    </tr>\n",
       "    <tr>\n",
       "      <th>2</th>\n",
       "      <td>22</td>\n",
       "      <td>[[[90, 112, 124], [89, 111, 123], [88, 110, 12...</td>\n",
       "      <td>SingleFace</td>\n",
       "    </tr>\n",
       "    <tr>\n",
       "      <th>3</th>\n",
       "      <td>33</td>\n",
       "      <td>[[[234, 238, 239], [233, 238, 239], [232, 237,...</td>\n",
       "      <td>SingleFace</td>\n",
       "    </tr>\n",
       "    <tr>\n",
       "      <th>4</th>\n",
       "      <td>26</td>\n",
       "      <td>[[[77, 100, 96], [83, 107, 101], [96, 120, 112...</td>\n",
       "      <td>SingleFace</td>\n",
       "    </tr>\n",
       "    <tr>\n",
       "      <th>...</th>\n",
       "      <td>...</td>\n",
       "      <td>...</td>\n",
       "      <td>...</td>\n",
       "    </tr>\n",
       "    <tr>\n",
       "      <th>116</th>\n",
       "      <td>8</td>\n",
       "      <td>[[[39, 10, 0], [34, 8, 0], [26, 4, 0], [21, 2,...</td>\n",
       "      <td>SingleFace</td>\n",
       "    </tr>\n",
       "    <tr>\n",
       "      <th>117</th>\n",
       "      <td>29</td>\n",
       "      <td>[[[243, 248, 247], [243, 248, 247], [242, 247,...</td>\n",
       "      <td>SingleFace</td>\n",
       "    </tr>\n",
       "    <tr>\n",
       "      <th>118</th>\n",
       "      <td>5</td>\n",
       "      <td>[[[15, 12, 14], [15, 12, 14], [15, 12, 14], [1...</td>\n",
       "      <td>SingleFace</td>\n",
       "    </tr>\n",
       "    <tr>\n",
       "      <th>119</th>\n",
       "      <td>2</td>\n",
       "      <td>[[[13, 21, 28], [13, 21, 28], [14, 22, 29], [1...</td>\n",
       "      <td>SingleFace</td>\n",
       "    </tr>\n",
       "    <tr>\n",
       "      <th>120</th>\n",
       "      <td>26</td>\n",
       "      <td>[[[50, 87, 101], [49, 86, 100], [47, 84, 98], ...</td>\n",
       "      <td>SingleFace</td>\n",
       "    </tr>\n",
       "  </tbody>\n",
       "</table>\n",
       "<p>121 rows × 3 columns</p>\n",
       "</div>"
      ],
      "text/plain": [
       "     PersonID                                           ImageBGR DetectionType\n",
       "0          36  [[[227, 227, 227], [227, 227, 227], [227, 227,...    SingleFace\n",
       "1          27  [[[59, 122, 143], [63, 127, 148], [72, 136, 15...    SingleFace\n",
       "2          22  [[[90, 112, 124], [89, 111, 123], [88, 110, 12...    SingleFace\n",
       "3          33  [[[234, 238, 239], [233, 238, 239], [232, 237,...    SingleFace\n",
       "4          26  [[[77, 100, 96], [83, 107, 101], [96, 120, 112...    SingleFace\n",
       "..        ...                                                ...           ...\n",
       "116         8  [[[39, 10, 0], [34, 8, 0], [26, 4, 0], [21, 2,...    SingleFace\n",
       "117        29  [[[243, 248, 247], [243, 248, 247], [242, 247,...    SingleFace\n",
       "118         5  [[[15, 12, 14], [15, 12, 14], [15, 12, 14], [1...    SingleFace\n",
       "119         2  [[[13, 21, 28], [13, 21, 28], [14, 22, 29], [1...    SingleFace\n",
       "120        26  [[[50, 87, 101], [49, 86, 100], [47, 84, 98], ...    SingleFace\n",
       "\n",
       "[121 rows x 3 columns]"
      ]
     },
     "execution_count": 8,
     "metadata": {},
     "output_type": "execute_result"
    }
   ],
   "source": [
    "#FaceOnly Validation data is being read from md5 file\n",
    "validationDf = pd.read_pickle(\"../../../Data/Between80And90/FaceOnly/Validation.pkl\")\n",
    "validationDf"
   ]
  },
  {
   "cell_type": "code",
   "execution_count": 9,
   "metadata": {},
   "outputs": [
    {
     "data": {
      "text/plain": [
       "(121, 224, 224, 3)"
      ]
     },
     "execution_count": 9,
     "metadata": {},
     "output_type": "execute_result"
    }
   ],
   "source": [
    "#validationX is being extracted from validationDf as wanted shape\n",
    "#validationX contains images with pixel values of data type np.uint8 in the range [0, 255]\n",
    "\n",
    "#Many pre-trained models, including the ones to be used within the scope of this project,\n",
    "#have been trained with images containing pixel values in the [-1, 1] range\n",
    "#In this way, the data will be symmetrical and the performance of the Backpropagation algorithm will be increased\n",
    "#See https://en.wikipedia.org/wiki/Backpropagation\n",
    "#See also https://stackoverflow.com/questions/59540276/why-in-preprocessing-image-data-we-need-to-do-zero-centered-data\n",
    "#Therefore, training will be performed by converting pixel values to this range with the simplest method (pixel / 127.5 - 1)\n",
    "\n",
    "validationX = (np.array(validationDf.ImageBGR.values.tolist()) / 127.5) - 1\n",
    "validationX.shape"
   ]
  },
  {
   "cell_type": "code",
   "execution_count": 10,
   "metadata": {},
   "outputs": [
    {
     "data": {
      "text/plain": [
       "(121, 1)"
      ]
     },
     "execution_count": 10,
     "metadata": {},
     "output_type": "execute_result"
    }
   ],
   "source": [
    "#validationY is being extracted from validationDf as wanted shape\n",
    "validationY = np.array(validationDf.PersonID.values.tolist()).reshape((-1,1))\n",
    "validationY.shape"
   ]
  },
  {
   "cell_type": "code",
   "execution_count": 11,
   "metadata": {},
   "outputs": [
    {
     "name": "stdout",
     "output_type": "stream",
     "text": [
      "Model: \"vgg16\"\n",
      "_________________________________________________________________\n",
      "Layer (type)                 Output Shape              Param #   \n",
      "=================================================================\n",
      "input_1 (InputLayer)         [(None, 224, 224, 3)]     0         \n",
      "_________________________________________________________________\n",
      "block1_conv1 (Conv2D)        (None, 224, 224, 64)      1792      \n",
      "_________________________________________________________________\n",
      "block1_conv2 (Conv2D)        (None, 224, 224, 64)      36928     \n",
      "_________________________________________________________________\n",
      "block1_pool (MaxPooling2D)   (None, 112, 112, 64)      0         \n",
      "_________________________________________________________________\n",
      "block2_conv1 (Conv2D)        (None, 112, 112, 128)     73856     \n",
      "_________________________________________________________________\n",
      "block2_conv2 (Conv2D)        (None, 112, 112, 128)     147584    \n",
      "_________________________________________________________________\n",
      "block2_pool (MaxPooling2D)   (None, 56, 56, 128)       0         \n",
      "_________________________________________________________________\n",
      "block3_conv1 (Conv2D)        (None, 56, 56, 256)       295168    \n",
      "_________________________________________________________________\n",
      "block3_conv2 (Conv2D)        (None, 56, 56, 256)       590080    \n",
      "_________________________________________________________________\n",
      "block3_conv3 (Conv2D)        (None, 56, 56, 256)       590080    \n",
      "_________________________________________________________________\n",
      "block3_pool (MaxPooling2D)   (None, 28, 28, 256)       0         \n",
      "_________________________________________________________________\n",
      "block4_conv1 (Conv2D)        (None, 28, 28, 512)       1180160   \n",
      "_________________________________________________________________\n",
      "block4_conv2 (Conv2D)        (None, 28, 28, 512)       2359808   \n",
      "_________________________________________________________________\n",
      "block4_conv3 (Conv2D)        (None, 28, 28, 512)       2359808   \n",
      "_________________________________________________________________\n",
      "block4_pool (MaxPooling2D)   (None, 14, 14, 512)       0         \n",
      "_________________________________________________________________\n",
      "block5_conv1 (Conv2D)        (None, 14, 14, 512)       2359808   \n",
      "_________________________________________________________________\n",
      "block5_conv2 (Conv2D)        (None, 14, 14, 512)       2359808   \n",
      "_________________________________________________________________\n",
      "block5_conv3 (Conv2D)        (None, 14, 14, 512)       2359808   \n",
      "_________________________________________________________________\n",
      "block5_pool (MaxPooling2D)   (None, 7, 7, 512)         0         \n",
      "=================================================================\n",
      "Total params: 14,714,688\n",
      "Trainable params: 14,714,688\n",
      "Non-trainable params: 0\n",
      "_________________________________________________________________\n"
     ]
    }
   ],
   "source": [
    "#VGG16 pre-trained model is being loaded\n",
    "#The original VGG16 model was trained with images with size of (224, 224, 3) \n",
    "#in BGR color order and pixel values of [-1, 1] (zero centered) as default\n",
    "#See https://keras.io/api/applications/vgg/ for more information\n",
    "#Since images of dataset saved as size of (224, 224, 3) in BGR color order and pixel values of [0, 255]\n",
    "#Pixel values were converted to [-1, 1] range while preparing trainingX and validationX\n",
    "\n",
    "#Training will be performed in the sections between the last CNN block and the Output layer\n",
    "\n",
    "model = tf.keras.applications.vgg16.VGG16(include_top = False, input_shape = ((224, 224, 3)))\n",
    "model.summary()"
   ]
  },
  {
   "cell_type": "code",
   "execution_count": 12,
   "metadata": {},
   "outputs": [
    {
     "data": {
      "text/plain": [
       "15"
      ]
     },
     "execution_count": 12,
     "metadata": {},
     "output_type": "execute_result"
    }
   ],
   "source": [
    "#Number of layers of pre-trained model is being calculated except last CNN block\n",
    "nonTrainablePart = len(model.layers) - 4\n",
    "nonTrainablePart"
   ]
  },
  {
   "cell_type": "code",
   "execution_count": 13,
   "metadata": {},
   "outputs": [
    {
     "name": "stdout",
     "output_type": "stream",
     "text": [
      "Model: \"vgg16\"\n",
      "_________________________________________________________________\n",
      "Layer (type)                 Output Shape              Param #   \n",
      "=================================================================\n",
      "input_1 (InputLayer)         [(None, 224, 224, 3)]     0         \n",
      "_________________________________________________________________\n",
      "block1_conv1 (Conv2D)        (None, 224, 224, 64)      1792      \n",
      "_________________________________________________________________\n",
      "block1_conv2 (Conv2D)        (None, 224, 224, 64)      36928     \n",
      "_________________________________________________________________\n",
      "block1_pool (MaxPooling2D)   (None, 112, 112, 64)      0         \n",
      "_________________________________________________________________\n",
      "block2_conv1 (Conv2D)        (None, 112, 112, 128)     73856     \n",
      "_________________________________________________________________\n",
      "block2_conv2 (Conv2D)        (None, 112, 112, 128)     147584    \n",
      "_________________________________________________________________\n",
      "block2_pool (MaxPooling2D)   (None, 56, 56, 128)       0         \n",
      "_________________________________________________________________\n",
      "block3_conv1 (Conv2D)        (None, 56, 56, 256)       295168    \n",
      "_________________________________________________________________\n",
      "block3_conv2 (Conv2D)        (None, 56, 56, 256)       590080    \n",
      "_________________________________________________________________\n",
      "block3_conv3 (Conv2D)        (None, 56, 56, 256)       590080    \n",
      "_________________________________________________________________\n",
      "block3_pool (MaxPooling2D)   (None, 28, 28, 256)       0         \n",
      "_________________________________________________________________\n",
      "block4_conv1 (Conv2D)        (None, 28, 28, 512)       1180160   \n",
      "_________________________________________________________________\n",
      "block4_conv2 (Conv2D)        (None, 28, 28, 512)       2359808   \n",
      "_________________________________________________________________\n",
      "block4_conv3 (Conv2D)        (None, 28, 28, 512)       2359808   \n",
      "_________________________________________________________________\n",
      "block4_pool (MaxPooling2D)   (None, 14, 14, 512)       0         \n",
      "_________________________________________________________________\n",
      "block5_conv1 (Conv2D)        (None, 14, 14, 512)       2359808   \n",
      "_________________________________________________________________\n",
      "block5_conv2 (Conv2D)        (None, 14, 14, 512)       2359808   \n",
      "_________________________________________________________________\n",
      "block5_conv3 (Conv2D)        (None, 14, 14, 512)       2359808   \n",
      "_________________________________________________________________\n",
      "block5_pool (MaxPooling2D)   (None, 7, 7, 512)         0         \n",
      "=================================================================\n",
      "Total params: 14,714,688\n",
      "Trainable params: 7,079,424\n",
      "Non-trainable params: 7,635,264\n",
      "_________________________________________________________________\n"
     ]
    }
   ],
   "source": [
    "#Pre-trained model's layers except the last CNN block is being set to non-trainable\n",
    "for layer in model.layers[:nonTrainablePart]:\n",
    "    layer.trainable = False\n",
    "model.summary()"
   ]
  },
  {
   "cell_type": "code",
   "execution_count": 14,
   "metadata": {},
   "outputs": [
    {
     "name": "stdout",
     "output_type": "stream",
     "text": [
      "Model: \"sequential\"\n",
      "_________________________________________________________________\n",
      "Layer (type)                 Output Shape              Param #   \n",
      "=================================================================\n",
      "vgg16 (Functional)           (None, 7, 7, 512)         14714688  \n",
      "_________________________________________________________________\n",
      "flatten (Flatten)            (None, 25088)             0         \n",
      "_________________________________________________________________\n",
      "dense (Dense)                (None, 2048)              51382272  \n",
      "_________________________________________________________________\n",
      "dense_1 (Dense)              (None, 2048)              4196352   \n",
      "_________________________________________________________________\n",
      "dropout (Dropout)            (None, 2048)              0         \n",
      "_________________________________________________________________\n",
      "dense_2 (Dense)              (None, 40)                81960     \n",
      "=================================================================\n",
      "Total params: 70,375,272\n",
      "Trainable params: 62,740,008\n",
      "Non-trainable params: 7,635,264\n",
      "_________________________________________________________________\n"
     ]
    }
   ],
   "source": [
    "#The pre-trained model is being connected to the fully connected layer\n",
    "#A dropout layer is being added to the the model to prevent overfitting,\n",
    "#and the model is being completed with the addition of the output layer\n",
    "model = tf.keras.models.Sequential([\n",
    "    model,\n",
    "    tf.keras.layers.Flatten(),\n",
    "    tf.keras.layers.Dense(2048, activation = 'relu'),\n",
    "    tf.keras.layers.Dense(2048, activation = 'relu'),\n",
    "    tf.keras.layers.Dropout(0.2),\n",
    "    tf.keras.layers.Dense(personDf.shape[0], activation = tf.nn.softmax)\n",
    "])\n",
    "model.summary()"
   ]
  },
  {
   "cell_type": "code",
   "execution_count": 15,
   "metadata": {},
   "outputs": [],
   "source": [
    "#Model is being compiled with Adam optimizer\n",
    "#Adam optimizer is a common used optimizer\n",
    "#See https://keras.io/api/optimizers/adam/\n",
    "#See also https://towardsdatascience.com/7-tips-to-choose-the-best-optimizer-47bb9c1219e\n",
    "#SparseCategoricalCrossentropy loss function is being used because of the label format of the data\n",
    "#SparseCategoricalAccuracy is being used as metric because of the label format of the data\n",
    "model.compile(\n",
    "    optimizer=tf.keras.optimizers.Adam(),\n",
    "    loss=tf.keras.losses.SparseCategoricalCrossentropy(),\n",
    "    metrics=[tf.keras.metrics.SparseCategoricalAccuracy(name = 'accuracy')]\n",
    ")"
   ]
  },
  {
   "cell_type": "code",
   "execution_count": 16,
   "metadata": {},
   "outputs": [],
   "source": [
    "#A class inherited from keras utils Sequence is being created\n",
    "class FitSequence(tf.keras.utils.Sequence):\n",
    "    \n",
    "    #Constructor method is being defined\n",
    "    def __init__(self, image, label, batchSize):\n",
    "        self.image, self.label = image, label\n",
    "        self.batchSize = batchSize\n",
    "        \n",
    "        #A numpy array for image indexes is being created\n",
    "        #This array will be used to shuffle the data\n",
    "        self.index = np.arange(self.image.shape[0])\n",
    "    \n",
    "    #__len__ method is being defined\n",
    "    #This method will be used by the model to show the amount of progress of each epoch\n",
    "    def __len__(self):\n",
    "        return int(np.ceil(self.image.shape[0] / float(self.batchSize)))\n",
    "    \n",
    "    #__getitem__ method is being defined\n",
    "    #The model will retrieve the batches it will use during training by calling this method\n",
    "    #With this method, the data to be used by the model can be manipulated\n",
    "    def __getitem__(self, idx):\n",
    "        \n",
    "        #When the model requests data, the next batch size will be selected based on index array\n",
    "        indexPart = self.index[idx * self.batchSize : (idx + 1) * self.batchSize]\n",
    "        \n",
    "        batchX = self.image[indexPart]\n",
    "        batchY = self.label[indexPart]\n",
    "        return np.array(batchX), np.array(batchY)\n",
    "    \n",
    "    #on_epoch_end method is being defined\n",
    "    #The model will call this method after each epoch is ended\n",
    "    def on_epoch_end(self):\n",
    "        \n",
    "        #At the end of the epoch, the index array is being shuffled \n",
    "        #so that the data in the next epoch is returned in different orders\n",
    "        np.random.shuffle(self.index)"
   ]
  },
  {
   "cell_type": "code",
   "execution_count": 17,
   "metadata": {},
   "outputs": [
    {
     "name": "stdout",
     "output_type": "stream",
     "text": [
      "Epoch 1/50\n",
      "34/34 [==============================] - 49s 1s/step - loss: 4.2344 - accuracy: 0.0189 - val_loss: 3.6859 - val_accuracy: 0.0331\n",
      "Epoch 2/50\n",
      "34/34 [==============================] - 25s 741ms/step - loss: 3.6902 - accuracy: 0.0227 - val_loss: 3.6850 - val_accuracy: 0.0413\n",
      "Epoch 3/50\n",
      "34/34 [==============================] - 25s 741ms/step - loss: 3.6893 - accuracy: 0.0302 - val_loss: 3.6833 - val_accuracy: 0.0248\n",
      "Epoch 4/50\n",
      "34/34 [==============================] - 25s 741ms/step - loss: 3.6888 - accuracy: 0.0246 - val_loss: 3.6826 - val_accuracy: 0.0331\n",
      "Epoch 5/50\n",
      "34/34 [==============================] - 25s 741ms/step - loss: 3.6878 - accuracy: 0.0265 - val_loss: 3.6808 - val_accuracy: 0.0413\n",
      "Epoch 6/50\n",
      "34/34 [==============================] - 25s 745ms/step - loss: 3.6880 - accuracy: 0.0227 - val_loss: 3.6803 - val_accuracy: 0.0248\n",
      "Epoch 7/50\n",
      "34/34 [==============================] - 25s 749ms/step - loss: 3.6876 - accuracy: 0.0284 - val_loss: 3.6784 - val_accuracy: 0.0413\n",
      "Epoch 8/50\n",
      "34/34 [==============================] - 26s 753ms/step - loss: 3.6876 - accuracy: 0.0302 - val_loss: 3.6758 - val_accuracy: 0.0248\n",
      "Epoch 9/50\n",
      "34/34 [==============================] - 26s 767ms/step - loss: 3.6873 - accuracy: 0.0302 - val_loss: 3.6749 - val_accuracy: 0.0248\n",
      "Epoch 10/50\n",
      "34/34 [==============================] - 26s 766ms/step - loss: 3.6868 - accuracy: 0.0302 - val_loss: 3.6744 - val_accuracy: 0.0248\n",
      "Epoch 11/50\n",
      "34/34 [==============================] - 26s 774ms/step - loss: 3.6875 - accuracy: 0.0302 - val_loss: 3.6698 - val_accuracy: 0.0248\n",
      "Epoch 12/50\n",
      "34/34 [==============================] - 26s 781ms/step - loss: 3.6881 - accuracy: 0.0302 - val_loss: 3.6709 - val_accuracy: 0.0248\n",
      "Epoch 13/50\n",
      "34/34 [==============================] - 27s 787ms/step - loss: 3.6864 - accuracy: 0.0151 - val_loss: 3.6727 - val_accuracy: 0.0248\n",
      "Epoch 14/50\n",
      "34/34 [==============================] - 27s 786ms/step - loss: 3.6866 - accuracy: 0.0227 - val_loss: 3.6714 - val_accuracy: 0.0248\n",
      "Epoch 15/50\n",
      "34/34 [==============================] - 27s 785ms/step - loss: 3.6859 - accuracy: 0.0302 - val_loss: 3.6706 - val_accuracy: 0.0248\n",
      "Epoch 16/50\n",
      "34/34 [==============================] - 27s 786ms/step - loss: 3.6863 - accuracy: 0.0340 - val_loss: 3.6736 - val_accuracy: 0.0248\n",
      "Epoch 17/50\n",
      "34/34 [==============================] - 27s 790ms/step - loss: 3.6856 - accuracy: 0.0284 - val_loss: 3.6718 - val_accuracy: 0.0248\n",
      "Epoch 18/50\n",
      "34/34 [==============================] - 27s 795ms/step - loss: 3.6859 - accuracy: 0.0302 - val_loss: 3.6725 - val_accuracy: 0.0248\n",
      "Epoch 19/50\n",
      "34/34 [==============================] - 27s 795ms/step - loss: 3.6854 - accuracy: 0.0340 - val_loss: 3.6754 - val_accuracy: 0.0248\n",
      "Epoch 20/50\n",
      "34/34 [==============================] - 27s 791ms/step - loss: 3.6856 - accuracy: 0.0359 - val_loss: 3.6755 - val_accuracy: 0.0248\n",
      "Epoch 21/50\n",
      "34/34 [==============================] - 27s 791ms/step - loss: 3.6855 - accuracy: 0.0265 - val_loss: 3.6745 - val_accuracy: 0.0248\n",
      "Epoch 22/50\n",
      "34/34 [==============================] - 27s 792ms/step - loss: 3.6852 - accuracy: 0.0378 - val_loss: 3.6733 - val_accuracy: 0.0413\n",
      "Epoch 23/50\n",
      "34/34 [==============================] - 28s 806ms/step - loss: 3.6853 - accuracy: 0.0302 - val_loss: 3.6716 - val_accuracy: 0.0413\n",
      "Epoch 24/50\n",
      "34/34 [==============================] - 27s 800ms/step - loss: 3.6860 - accuracy: 0.0302 - val_loss: 3.6716 - val_accuracy: 0.0413\n",
      "Epoch 25/50\n",
      "34/34 [==============================] - 27s 786ms/step - loss: 3.6858 - accuracy: 0.0302 - val_loss: 3.6710 - val_accuracy: 0.0413\n",
      "Epoch 26/50\n",
      "34/34 [==============================] - 28s 814ms/step - loss: 3.6853 - accuracy: 0.0340 - val_loss: 3.6712 - val_accuracy: 0.0165\n",
      "Epoch 27/50\n",
      "34/34 [==============================] - 28s 814ms/step - loss: 3.6856 - accuracy: 0.0302 - val_loss: 3.6723 - val_accuracy: 0.0165\n",
      "Epoch 28/50\n",
      "34/34 [==============================] - 28s 819ms/step - loss: 3.6847 - accuracy: 0.0321 - val_loss: 3.6728 - val_accuracy: 0.0165\n",
      "Epoch 29/50\n",
      "34/34 [==============================] - 27s 801ms/step - loss: 3.6860 - accuracy: 0.0302 - val_loss: 3.6716 - val_accuracy: 0.0165\n",
      "Epoch 30/50\n",
      "34/34 [==============================] - 26s 781ms/step - loss: 3.6853 - accuracy: 0.0302 - val_loss: 3.6723 - val_accuracy: 0.0165\n",
      "Epoch 31/50\n",
      "34/34 [==============================] - 26s 779ms/step - loss: 3.6860 - accuracy: 0.0302 - val_loss: 3.6730 - val_accuracy: 0.0165\n",
      "Epoch 32/50\n",
      "34/34 [==============================] - 26s 770ms/step - loss: 3.6857 - accuracy: 0.0302 - val_loss: 3.6742 - val_accuracy: 0.0165\n",
      "Epoch 33/50\n",
      "34/34 [==============================] - 27s 792ms/step - loss: 3.6852 - accuracy: 0.0302 - val_loss: 3.6728 - val_accuracy: 0.0165\n",
      "Epoch 34/50\n",
      "34/34 [==============================] - 27s 794ms/step - loss: 3.6851 - accuracy: 0.0302 - val_loss: 3.6718 - val_accuracy: 0.0413\n",
      "Epoch 35/50\n",
      "34/34 [==============================] - 27s 794ms/step - loss: 3.6854 - accuracy: 0.0189 - val_loss: 3.6730 - val_accuracy: 0.0413\n",
      "Epoch 36/50\n",
      "34/34 [==============================] - 27s 802ms/step - loss: 3.6853 - accuracy: 0.0284 - val_loss: 3.6725 - val_accuracy: 0.0413\n",
      "Epoch 37/50\n",
      "34/34 [==============================] - 28s 812ms/step - loss: 3.6858 - accuracy: 0.0302 - val_loss: 3.6721 - val_accuracy: 0.0413\n",
      "Epoch 38/50\n",
      "34/34 [==============================] - 28s 815ms/step - loss: 3.6851 - accuracy: 0.0302 - val_loss: 3.6713 - val_accuracy: 0.0413\n",
      "Epoch 39/50\n",
      "34/34 [==============================] - 28s 815ms/step - loss: 3.6857 - accuracy: 0.0302 - val_loss: 3.6716 - val_accuracy: 0.0413\n",
      "Epoch 40/50\n",
      "34/34 [==============================] - 28s 811ms/step - loss: 3.6854 - accuracy: 0.0302 - val_loss: 3.6715 - val_accuracy: 0.0413\n",
      "Epoch 41/50\n",
      "34/34 [==============================] - 28s 814ms/step - loss: 3.6851 - accuracy: 0.0302 - val_loss: 3.6709 - val_accuracy: 0.0413\n",
      "Epoch 42/50\n",
      "34/34 [==============================] - 28s 812ms/step - loss: 3.6853 - accuracy: 0.0302 - val_loss: 3.6712 - val_accuracy: 0.0413\n",
      "Epoch 43/50\n",
      "34/34 [==============================] - 28s 813ms/step - loss: 3.6852 - accuracy: 0.0302 - val_loss: 3.6723 - val_accuracy: 0.0413\n",
      "Epoch 44/50\n",
      "34/34 [==============================] - 27s 799ms/step - loss: 3.6847 - accuracy: 0.0302 - val_loss: 3.6718 - val_accuracy: 0.0413\n",
      "Epoch 45/50\n",
      "34/34 [==============================] - 27s 805ms/step - loss: 3.6850 - accuracy: 0.0302 - val_loss: 3.6723 - val_accuracy: 0.0413\n",
      "Epoch 46/50\n",
      "34/34 [==============================] - 28s 811ms/step - loss: 3.6848 - accuracy: 0.0302 - val_loss: 3.6717 - val_accuracy: 0.0413\n",
      "Epoch 47/50\n",
      "34/34 [==============================] - 27s 809ms/step - loss: 3.6857 - accuracy: 0.0302 - val_loss: 3.6700 - val_accuracy: 0.0413\n",
      "Epoch 48/50\n",
      "34/34 [==============================] - 28s 815ms/step - loss: 3.6857 - accuracy: 0.0302 - val_loss: 3.6683 - val_accuracy: 0.0413\n",
      "Epoch 49/50\n",
      "34/34 [==============================] - 27s 810ms/step - loss: 3.6848 - accuracy: 0.0302 - val_loss: 3.6694 - val_accuracy: 0.0413\n",
      "Epoch 50/50\n",
      "34/34 [==============================] - 28s 818ms/step - loss: 3.6855 - accuracy: 0.0302 - val_loss: 3.6705 - val_accuracy: 0.0413\n"
     ]
    }
   ],
   "source": [
    "#model is being trained with 50 epochs and 16 batchSize using GPU\n",
    "#A small batchSize value is being chosen to prevent GPU memory problem\n",
    "#Large batchSize reduce training time while also generally providing better results\n",
    "with tf.device(myGPU):\n",
    "    trainingHistory = model.fit(\n",
    "        FitSequence(trainingX, trainingY, 16),\n",
    "        epochs = 50,\n",
    "        validation_data = FitSequence(validationX, validationY, 16)\n",
    "    )"
   ]
  },
  {
   "cell_type": "code",
   "execution_count": 18,
   "metadata": {},
   "outputs": [
    {
     "data": {
      "image/png": "[encoded data removed]",
      "text/plain": [
       "<Figure size 432x288 with 1 Axes>"
      ]
     },
     "metadata": {
      "needs_background": "light"
     },
     "output_type": "display_data"
    }
   ],
   "source": [
    "#Loss Chart is being drawn\n",
    "\n",
    "#Chart Values\n",
    "plt.plot(trainingHistory.history['loss'])\n",
    "plt.plot(trainingHistory.history['val_loss'])\n",
    "\n",
    "#Chart Tittle\n",
    "plt.title('Model Loss Chart')\n",
    "\n",
    "#Chart Labels\n",
    "plt.ylabel('loss')\n",
    "plt.xlabel('epoch')\n",
    "\n",
    "#Chart Lines\n",
    "plt.legend(['Training', 'Validation'], loc='upper left')\n",
    "\n",
    "#Show Method\n",
    "plt.show()"
   ]
  },
  {
   "cell_type": "code",
   "execution_count": 19,
   "metadata": {},
   "outputs": [
    {
     "data": {
      "image/png": "[encoded data removed]",
      "text/plain": [
       "<Figure size 432x288 with 1 Axes>"
      ]
     },
     "metadata": {
      "needs_background": "light"
     },
     "output_type": "display_data"
    }
   ],
   "source": [
    "#Loss Chart is being drawn\n",
    "\n",
    "#Chart Values\n",
    "plt.plot(trainingHistory.history['accuracy'])\n",
    "plt.plot(trainingHistory.history['val_accuracy'])\n",
    "\n",
    "#Chart Tittle\n",
    "plt.title('model accuracy')\n",
    "\n",
    "#Chart Labels\n",
    "plt.ylabel('accuracy')\n",
    "plt.xlabel('epoch')\n",
    "\n",
    "#Chart Lines\n",
    "plt.legend(['Training', 'Validation'], loc='upper left')\n",
    "\n",
    "#Show Method\n",
    "plt.show()"
   ]
  },
  {
   "cell_type": "code",
   "execution_count": 20,
   "metadata": {},
   "outputs": [
    {
     "data": {
      "text/html": [
       "<div>\n",
       "<style scoped>\n",
       "    .dataframe tbody tr th:only-of-type {\n",
       "        vertical-align: middle;\n",
       "    }\n",
       "\n",
       "    .dataframe tbody tr th {\n",
       "        vertical-align: top;\n",
       "    }\n",
       "\n",
       "    .dataframe thead th {\n",
       "        text-align: right;\n",
       "    }\n",
       "</style>\n",
       "<table border=\"1\" class=\"dataframe\">\n",
       "  <thead>\n",
       "    <tr style=\"text-align: right;\">\n",
       "      <th></th>\n",
       "      <th>PersonID</th>\n",
       "      <th>ImageBGR</th>\n",
       "      <th>DetectionType</th>\n",
       "    </tr>\n",
       "  </thead>\n",
       "  <tbody>\n",
       "    <tr>\n",
       "      <th>0</th>\n",
       "      <td>1</td>\n",
       "      <td>[[[43, 69, 53], [32, 58, 42], [13, 37, 22], [6...</td>\n",
       "      <td>SingleFace</td>\n",
       "    </tr>\n",
       "    <tr>\n",
       "      <th>1</th>\n",
       "      <td>13</td>\n",
       "      <td>[[[25, 29, 24], [24, 29, 24], [23, 29, 24], [2...</td>\n",
       "      <td>SingleFace</td>\n",
       "    </tr>\n",
       "    <tr>\n",
       "      <th>2</th>\n",
       "      <td>1</td>\n",
       "      <td>[[[176, 186, 216], [176, 186, 216], [176, 187,...</td>\n",
       "      <td>SingleFace</td>\n",
       "    </tr>\n",
       "    <tr>\n",
       "      <th>3</th>\n",
       "      <td>9</td>\n",
       "      <td>[[[136, 157, 155], [136, 157, 155], [137, 157,...</td>\n",
       "      <td>SingleFace</td>\n",
       "    </tr>\n",
       "    <tr>\n",
       "      <th>4</th>\n",
       "      <td>20</td>\n",
       "      <td>[[[46, 48, 49], [43, 45, 46], [37, 39, 40], [3...</td>\n",
       "      <td>SingleFace</td>\n",
       "    </tr>\n",
       "    <tr>\n",
       "      <th>...</th>\n",
       "      <td>...</td>\n",
       "      <td>...</td>\n",
       "      <td>...</td>\n",
       "    </tr>\n",
       "    <tr>\n",
       "      <th>115</th>\n",
       "      <td>34</td>\n",
       "      <td>[[[81, 86, 95], [82, 88, 97], [84, 93, 103], [...</td>\n",
       "      <td>SingleFace</td>\n",
       "    </tr>\n",
       "    <tr>\n",
       "      <th>116</th>\n",
       "      <td>31</td>\n",
       "      <td>[[[88, 90, 98], [88, 90, 98], [88, 90, 98], [8...</td>\n",
       "      <td>SingleFace</td>\n",
       "    </tr>\n",
       "    <tr>\n",
       "      <th>117</th>\n",
       "      <td>11</td>\n",
       "      <td>[[[20, 36, 42], [28, 44, 51], [43, 59, 65], [5...</td>\n",
       "      <td>SingleFace</td>\n",
       "    </tr>\n",
       "    <tr>\n",
       "      <th>118</th>\n",
       "      <td>14</td>\n",
       "      <td>[[[12, 31, 38], [12, 31, 38], [11, 31, 37], [1...</td>\n",
       "      <td>SingleFace</td>\n",
       "    </tr>\n",
       "    <tr>\n",
       "      <th>119</th>\n",
       "      <td>27</td>\n",
       "      <td>[[[154, 178, 202], [155, 179, 203], [157, 181,...</td>\n",
       "      <td>SingleFace</td>\n",
       "    </tr>\n",
       "  </tbody>\n",
       "</table>\n",
       "<p>120 rows × 3 columns</p>\n",
       "</div>"
      ],
      "text/plain": [
       "     PersonID                                           ImageBGR DetectionType\n",
       "0           1  [[[43, 69, 53], [32, 58, 42], [13, 37, 22], [6...    SingleFace\n",
       "1          13  [[[25, 29, 24], [24, 29, 24], [23, 29, 24], [2...    SingleFace\n",
       "2           1  [[[176, 186, 216], [176, 186, 216], [176, 187,...    SingleFace\n",
       "3           9  [[[136, 157, 155], [136, 157, 155], [137, 157,...    SingleFace\n",
       "4          20  [[[46, 48, 49], [43, 45, 46], [37, 39, 40], [3...    SingleFace\n",
       "..        ...                                                ...           ...\n",
       "115        34  [[[81, 86, 95], [82, 88, 97], [84, 93, 103], [...    SingleFace\n",
       "116        31  [[[88, 90, 98], [88, 90, 98], [88, 90, 98], [8...    SingleFace\n",
       "117        11  [[[20, 36, 42], [28, 44, 51], [43, 59, 65], [5...    SingleFace\n",
       "118        14  [[[12, 31, 38], [12, 31, 38], [11, 31, 37], [1...    SingleFace\n",
       "119        27  [[[154, 178, 202], [155, 179, 203], [157, 181,...    SingleFace\n",
       "\n",
       "[120 rows x 3 columns]"
      ]
     },
     "execution_count": 20,
     "metadata": {},
     "output_type": "execute_result"
    }
   ],
   "source": [
    "#FaceOnly Test data is being read from md5 file\n",
    "testDf = pd.read_pickle(\"../../../Data/Between80And90/FaceOnly/Test.pkl\")\n",
    "testDf"
   ]
  },
  {
   "cell_type": "code",
   "execution_count": 21,
   "metadata": {},
   "outputs": [
    {
     "data": {
      "text/plain": [
       "(120, 224, 224, 3)"
      ]
     },
     "execution_count": 21,
     "metadata": {},
     "output_type": "execute_result"
    }
   ],
   "source": [
    "#testX is being extracted from testDf as wanted shape\n",
    "#Pixel values are being converted  to the [-1, 1] range with the simplest method (pixel / 127.5 - 1)\n",
    "testX = (np.array(testDf.ImageBGR.values.tolist()) / 127.5) - 1\n",
    "testX.shape"
   ]
  },
  {
   "cell_type": "code",
   "execution_count": 22,
   "metadata": {},
   "outputs": [
    {
     "data": {
      "text/plain": [
       "(120, 1)"
      ]
     },
     "execution_count": 22,
     "metadata": {},
     "output_type": "execute_result"
    }
   ],
   "source": [
    "#testY is being extracted from testDf as wanted shape\n",
    "testY = np.array(testDf.PersonID.values.tolist()).reshape((-1,1))\n",
    "testY.shape"
   ]
  },
  {
   "cell_type": "code",
   "execution_count": 23,
   "metadata": {},
   "outputs": [
    {
     "name": "stdout",
     "output_type": "stream",
     "text": [
      "8/8 [==============================] - 10s 1s/step - loss: 3.6968 - accuracy: 0.0167\n"
     ]
    }
   ],
   "source": [
    "#Model is being evaluated with test data\n",
    "#Sequence class is being also used for evaluation to convert test data into the same format as training data\n",
    "testResult = model.evaluate(FitSequence(testX, testY, 16))"
   ]
  },
  {
   "cell_type": "code",
   "execution_count": 24,
   "metadata": {},
   "outputs": [
    {
     "name": "stdout",
     "output_type": "stream",
     "text": [
      "Test Loss: 3.6968061923980713\n"
     ]
    }
   ],
   "source": [
    "#Test Loss is being Printed\n",
    "print('Test Loss: ' + str(testResult[0]))"
   ]
  },
  {
   "cell_type": "code",
   "execution_count": 25,
   "metadata": {},
   "outputs": [
    {
     "name": "stdout",
     "output_type": "stream",
     "text": [
      "Test Accuracy: 0.01666666753590107\n"
     ]
    }
   ],
   "source": [
    "#Test Accuracy is being Printed\n",
    "print('Test Accuracy: ' + str(testResult[1]))"
   ]
  },
  {
   "cell_type": "markdown",
   "metadata": {},
   "source": [
    "# Training9 Inference\n",
    "\n",
    "By looking at the charts, it can be seen that learning does not take place.\n",
    "\n",
    "The model has not learned enough to have any success even on the Training data, even overfitting did not occur.\n",
    "\n",
    "Performance can be improved by trying Hyperparameter Optimization methods.\n",
    "\n",
    "See https://en.wikipedia.org/wiki/Hyperparameter_optimization."
   ]
  }
 ],
 "metadata": {
  "kernelspec": {
   "display_name": "Py39AI",
   "language": "python",
   "name": "py39ai"
  },
  "language_info": {
   "codemirror_mode": {
    "name": "ipython",
    "version": 3
   },
   "file_extension": ".py",
   "mimetype": "text/x-python",
   "name": "python",
   "nbconvert_exporter": "python",
   "pygments_lexer": "ipython3",
   "version": "3.9.12"
  }
 },
 "nbformat": 4,
 "nbformat_minor": 2
}
