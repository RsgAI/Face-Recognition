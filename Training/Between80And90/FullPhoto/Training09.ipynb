{
 "cells": [
  {
   "cell_type": "markdown",
   "metadata": {},
   "source": [
    "# Training9\n",
    "\n",
    "In this notebook file, Between80And90-FullPhoto dataset will be read from pkl file.\n",
    "\n",
    "Input(X) and Output(Y) numpy arrays will be created from pandas dataframes.\n",
    "\n",
    "VGG16 pre-trained model will be load and used.\n",
    "\n",
    "Pre-trained model's layers except the last CNN block will be set to non-trainable.\n",
    "\n",
    "Training will be performed in the sections between the last CNN block and the Output layer.\n",
    "\n",
    "In this way, the experience gained by the model on very large datasets will be used in this classification problem, while the last CNN block will be updated and fine-tuned.\n",
    "\n",
    "This method is known as [**Fine-Tuning**](https://deeplizard.com/learn/video/5T-iXNNiwIs \"deeplizard\").\n",
    "\n",
    "See also [**Transfer Learning and Fine-Tuning**](https://www.tensorflow.org/tutorials/images/transfer_learning \"tensorflow\").\n",
    "\n",
    "A keras utils Sequence class will be defined so that operations can be performed on the data to be used during the training.\n",
    "\n",
    "Performance will be checked with Validation data while training model with Training data.\n",
    "\n",
    "Accuracy and Loss charts will be drawn according to epoch numbers.\n",
    "\n",
    "The results obtained by evaluating the model with Test data will be printed."
   ]
  },
  {
   "cell_type": "code",
   "execution_count": 1,
   "metadata": {},
   "outputs": [],
   "source": [
    "#Libraries are being imported\n",
    "import numpy as np\n",
    "import pandas as pd\n",
    "import tensorflow as tf\n",
    "import matplotlib\n",
    "import matplotlib.pyplot as plt"
   ]
  },
  {
   "cell_type": "code",
   "execution_count": 2,
   "metadata": {},
   "outputs": [
    {
     "name": "stdout",
     "output_type": "stream",
     "text": [
      "numpy Version: 1.22.3\n",
      "pandas Version: 1.4.3\n",
      "tensorflow Version: 2.6.0\n",
      "matplotlib Version: 3.5.2\n"
     ]
    }
   ],
   "source": [
    "#Library versions are being printed\n",
    "print('numpy Version: ' + np.__version__)\n",
    "print('pandas Version: ' + pd.__version__)\n",
    "print('tensorflow Version: ' + tf.__version__)\n",
    "print('matplotlib Version: ' + matplotlib.__version__)"
   ]
  },
  {
   "cell_type": "code",
   "execution_count": 3,
   "metadata": {},
   "outputs": [
    {
     "name": "stdout",
     "output_type": "stream",
     "text": [
      "/device:GPU:0\n"
     ]
    }
   ],
   "source": [
    "#GPU will be used for training\n",
    "myGPU = tf.test.gpu_device_name()\n",
    "if myGPU:\n",
    "    print(myGPU)\n",
    "else:\n",
    "    print(\"Error\")"
   ]
  },
  {
   "cell_type": "code",
   "execution_count": 4,
   "metadata": {},
   "outputs": [
    {
     "data": {
      "text/html": [
       "<div>\n",
       "<style scoped>\n",
       "    .dataframe tbody tr th:only-of-type {\n",
       "        vertical-align: middle;\n",
       "    }\n",
       "\n",
       "    .dataframe tbody tr th {\n",
       "        vertical-align: top;\n",
       "    }\n",
       "\n",
       "    .dataframe thead th {\n",
       "        text-align: right;\n",
       "    }\n",
       "</style>\n",
       "<table border=\"1\" class=\"dataframe\">\n",
       "  <thead>\n",
       "    <tr style=\"text-align: right;\">\n",
       "      <th></th>\n",
       "      <th>Name</th>\n",
       "    </tr>\n",
       "    <tr>\n",
       "      <th>ID</th>\n",
       "      <th></th>\n",
       "    </tr>\n",
       "  </thead>\n",
       "  <tbody>\n",
       "    <tr>\n",
       "      <th>0</th>\n",
       "      <td>Abdullah Gul</td>\n",
       "    </tr>\n",
       "    <tr>\n",
       "      <th>1</th>\n",
       "      <td>Amelie Mauresmo</td>\n",
       "    </tr>\n",
       "    <tr>\n",
       "      <th>2</th>\n",
       "      <td>Angelina Jolie</td>\n",
       "    </tr>\n",
       "    <tr>\n",
       "      <th>3</th>\n",
       "      <td>Bill Gates</td>\n",
       "    </tr>\n",
       "    <tr>\n",
       "      <th>4</th>\n",
       "      <td>Carlos Menem</td>\n",
       "    </tr>\n",
       "    <tr>\n",
       "      <th>5</th>\n",
       "      <td>Carlos Moya</td>\n",
       "    </tr>\n",
       "    <tr>\n",
       "      <th>6</th>\n",
       "      <td>Fidel Castro</td>\n",
       "    </tr>\n",
       "    <tr>\n",
       "      <th>7</th>\n",
       "      <td>George Robertson</td>\n",
       "    </tr>\n",
       "    <tr>\n",
       "      <th>8</th>\n",
       "      <td>Halle Berry</td>\n",
       "    </tr>\n",
       "    <tr>\n",
       "      <th>9</th>\n",
       "      <td>Hamid Karzai</td>\n",
       "    </tr>\n",
       "    <tr>\n",
       "      <th>10</th>\n",
       "      <td>Igor Ivanov</td>\n",
       "    </tr>\n",
       "    <tr>\n",
       "      <th>11</th>\n",
       "      <td>Jean Charest</td>\n",
       "    </tr>\n",
       "    <tr>\n",
       "      <th>12</th>\n",
       "      <td>Jennifer Aniston</td>\n",
       "    </tr>\n",
       "    <tr>\n",
       "      <th>13</th>\n",
       "      <td>Jennifer Lopez</td>\n",
       "    </tr>\n",
       "    <tr>\n",
       "      <th>14</th>\n",
       "      <td>Jiang Zemin</td>\n",
       "    </tr>\n",
       "    <tr>\n",
       "      <th>15</th>\n",
       "      <td>John Bolton</td>\n",
       "    </tr>\n",
       "    <tr>\n",
       "      <th>16</th>\n",
       "      <td>John Howard</td>\n",
       "    </tr>\n",
       "    <tr>\n",
       "      <th>17</th>\n",
       "      <td>John Kerry</td>\n",
       "    </tr>\n",
       "    <tr>\n",
       "      <th>18</th>\n",
       "      <td>John Snow</td>\n",
       "    </tr>\n",
       "    <tr>\n",
       "      <th>19</th>\n",
       "      <td>Joschka Fischer</td>\n",
       "    </tr>\n",
       "    <tr>\n",
       "      <th>20</th>\n",
       "      <td>Jose Maria Aznar</td>\n",
       "    </tr>\n",
       "    <tr>\n",
       "      <th>21</th>\n",
       "      <td>Julianne Moore</td>\n",
       "    </tr>\n",
       "    <tr>\n",
       "      <th>22</th>\n",
       "      <td>Lance Armstrong</td>\n",
       "    </tr>\n",
       "    <tr>\n",
       "      <th>23</th>\n",
       "      <td>Lindsay Davenport</td>\n",
       "    </tr>\n",
       "    <tr>\n",
       "      <th>24</th>\n",
       "      <td>Michael Bloomberg</td>\n",
       "    </tr>\n",
       "    <tr>\n",
       "      <th>25</th>\n",
       "      <td>Michael Schumacher</td>\n",
       "    </tr>\n",
       "    <tr>\n",
       "      <th>26</th>\n",
       "      <td>Naomi Watts</td>\n",
       "    </tr>\n",
       "    <tr>\n",
       "      <th>27</th>\n",
       "      <td>Nicole Kidman</td>\n",
       "    </tr>\n",
       "    <tr>\n",
       "      <th>28</th>\n",
       "      <td>Paul Bremer</td>\n",
       "    </tr>\n",
       "    <tr>\n",
       "      <th>29</th>\n",
       "      <td>Pervez Musharraf</td>\n",
       "    </tr>\n",
       "    <tr>\n",
       "      <th>30</th>\n",
       "      <td>Pete Sampras</td>\n",
       "    </tr>\n",
       "    <tr>\n",
       "      <th>31</th>\n",
       "      <td>Renee Zellweger</td>\n",
       "    </tr>\n",
       "    <tr>\n",
       "      <th>32</th>\n",
       "      <td>Richard Myers</td>\n",
       "    </tr>\n",
       "    <tr>\n",
       "      <th>33</th>\n",
       "      <td>Saddam Hussein</td>\n",
       "    </tr>\n",
       "    <tr>\n",
       "      <th>34</th>\n",
       "      <td>Spencer Abraham</td>\n",
       "    </tr>\n",
       "    <tr>\n",
       "      <th>35</th>\n",
       "      <td>Tiger Woods</td>\n",
       "    </tr>\n",
       "    <tr>\n",
       "      <th>36</th>\n",
       "      <td>Tim Henman</td>\n",
       "    </tr>\n",
       "    <tr>\n",
       "      <th>37</th>\n",
       "      <td>Tommy Franks</td>\n",
       "    </tr>\n",
       "    <tr>\n",
       "      <th>38</th>\n",
       "      <td>Trent Lott</td>\n",
       "    </tr>\n",
       "    <tr>\n",
       "      <th>39</th>\n",
       "      <td>Venus Williams</td>\n",
       "    </tr>\n",
       "  </tbody>\n",
       "</table>\n",
       "</div>"
      ],
      "text/plain": [
       "                  Name\n",
       "ID                    \n",
       "0         Abdullah Gul\n",
       "1      Amelie Mauresmo\n",
       "2       Angelina Jolie\n",
       "3           Bill Gates\n",
       "4         Carlos Menem\n",
       "5          Carlos Moya\n",
       "6         Fidel Castro\n",
       "7     George Robertson\n",
       "8          Halle Berry\n",
       "9         Hamid Karzai\n",
       "10         Igor Ivanov\n",
       "11        Jean Charest\n",
       "12    Jennifer Aniston\n",
       "13      Jennifer Lopez\n",
       "14         Jiang Zemin\n",
       "15         John Bolton\n",
       "16         John Howard\n",
       "17          John Kerry\n",
       "18           John Snow\n",
       "19     Joschka Fischer\n",
       "20    Jose Maria Aznar\n",
       "21      Julianne Moore\n",
       "22     Lance Armstrong\n",
       "23   Lindsay Davenport\n",
       "24   Michael Bloomberg\n",
       "25  Michael Schumacher\n",
       "26         Naomi Watts\n",
       "27       Nicole Kidman\n",
       "28         Paul Bremer\n",
       "29    Pervez Musharraf\n",
       "30        Pete Sampras\n",
       "31     Renee Zellweger\n",
       "32       Richard Myers\n",
       "33      Saddam Hussein\n",
       "34     Spencer Abraham\n",
       "35         Tiger Woods\n",
       "36          Tim Henman\n",
       "37        Tommy Franks\n",
       "38          Trent Lott\n",
       "39      Venus Williams"
      ]
     },
     "execution_count": 4,
     "metadata": {},
     "output_type": "execute_result"
    }
   ],
   "source": [
    "#Person dataframe in Between80And90 is being read from md5 file\n",
    "personDf = pd.read_pickle(\"../../../Data/Between80And90/Person.pkl\")\n",
    "personDf"
   ]
  },
  {
   "cell_type": "code",
   "execution_count": 5,
   "metadata": {},
   "outputs": [
    {
     "data": {
      "text/html": [
       "<div>\n",
       "<style scoped>\n",
       "    .dataframe tbody tr th:only-of-type {\n",
       "        vertical-align: middle;\n",
       "    }\n",
       "\n",
       "    .dataframe tbody tr th {\n",
       "        vertical-align: top;\n",
       "    }\n",
       "\n",
       "    .dataframe thead th {\n",
       "        text-align: right;\n",
       "    }\n",
       "</style>\n",
       "<table border=\"1\" class=\"dataframe\">\n",
       "  <thead>\n",
       "    <tr style=\"text-align: right;\">\n",
       "      <th></th>\n",
       "      <th>PersonID</th>\n",
       "      <th>ImageBGR</th>\n",
       "    </tr>\n",
       "  </thead>\n",
       "  <tbody>\n",
       "    <tr>\n",
       "      <th>0</th>\n",
       "      <td>28</td>\n",
       "      <td>[[[0, 1, 0], [0, 1, 0], [0, 1, 0], [0, 1, 0], ...</td>\n",
       "    </tr>\n",
       "    <tr>\n",
       "      <th>1</th>\n",
       "      <td>13</td>\n",
       "      <td>[[[2, 1, 0], [2, 0, 0], [0, 0, 0], [0, 0, 1], ...</td>\n",
       "    </tr>\n",
       "    <tr>\n",
       "      <th>2</th>\n",
       "      <td>29</td>\n",
       "      <td>[[[2, 2, 8], [2, 2, 8], [2, 2, 8], [2, 2, 7], ...</td>\n",
       "    </tr>\n",
       "    <tr>\n",
       "      <th>3</th>\n",
       "      <td>1</td>\n",
       "      <td>[[[0, 0, 1], [0, 0, 1], [0, 0, 1], [0, 0, 1], ...</td>\n",
       "    </tr>\n",
       "    <tr>\n",
       "      <th>4</th>\n",
       "      <td>16</td>\n",
       "      <td>[[[5, 0, 3], [5, 0, 3], [4, 0, 3], [4, 0, 3], ...</td>\n",
       "    </tr>\n",
       "    <tr>\n",
       "      <th>...</th>\n",
       "      <td>...</td>\n",
       "      <td>...</td>\n",
       "    </tr>\n",
       "    <tr>\n",
       "      <th>524</th>\n",
       "      <td>17</td>\n",
       "      <td>[[[239, 245, 244], [241, 246, 245], [243, 249,...</td>\n",
       "    </tr>\n",
       "    <tr>\n",
       "      <th>525</th>\n",
       "      <td>30</td>\n",
       "      <td>[[[0, 0, 0], [0, 0, 0], [0, 0, 0], [0, 0, 0], ...</td>\n",
       "    </tr>\n",
       "    <tr>\n",
       "      <th>526</th>\n",
       "      <td>13</td>\n",
       "      <td>[[[12, 19, 58], [14, 19, 58], [14, 19, 58], [1...</td>\n",
       "    </tr>\n",
       "    <tr>\n",
       "      <th>527</th>\n",
       "      <td>23</td>\n",
       "      <td>[[[9, 68, 87], [3, 59, 83], [6, 55, 89], [9, 5...</td>\n",
       "    </tr>\n",
       "    <tr>\n",
       "      <th>528</th>\n",
       "      <td>17</td>\n",
       "      <td>[[[0, 0, 0], [0, 0, 0], [0, 0, 0], [0, 0, 0], ...</td>\n",
       "    </tr>\n",
       "  </tbody>\n",
       "</table>\n",
       "<p>529 rows × 2 columns</p>\n",
       "</div>"
      ],
      "text/plain": [
       "     PersonID                                           ImageBGR\n",
       "0          28  [[[0, 1, 0], [0, 1, 0], [0, 1, 0], [0, 1, 0], ...\n",
       "1          13  [[[2, 1, 0], [2, 0, 0], [0, 0, 0], [0, 0, 1], ...\n",
       "2          29  [[[2, 2, 8], [2, 2, 8], [2, 2, 8], [2, 2, 7], ...\n",
       "3           1  [[[0, 0, 1], [0, 0, 1], [0, 0, 1], [0, 0, 1], ...\n",
       "4          16  [[[5, 0, 3], [5, 0, 3], [4, 0, 3], [4, 0, 3], ...\n",
       "..        ...                                                ...\n",
       "524        17  [[[239, 245, 244], [241, 246, 245], [243, 249,...\n",
       "525        30  [[[0, 0, 0], [0, 0, 0], [0, 0, 0], [0, 0, 0], ...\n",
       "526        13  [[[12, 19, 58], [14, 19, 58], [14, 19, 58], [1...\n",
       "527        23  [[[9, 68, 87], [3, 59, 83], [6, 55, 89], [9, 5...\n",
       "528        17  [[[0, 0, 0], [0, 0, 0], [0, 0, 0], [0, 0, 0], ...\n",
       "\n",
       "[529 rows x 2 columns]"
      ]
     },
     "execution_count": 5,
     "metadata": {},
     "output_type": "execute_result"
    }
   ],
   "source": [
    "#FullPhoto Training data is being read from md5 file\n",
    "trainingDf = pd.read_pickle(\"../../../Data/Between80And90/FullPhoto/Training.pkl\")\n",
    "trainingDf"
   ]
  },
  {
   "cell_type": "code",
   "execution_count": 6,
   "metadata": {},
   "outputs": [
    {
     "data": {
      "text/plain": [
       "(529, 224, 224, 3)"
      ]
     },
     "execution_count": 6,
     "metadata": {},
     "output_type": "execute_result"
    }
   ],
   "source": [
    "#trainingX is being extracted from trainingDf as wanted shape\n",
    "#trainingX contains images with pixel values of data type np.uint8 in the range [0, 255]\n",
    "\n",
    "#Many pre-trained models, including the ones to be used within the scope of this project,\n",
    "#have been trained with images containing pixel values in the [-1, 1] range\n",
    "#In this way, the data will be symmetrical and the performance of the Backpropagation algorithm will be increased\n",
    "#See https://en.wikipedia.org/wiki/Backpropagation\n",
    "#See also https://stackoverflow.com/questions/59540276/why-in-preprocessing-image-data-we-need-to-do-zero-centered-data\n",
    "#Therefore, training will be performed by converting pixel values to this range with the simplest method (pixel / 127.5 - 1)\n",
    "\n",
    "trainingX = (np.array(trainingDf.ImageBGR.values.tolist()) / 127.5) - 1\n",
    "trainingX.shape"
   ]
  },
  {
   "cell_type": "code",
   "execution_count": 7,
   "metadata": {},
   "outputs": [
    {
     "data": {
      "text/plain": [
       "(529, 1)"
      ]
     },
     "execution_count": 7,
     "metadata": {},
     "output_type": "execute_result"
    }
   ],
   "source": [
    "#trainingY is being extracted from trainingDf as wanted shape\n",
    "trainingY = np.array(trainingDf.PersonID.values.tolist()).reshape((-1,1))\n",
    "trainingY.shape"
   ]
  },
  {
   "cell_type": "code",
   "execution_count": 8,
   "metadata": {},
   "outputs": [
    {
     "data": {
      "text/html": [
       "<div>\n",
       "<style scoped>\n",
       "    .dataframe tbody tr th:only-of-type {\n",
       "        vertical-align: middle;\n",
       "    }\n",
       "\n",
       "    .dataframe tbody tr th {\n",
       "        vertical-align: top;\n",
       "    }\n",
       "\n",
       "    .dataframe thead th {\n",
       "        text-align: right;\n",
       "    }\n",
       "</style>\n",
       "<table border=\"1\" class=\"dataframe\">\n",
       "  <thead>\n",
       "    <tr style=\"text-align: right;\">\n",
       "      <th></th>\n",
       "      <th>PersonID</th>\n",
       "      <th>ImageBGR</th>\n",
       "    </tr>\n",
       "  </thead>\n",
       "  <tbody>\n",
       "    <tr>\n",
       "      <th>0</th>\n",
       "      <td>36</td>\n",
       "      <td>[[[84, 37, 15], [83, 36, 14], [83, 36, 14], [8...</td>\n",
       "    </tr>\n",
       "    <tr>\n",
       "      <th>1</th>\n",
       "      <td>27</td>\n",
       "      <td>[[[0, 3, 4], [0, 3, 4], [0, 2, 5], [0, 1, 5], ...</td>\n",
       "    </tr>\n",
       "    <tr>\n",
       "      <th>2</th>\n",
       "      <td>22</td>\n",
       "      <td>[[[35, 94, 109], [36, 96, 110], [37, 97, 113],...</td>\n",
       "    </tr>\n",
       "    <tr>\n",
       "      <th>3</th>\n",
       "      <td>33</td>\n",
       "      <td>[[[241, 246, 245], [241, 246, 245], [239, 244,...</td>\n",
       "    </tr>\n",
       "    <tr>\n",
       "      <th>4</th>\n",
       "      <td>26</td>\n",
       "      <td>[[[73, 95, 130], [77, 100, 134], [78, 103, 137...</td>\n",
       "    </tr>\n",
       "    <tr>\n",
       "      <th>...</th>\n",
       "      <td>...</td>\n",
       "      <td>...</td>\n",
       "    </tr>\n",
       "    <tr>\n",
       "      <th>116</th>\n",
       "      <td>8</td>\n",
       "      <td>[[[108, 42, 7], [109, 43, 8], [110, 44, 9], [1...</td>\n",
       "    </tr>\n",
       "    <tr>\n",
       "      <th>117</th>\n",
       "      <td>29</td>\n",
       "      <td>[[[1, 1, 1], [0, 0, 0], [0, 0, 0], [0, 0, 0], ...</td>\n",
       "    </tr>\n",
       "    <tr>\n",
       "      <th>118</th>\n",
       "      <td>5</td>\n",
       "      <td>[[[20, 15, 30], [18, 13, 28], [17, 12, 27], [1...</td>\n",
       "    </tr>\n",
       "    <tr>\n",
       "      <th>119</th>\n",
       "      <td>2</td>\n",
       "      <td>[[[244, 246, 234], [245, 247, 235], [245, 247,...</td>\n",
       "    </tr>\n",
       "    <tr>\n",
       "      <th>120</th>\n",
       "      <td>26</td>\n",
       "      <td>[[[38, 61, 63], [28, 51, 53], [17, 40, 42], [1...</td>\n",
       "    </tr>\n",
       "  </tbody>\n",
       "</table>\n",
       "<p>121 rows × 2 columns</p>\n",
       "</div>"
      ],
      "text/plain": [
       "     PersonID                                           ImageBGR\n",
       "0          36  [[[84, 37, 15], [83, 36, 14], [83, 36, 14], [8...\n",
       "1          27  [[[0, 3, 4], [0, 3, 4], [0, 2, 5], [0, 1, 5], ...\n",
       "2          22  [[[35, 94, 109], [36, 96, 110], [37, 97, 113],...\n",
       "3          33  [[[241, 246, 245], [241, 246, 245], [239, 244,...\n",
       "4          26  [[[73, 95, 130], [77, 100, 134], [78, 103, 137...\n",
       "..        ...                                                ...\n",
       "116         8  [[[108, 42, 7], [109, 43, 8], [110, 44, 9], [1...\n",
       "117        29  [[[1, 1, 1], [0, 0, 0], [0, 0, 0], [0, 0, 0], ...\n",
       "118         5  [[[20, 15, 30], [18, 13, 28], [17, 12, 27], [1...\n",
       "119         2  [[[244, 246, 234], [245, 247, 235], [245, 247,...\n",
       "120        26  [[[38, 61, 63], [28, 51, 53], [17, 40, 42], [1...\n",
       "\n",
       "[121 rows x 2 columns]"
      ]
     },
     "execution_count": 8,
     "metadata": {},
     "output_type": "execute_result"
    }
   ],
   "source": [
    "#FullPhoto Validation data is being read from md5 file\n",
    "validationDf = pd.read_pickle(\"../../../Data/Between80And90/FullPhoto/Validation.pkl\")\n",
    "validationDf"
   ]
  },
  {
   "cell_type": "code",
   "execution_count": 9,
   "metadata": {},
   "outputs": [
    {
     "data": {
      "text/plain": [
       "(121, 224, 224, 3)"
      ]
     },
     "execution_count": 9,
     "metadata": {},
     "output_type": "execute_result"
    }
   ],
   "source": [
    "#validationX is being extracted from validationDf as wanted shape\n",
    "#validationX contains images with pixel values of data type np.uint8 in the range [0, 255]\n",
    "\n",
    "#Many pre-trained models, including the ones to be used within the scope of this project,\n",
    "#have been trained with images containing pixel values in the [-1, 1] range\n",
    "#In this way, the data will be symmetrical and the performance of the Backpropagation algorithm will be increased\n",
    "#See https://en.wikipedia.org/wiki/Backpropagation\n",
    "#See also https://stackoverflow.com/questions/59540276/why-in-preprocessing-image-data-we-need-to-do-zero-centered-data\n",
    "#Therefore, training will be performed by converting pixel values to this range with the simplest method (pixel / 127.5 - 1)\n",
    "\n",
    "validationX = (np.array(validationDf.ImageBGR.values.tolist()) / 127.5) - 1\n",
    "validationX.shape"
   ]
  },
  {
   "cell_type": "code",
   "execution_count": 10,
   "metadata": {},
   "outputs": [
    {
     "data": {
      "text/plain": [
       "(121, 1)"
      ]
     },
     "execution_count": 10,
     "metadata": {},
     "output_type": "execute_result"
    }
   ],
   "source": [
    "#validationY is being extracted from validationDf as wanted shape\n",
    "validationY = np.array(validationDf.PersonID.values.tolist()).reshape((-1,1))\n",
    "validationY.shape"
   ]
  },
  {
   "cell_type": "code",
   "execution_count": 11,
   "metadata": {},
   "outputs": [
    {
     "name": "stdout",
     "output_type": "stream",
     "text": [
      "Model: \"vgg16\"\n",
      "_________________________________________________________________\n",
      "Layer (type)                 Output Shape              Param #   \n",
      "=================================================================\n",
      "input_1 (InputLayer)         [(None, 224, 224, 3)]     0         \n",
      "_________________________________________________________________\n",
      "block1_conv1 (Conv2D)        (None, 224, 224, 64)      1792      \n",
      "_________________________________________________________________\n",
      "block1_conv2 (Conv2D)        (None, 224, 224, 64)      36928     \n",
      "_________________________________________________________________\n",
      "block1_pool (MaxPooling2D)   (None, 112, 112, 64)      0         \n",
      "_________________________________________________________________\n",
      "block2_conv1 (Conv2D)        (None, 112, 112, 128)     73856     \n",
      "_________________________________________________________________\n",
      "block2_conv2 (Conv2D)        (None, 112, 112, 128)     147584    \n",
      "_________________________________________________________________\n",
      "block2_pool (MaxPooling2D)   (None, 56, 56, 128)       0         \n",
      "_________________________________________________________________\n",
      "block3_conv1 (Conv2D)        (None, 56, 56, 256)       295168    \n",
      "_________________________________________________________________\n",
      "block3_conv2 (Conv2D)        (None, 56, 56, 256)       590080    \n",
      "_________________________________________________________________\n",
      "block3_conv3 (Conv2D)        (None, 56, 56, 256)       590080    \n",
      "_________________________________________________________________\n",
      "block3_pool (MaxPooling2D)   (None, 28, 28, 256)       0         \n",
      "_________________________________________________________________\n",
      "block4_conv1 (Conv2D)        (None, 28, 28, 512)       1180160   \n",
      "_________________________________________________________________\n",
      "block4_conv2 (Conv2D)        (None, 28, 28, 512)       2359808   \n",
      "_________________________________________________________________\n",
      "block4_conv3 (Conv2D)        (None, 28, 28, 512)       2359808   \n",
      "_________________________________________________________________\n",
      "block4_pool (MaxPooling2D)   (None, 14, 14, 512)       0         \n",
      "_________________________________________________________________\n",
      "block5_conv1 (Conv2D)        (None, 14, 14, 512)       2359808   \n",
      "_________________________________________________________________\n",
      "block5_conv2 (Conv2D)        (None, 14, 14, 512)       2359808   \n",
      "_________________________________________________________________\n",
      "block5_conv3 (Conv2D)        (None, 14, 14, 512)       2359808   \n",
      "_________________________________________________________________\n",
      "block5_pool (MaxPooling2D)   (None, 7, 7, 512)         0         \n",
      "=================================================================\n",
      "Total params: 14,714,688\n",
      "Trainable params: 14,714,688\n",
      "Non-trainable params: 0\n",
      "_________________________________________________________________\n"
     ]
    }
   ],
   "source": [
    "#VGG16 pre-trained model is being loaded\n",
    "#The original VGG16 model was trained with images with size of (224, 224, 3) \n",
    "#in BGR color order and pixel values of [-1, 1] (zero centered) as default\n",
    "#See https://keras.io/api/applications/vgg/ for more information\n",
    "#Since images of dataset saved as size of (224, 224, 3) in BGR color order and pixel values of [0, 255]\n",
    "#Pixel values were converted to [-1, 1] range while preparing trainingX and validationX\n",
    "\n",
    "#Training will be performed in the sections between the last CNN block and the Output layer\n",
    "\n",
    "model = tf.keras.applications.vgg16.VGG16(include_top = False, input_shape = ((224, 224, 3)))\n",
    "model.summary()"
   ]
  },
  {
   "cell_type": "code",
   "execution_count": 12,
   "metadata": {},
   "outputs": [
    {
     "data": {
      "text/plain": [
       "15"
      ]
     },
     "execution_count": 12,
     "metadata": {},
     "output_type": "execute_result"
    }
   ],
   "source": [
    "#Number of layers of pre-trained model is being calculated except last CNN block\n",
    "nonTrainablePart = len(model.layers) - 4\n",
    "nonTrainablePart"
   ]
  },
  {
   "cell_type": "code",
   "execution_count": 13,
   "metadata": {},
   "outputs": [
    {
     "name": "stdout",
     "output_type": "stream",
     "text": [
      "Model: \"vgg16\"\n",
      "_________________________________________________________________\n",
      "Layer (type)                 Output Shape              Param #   \n",
      "=================================================================\n",
      "input_1 (InputLayer)         [(None, 224, 224, 3)]     0         \n",
      "_________________________________________________________________\n",
      "block1_conv1 (Conv2D)        (None, 224, 224, 64)      1792      \n",
      "_________________________________________________________________\n",
      "block1_conv2 (Conv2D)        (None, 224, 224, 64)      36928     \n",
      "_________________________________________________________________\n",
      "block1_pool (MaxPooling2D)   (None, 112, 112, 64)      0         \n",
      "_________________________________________________________________\n",
      "block2_conv1 (Conv2D)        (None, 112, 112, 128)     73856     \n",
      "_________________________________________________________________\n",
      "block2_conv2 (Conv2D)        (None, 112, 112, 128)     147584    \n",
      "_________________________________________________________________\n",
      "block2_pool (MaxPooling2D)   (None, 56, 56, 128)       0         \n",
      "_________________________________________________________________\n",
      "block3_conv1 (Conv2D)        (None, 56, 56, 256)       295168    \n",
      "_________________________________________________________________\n",
      "block3_conv2 (Conv2D)        (None, 56, 56, 256)       590080    \n",
      "_________________________________________________________________\n",
      "block3_conv3 (Conv2D)        (None, 56, 56, 256)       590080    \n",
      "_________________________________________________________________\n",
      "block3_pool (MaxPooling2D)   (None, 28, 28, 256)       0         \n",
      "_________________________________________________________________\n",
      "block4_conv1 (Conv2D)        (None, 28, 28, 512)       1180160   \n",
      "_________________________________________________________________\n",
      "block4_conv2 (Conv2D)        (None, 28, 28, 512)       2359808   \n",
      "_________________________________________________________________\n",
      "block4_conv3 (Conv2D)        (None, 28, 28, 512)       2359808   \n",
      "_________________________________________________________________\n",
      "block4_pool (MaxPooling2D)   (None, 14, 14, 512)       0         \n",
      "_________________________________________________________________\n",
      "block5_conv1 (Conv2D)        (None, 14, 14, 512)       2359808   \n",
      "_________________________________________________________________\n",
      "block5_conv2 (Conv2D)        (None, 14, 14, 512)       2359808   \n",
      "_________________________________________________________________\n",
      "block5_conv3 (Conv2D)        (None, 14, 14, 512)       2359808   \n",
      "_________________________________________________________________\n",
      "block5_pool (MaxPooling2D)   (None, 7, 7, 512)         0         \n",
      "=================================================================\n",
      "Total params: 14,714,688\n",
      "Trainable params: 7,079,424\n",
      "Non-trainable params: 7,635,264\n",
      "_________________________________________________________________\n"
     ]
    }
   ],
   "source": [
    "#Pre-trained model's layers except the last CNN block is being set to non-trainable\n",
    "for layer in model.layers[:nonTrainablePart]:\n",
    "    layer.trainable = False\n",
    "model.summary()"
   ]
  },
  {
   "cell_type": "code",
   "execution_count": 14,
   "metadata": {},
   "outputs": [
    {
     "name": "stdout",
     "output_type": "stream",
     "text": [
      "Model: \"sequential\"\n",
      "_________________________________________________________________\n",
      "Layer (type)                 Output Shape              Param #   \n",
      "=================================================================\n",
      "vgg16 (Functional)           (None, 7, 7, 512)         14714688  \n",
      "_________________________________________________________________\n",
      "flatten (Flatten)            (None, 25088)             0         \n",
      "_________________________________________________________________\n",
      "dense (Dense)                (None, 2048)              51382272  \n",
      "_________________________________________________________________\n",
      "dense_1 (Dense)              (None, 2048)              4196352   \n",
      "_________________________________________________________________\n",
      "dropout (Dropout)            (None, 2048)              0         \n",
      "_________________________________________________________________\n",
      "dense_2 (Dense)              (None, 40)                81960     \n",
      "=================================================================\n",
      "Total params: 70,375,272\n",
      "Trainable params: 62,740,008\n",
      "Non-trainable params: 7,635,264\n",
      "_________________________________________________________________\n"
     ]
    }
   ],
   "source": [
    "#The pre-trained model is being connected to the fully connected layer\n",
    "#A dropout layer is being added to the the model to prevent overfitting,\n",
    "#and the model is being completed with the addition of the output layer\n",
    "model = tf.keras.models.Sequential([\n",
    "    model,\n",
    "    tf.keras.layers.Flatten(),\n",
    "    tf.keras.layers.Dense(2048, activation = 'relu'),\n",
    "    tf.keras.layers.Dense(2048, activation = 'relu'),\n",
    "    tf.keras.layers.Dropout(0.2),\n",
    "    tf.keras.layers.Dense(personDf.shape[0], activation = tf.nn.softmax)\n",
    "])\n",
    "model.summary()"
   ]
  },
  {
   "cell_type": "code",
   "execution_count": 15,
   "metadata": {},
   "outputs": [],
   "source": [
    "#Model is being compiled with Adam optimizer\n",
    "#Adam optimizer is a common used optimizer\n",
    "#See https://keras.io/api/optimizers/adam/\n",
    "#See also https://towardsdatascience.com/7-tips-to-choose-the-best-optimizer-47bb9c1219e\n",
    "#SparseCategoricalCrossentropy loss function is being used because of the label format of the data\n",
    "#SparseCategoricalAccuracy is being used as metric because of the label format of the data\n",
    "model.compile(\n",
    "    optimizer=tf.keras.optimizers.Adam(),\n",
    "    loss=tf.keras.losses.SparseCategoricalCrossentropy(),\n",
    "    metrics=[tf.keras.metrics.SparseCategoricalAccuracy(name = 'accuracy')]\n",
    ")"
   ]
  },
  {
   "cell_type": "code",
   "execution_count": 16,
   "metadata": {},
   "outputs": [],
   "source": [
    "#A class inherited from keras utils Sequence is being created\n",
    "class FitSequence(tf.keras.utils.Sequence):\n",
    "    \n",
    "    #Constructor method is being defined\n",
    "    def __init__(self, image, label, batchSize):\n",
    "        self.image, self.label = image, label\n",
    "        self.batchSize = batchSize\n",
    "        \n",
    "        #A numpy array for image indexes is being created\n",
    "        #This array will be used to shuffle the data\n",
    "        self.index = np.arange(self.image.shape[0])\n",
    "    \n",
    "    #__len__ method is being defined\n",
    "    #This method will be used by the model to show the amount of progress of each epoch\n",
    "    def __len__(self):\n",
    "        return int(np.ceil(self.image.shape[0] / float(self.batchSize)))\n",
    "    \n",
    "    #__getitem__ method is being defined\n",
    "    #The model will retrieve the batches it will use during training by calling this method\n",
    "    #With this method, the data to be used by the model can be manipulated\n",
    "    def __getitem__(self, idx):\n",
    "        \n",
    "        #When the model requests data, the next batch size will be selected based on index array\n",
    "        indexPart = self.index[idx * self.batchSize : (idx + 1) * self.batchSize]\n",
    "        \n",
    "        batchX = self.image[indexPart]\n",
    "        batchY = self.label[indexPart]\n",
    "        return np.array(batchX), np.array(batchY)\n",
    "    \n",
    "    #on_epoch_end method is being defined\n",
    "    #The model will call this method after each epoch is ended\n",
    "    def on_epoch_end(self):\n",
    "        \n",
    "        #At the end of the epoch, the index array is being shuffled \n",
    "        #so that the data in the next epoch is returned in different orders\n",
    "        np.random.shuffle(self.index)"
   ]
  },
  {
   "cell_type": "code",
   "execution_count": 17,
   "metadata": {},
   "outputs": [
    {
     "name": "stdout",
     "output_type": "stream",
     "text": [
      "Epoch 1/50\n",
      "34/34 [==============================] - 49s 1s/step - loss: 4.2170 - accuracy: 0.0189 - val_loss: 3.6882 - val_accuracy: 0.0331\n",
      "Epoch 2/50\n",
      "34/34 [==============================] - 25s 742ms/step - loss: 3.6899 - accuracy: 0.0246 - val_loss: 3.6854 - val_accuracy: 0.0331\n",
      "Epoch 3/50\n",
      "34/34 [==============================] - 25s 741ms/step - loss: 3.6897 - accuracy: 0.0246 - val_loss: 3.6822 - val_accuracy: 0.0413\n",
      "Epoch 4/50\n",
      "34/34 [==============================] - 25s 741ms/step - loss: 3.6886 - accuracy: 0.0302 - val_loss: 3.6815 - val_accuracy: 0.0413\n",
      "Epoch 5/50\n",
      "34/34 [==============================] - 25s 750ms/step - loss: 3.6882 - accuracy: 0.0284 - val_loss: 3.6810 - val_accuracy: 0.0413\n",
      "Epoch 6/50\n",
      "34/34 [==============================] - 26s 756ms/step - loss: 3.6878 - accuracy: 0.0416 - val_loss: 3.6778 - val_accuracy: 0.0413\n",
      "Epoch 7/50\n",
      "34/34 [==============================] - 26s 758ms/step - loss: 3.6878 - accuracy: 0.0246 - val_loss: 3.6774 - val_accuracy: 0.0165\n",
      "Epoch 8/50\n",
      "34/34 [==============================] - 26s 752ms/step - loss: 3.6870 - accuracy: 0.0284 - val_loss: 3.6764 - val_accuracy: 0.0165\n",
      "Epoch 9/50\n",
      "34/34 [==============================] - 26s 759ms/step - loss: 3.6875 - accuracy: 0.0227 - val_loss: 3.6778 - val_accuracy: 0.0413\n",
      "Epoch 10/50\n",
      "34/34 [==============================] - 26s 762ms/step - loss: 3.6870 - accuracy: 0.0284 - val_loss: 3.6759 - val_accuracy: 0.0413\n",
      "Epoch 11/50\n",
      "34/34 [==============================] - 26s 773ms/step - loss: 3.6863 - accuracy: 0.0284 - val_loss: 3.6755 - val_accuracy: 0.0413\n",
      "Epoch 12/50\n",
      "34/34 [==============================] - 27s 781ms/step - loss: 3.6867 - accuracy: 0.0321 - val_loss: 3.6715 - val_accuracy: 0.0413\n",
      "Epoch 13/50\n",
      "34/34 [==============================] - 27s 782ms/step - loss: 3.6865 - accuracy: 0.0321 - val_loss: 3.6724 - val_accuracy: 0.0413\n",
      "Epoch 14/50\n",
      "34/34 [==============================] - 27s 783ms/step - loss: 3.6865 - accuracy: 0.0246 - val_loss: 3.6705 - val_accuracy: 0.0165\n",
      "Epoch 15/50\n",
      "34/34 [==============================] - 27s 803ms/step - loss: 3.6868 - accuracy: 0.0302 - val_loss: 3.6727 - val_accuracy: 0.0165\n",
      "Epoch 16/50\n",
      "34/34 [==============================] - 27s 796ms/step - loss: 3.6861 - accuracy: 0.0302 - val_loss: 3.6712 - val_accuracy: 0.0165\n",
      "Epoch 17/50\n",
      "34/34 [==============================] - 26s 777ms/step - loss: 3.6869 - accuracy: 0.0340 - val_loss: 3.6675 - val_accuracy: 0.0413\n",
      "Epoch 18/50\n",
      "34/34 [==============================] - 26s 767ms/step - loss: 3.6869 - accuracy: 0.0284 - val_loss: 3.6711 - val_accuracy: 0.0413\n",
      "Epoch 19/50\n",
      "34/34 [==============================] - 27s 786ms/step - loss: 3.6860 - accuracy: 0.0284 - val_loss: 3.6704 - val_accuracy: 0.0413\n",
      "Epoch 20/50\n",
      "34/34 [==============================] - 27s 799ms/step - loss: 3.6854 - accuracy: 0.0265 - val_loss: 3.6673 - val_accuracy: 0.0413\n",
      "Epoch 21/50\n",
      "34/34 [==============================] - 27s 806ms/step - loss: 3.6854 - accuracy: 0.0321 - val_loss: 3.6694 - val_accuracy: 0.0413\n",
      "Epoch 22/50\n",
      "34/34 [==============================] - 27s 808ms/step - loss: 3.6859 - accuracy: 0.0321 - val_loss: 3.6697 - val_accuracy: 0.0413\n",
      "Epoch 23/50\n",
      "34/34 [==============================] - 27s 808ms/step - loss: 3.6850 - accuracy: 0.0340 - val_loss: 3.6692 - val_accuracy: 0.0413\n",
      "Epoch 24/50\n",
      "34/34 [==============================] - 28s 814ms/step - loss: 3.6854 - accuracy: 0.0246 - val_loss: 3.6693 - val_accuracy: 0.0413\n",
      "Epoch 25/50\n",
      "34/34 [==============================] - 28s 813ms/step - loss: 3.6856 - accuracy: 0.0284 - val_loss: 3.6693 - val_accuracy: 0.0413\n",
      "Epoch 26/50\n",
      "34/34 [==============================] - 27s 792ms/step - loss: 3.6853 - accuracy: 0.0246 - val_loss: 3.6719 - val_accuracy: 0.0413\n",
      "Epoch 27/50\n",
      "34/34 [==============================] - 27s 794ms/step - loss: 3.6852 - accuracy: 0.0189 - val_loss: 3.6696 - val_accuracy: 0.0248\n",
      "Epoch 28/50\n",
      "34/34 [==============================] - 27s 795ms/step - loss: 3.6852 - accuracy: 0.0302 - val_loss: 3.6706 - val_accuracy: 0.0248\n",
      "Epoch 29/50\n",
      "34/34 [==============================] - 27s 797ms/step - loss: 3.6852 - accuracy: 0.0302 - val_loss: 3.6715 - val_accuracy: 0.0248\n",
      "Epoch 30/50\n",
      "34/34 [==============================] - 27s 800ms/step - loss: 3.6849 - accuracy: 0.0302 - val_loss: 3.6718 - val_accuracy: 0.0248\n",
      "Epoch 31/50\n",
      "34/34 [==============================] - 27s 800ms/step - loss: 3.6850 - accuracy: 0.0302 - val_loss: 3.6719 - val_accuracy: 0.0248\n",
      "Epoch 32/50\n",
      "34/34 [==============================] - 28s 810ms/step - loss: 3.6853 - accuracy: 0.0302 - val_loss: 3.6722 - val_accuracy: 0.0248\n",
      "Epoch 33/50\n",
      "34/34 [==============================] - 27s 810ms/step - loss: 3.6859 - accuracy: 0.0302 - val_loss: 3.6719 - val_accuracy: 0.0248\n",
      "Epoch 34/50\n",
      "34/34 [==============================] - 27s 810ms/step - loss: 3.6854 - accuracy: 0.0302 - val_loss: 3.6742 - val_accuracy: 0.0248\n",
      "Epoch 35/50\n",
      "34/34 [==============================] - 27s 800ms/step - loss: 3.6853 - accuracy: 0.0302 - val_loss: 3.6740 - val_accuracy: 0.0248\n",
      "Epoch 36/50\n",
      "34/34 [==============================] - 27s 805ms/step - loss: 3.6859 - accuracy: 0.0302 - val_loss: 3.6726 - val_accuracy: 0.0248\n",
      "Epoch 37/50\n",
      "34/34 [==============================] - 27s 806ms/step - loss: 3.6853 - accuracy: 0.0302 - val_loss: 3.6734 - val_accuracy: 0.0248\n",
      "Epoch 38/50\n",
      "34/34 [==============================] - 27s 797ms/step - loss: 3.6851 - accuracy: 0.0284 - val_loss: 3.6735 - val_accuracy: 0.0165\n",
      "Epoch 39/50\n",
      "34/34 [==============================] - 27s 798ms/step - loss: 3.6859 - accuracy: 0.0302 - val_loss: 3.6735 - val_accuracy: 0.0248\n",
      "Epoch 40/50\n",
      "34/34 [==============================] - 28s 817ms/step - loss: 3.6850 - accuracy: 0.0284 - val_loss: 3.6734 - val_accuracy: 0.0248\n",
      "Epoch 41/50\n",
      "34/34 [==============================] - 28s 828ms/step - loss: 3.6851 - accuracy: 0.0302 - val_loss: 3.6730 - val_accuracy: 0.0248\n",
      "Epoch 42/50\n",
      "34/34 [==============================] - 28s 829ms/step - loss: 3.6852 - accuracy: 0.0340 - val_loss: 3.6737 - val_accuracy: 0.0165\n",
      "Epoch 43/50\n",
      "34/34 [==============================] - 28s 818ms/step - loss: 3.6850 - accuracy: 0.0302 - val_loss: 3.6717 - val_accuracy: 0.0165\n",
      "Epoch 44/50\n",
      "34/34 [==============================] - 28s 823ms/step - loss: 3.6852 - accuracy: 0.0302 - val_loss: 3.6717 - val_accuracy: 0.0165\n",
      "Epoch 45/50\n",
      "34/34 [==============================] - 28s 820ms/step - loss: 3.6856 - accuracy: 0.0302 - val_loss: 3.6704 - val_accuracy: 0.0165\n",
      "Epoch 46/50\n",
      "34/34 [==============================] - 27s 824ms/step - loss: 3.6852 - accuracy: 0.0284 - val_loss: 3.6706 - val_accuracy: 0.0165\n",
      "Epoch 47/50\n",
      "34/34 [==============================] - 27s 789ms/step - loss: 3.6856 - accuracy: 0.0302 - val_loss: 3.6736 - val_accuracy: 0.0165\n",
      "Epoch 48/50\n",
      "34/34 [==============================] - 27s 787ms/step - loss: 3.6850 - accuracy: 0.0321 - val_loss: 3.6734 - val_accuracy: 0.0165\n",
      "Epoch 49/50\n",
      "34/34 [==============================] - 27s 795ms/step - loss: 3.6853 - accuracy: 0.0302 - val_loss: 3.6734 - val_accuracy: 0.0165\n",
      "Epoch 50/50\n",
      "34/34 [==============================] - 27s 808ms/step - loss: 3.6853 - accuracy: 0.0265 - val_loss: 3.6740 - val_accuracy: 0.0165\n"
     ]
    }
   ],
   "source": [
    "#model is being trained with 50 epochs and 16 batchSize using GPU\n",
    "#A small batchSize value is being chosen to prevent GPU memory problem\n",
    "#Large batchSize reduce training time while also generally providing better results\n",
    "with tf.device(myGPU):\n",
    "    trainingHistory = model.fit(\n",
    "        FitSequence(trainingX, trainingY, 16),\n",
    "        epochs = 50,\n",
    "        validation_data = FitSequence(validationX, validationY, 16)\n",
    "    )"
   ]
  },
  {
   "cell_type": "code",
   "execution_count": 18,
   "metadata": {},
   "outputs": [
    {
     "data": {
      "image/png": "[encoded data removed]",
      "text/plain": [
       "<Figure size 432x288 with 1 Axes>"
      ]
     },
     "metadata": {
      "needs_background": "light"
     },
     "output_type": "display_data"
    }
   ],
   "source": [
    "#Loss Chart is being drawn\n",
    "\n",
    "#Chart Values\n",
    "plt.plot(trainingHistory.history['loss'])\n",
    "plt.plot(trainingHistory.history['val_loss'])\n",
    "\n",
    "#Chart Tittle\n",
    "plt.title('Model Loss Chart')\n",
    "\n",
    "#Chart Labels\n",
    "plt.ylabel('loss')\n",
    "plt.xlabel('epoch')\n",
    "\n",
    "#Chart Lines\n",
    "plt.legend(['Training', 'Validation'], loc='upper left')\n",
    "\n",
    "#Show Method\n",
    "plt.show()"
   ]
  },
  {
   "cell_type": "code",
   "execution_count": 19,
   "metadata": {},
   "outputs": [
    {
     "data": {
      "image/png": "[encoded data removed]",
      "text/plain": [
       "<Figure size 432x288 with 1 Axes>"
      ]
     },
     "metadata": {
      "needs_background": "light"
     },
     "output_type": "display_data"
    }
   ],
   "source": [
    "#Loss Chart is being drawn\n",
    "\n",
    "#Chart Values\n",
    "plt.plot(trainingHistory.history['accuracy'])\n",
    "plt.plot(trainingHistory.history['val_accuracy'])\n",
    "\n",
    "#Chart Tittle\n",
    "plt.title('model accuracy')\n",
    "\n",
    "#Chart Labels\n",
    "plt.ylabel('accuracy')\n",
    "plt.xlabel('epoch')\n",
    "\n",
    "#Chart Lines\n",
    "plt.legend(['Training', 'Validation'], loc='upper left')\n",
    "\n",
    "#Show Method\n",
    "plt.show()"
   ]
  },
  {
   "cell_type": "code",
   "execution_count": 20,
   "metadata": {},
   "outputs": [
    {
     "data": {
      "text/html": [
       "<div>\n",
       "<style scoped>\n",
       "    .dataframe tbody tr th:only-of-type {\n",
       "        vertical-align: middle;\n",
       "    }\n",
       "\n",
       "    .dataframe tbody tr th {\n",
       "        vertical-align: top;\n",
       "    }\n",
       "\n",
       "    .dataframe thead th {\n",
       "        text-align: right;\n",
       "    }\n",
       "</style>\n",
       "<table border=\"1\" class=\"dataframe\">\n",
       "  <thead>\n",
       "    <tr style=\"text-align: right;\">\n",
       "      <th></th>\n",
       "      <th>PersonID</th>\n",
       "      <th>ImageBGR</th>\n",
       "    </tr>\n",
       "  </thead>\n",
       "  <tbody>\n",
       "    <tr>\n",
       "      <th>0</th>\n",
       "      <td>1</td>\n",
       "      <td>[[[100, 142, 119], [100, 142, 119], [100, 142,...</td>\n",
       "    </tr>\n",
       "    <tr>\n",
       "      <th>1</th>\n",
       "      <td>13</td>\n",
       "      <td>[[[0, 0, 0], [0, 0, 0], [0, 0, 0], [0, 0, 0], ...</td>\n",
       "    </tr>\n",
       "    <tr>\n",
       "      <th>2</th>\n",
       "      <td>1</td>\n",
       "      <td>[[[0, 0, 3], [0, 0, 2], [0, 0, 1], [1, 0, 1], ...</td>\n",
       "    </tr>\n",
       "    <tr>\n",
       "      <th>3</th>\n",
       "      <td>9</td>\n",
       "      <td>[[[99, 128, 137], [99, 128, 137], [99, 128, 13...</td>\n",
       "    </tr>\n",
       "    <tr>\n",
       "      <th>4</th>\n",
       "      <td>20</td>\n",
       "      <td>[[[0, 0, 0], [0, 0, 0], [0, 0, 0], [0, 0, 0], ...</td>\n",
       "    </tr>\n",
       "    <tr>\n",
       "      <th>...</th>\n",
       "      <td>...</td>\n",
       "      <td>...</td>\n",
       "    </tr>\n",
       "    <tr>\n",
       "      <th>115</th>\n",
       "      <td>34</td>\n",
       "      <td>[[[0, 0, 0], [0, 0, 0], [0, 0, 0], [0, 0, 0], ...</td>\n",
       "    </tr>\n",
       "    <tr>\n",
       "      <th>116</th>\n",
       "      <td>31</td>\n",
       "      <td>[[[0, 0, 0], [0, 0, 0], [0, 0, 0], [0, 0, 0], ...</td>\n",
       "    </tr>\n",
       "    <tr>\n",
       "      <th>117</th>\n",
       "      <td>11</td>\n",
       "      <td>[[[0, 0, 0], [0, 0, 0], [0, 0, 0], [0, 0, 0], ...</td>\n",
       "    </tr>\n",
       "    <tr>\n",
       "      <th>118</th>\n",
       "      <td>14</td>\n",
       "      <td>[[[2, 0, 1], [2, 0, 1], [2, 0, 1], [2, 0, 1], ...</td>\n",
       "    </tr>\n",
       "    <tr>\n",
       "      <th>119</th>\n",
       "      <td>27</td>\n",
       "      <td>[[[96, 12, 71], [96, 12, 71], [97, 13, 72], [9...</td>\n",
       "    </tr>\n",
       "  </tbody>\n",
       "</table>\n",
       "<p>120 rows × 2 columns</p>\n",
       "</div>"
      ],
      "text/plain": [
       "     PersonID                                           ImageBGR\n",
       "0           1  [[[100, 142, 119], [100, 142, 119], [100, 142,...\n",
       "1          13  [[[0, 0, 0], [0, 0, 0], [0, 0, 0], [0, 0, 0], ...\n",
       "2           1  [[[0, 0, 3], [0, 0, 2], [0, 0, 1], [1, 0, 1], ...\n",
       "3           9  [[[99, 128, 137], [99, 128, 137], [99, 128, 13...\n",
       "4          20  [[[0, 0, 0], [0, 0, 0], [0, 0, 0], [0, 0, 0], ...\n",
       "..        ...                                                ...\n",
       "115        34  [[[0, 0, 0], [0, 0, 0], [0, 0, 0], [0, 0, 0], ...\n",
       "116        31  [[[0, 0, 0], [0, 0, 0], [0, 0, 0], [0, 0, 0], ...\n",
       "117        11  [[[0, 0, 0], [0, 0, 0], [0, 0, 0], [0, 0, 0], ...\n",
       "118        14  [[[2, 0, 1], [2, 0, 1], [2, 0, 1], [2, 0, 1], ...\n",
       "119        27  [[[96, 12, 71], [96, 12, 71], [97, 13, 72], [9...\n",
       "\n",
       "[120 rows x 2 columns]"
      ]
     },
     "execution_count": 20,
     "metadata": {},
     "output_type": "execute_result"
    }
   ],
   "source": [
    "#FullPhoto Test data is being read from md5 file\n",
    "testDf = pd.read_pickle(\"../../../Data/Between80And90/FullPhoto/Test.pkl\")\n",
    "testDf"
   ]
  },
  {
   "cell_type": "code",
   "execution_count": 21,
   "metadata": {},
   "outputs": [
    {
     "data": {
      "text/plain": [
       "(120, 224, 224, 3)"
      ]
     },
     "execution_count": 21,
     "metadata": {},
     "output_type": "execute_result"
    }
   ],
   "source": [
    "#testX is being extracted from testDf as wanted shape\n",
    "#Pixel values are being converted  to the [-1, 1] range with the simplest method (pixel / 127.5 - 1)\n",
    "testX = (np.array(testDf.ImageBGR.values.tolist()) / 127.5) - 1\n",
    "testX.shape"
   ]
  },
  {
   "cell_type": "code",
   "execution_count": 22,
   "metadata": {},
   "outputs": [
    {
     "data": {
      "text/plain": [
       "(120, 1)"
      ]
     },
     "execution_count": 22,
     "metadata": {},
     "output_type": "execute_result"
    }
   ],
   "source": [
    "#testY is being extracted from testDf as wanted shape\n",
    "testY = np.array(testDf.PersonID.values.tolist()).reshape((-1,1))\n",
    "testY.shape"
   ]
  },
  {
   "cell_type": "code",
   "execution_count": 23,
   "metadata": {},
   "outputs": [
    {
     "name": "stdout",
     "output_type": "stream",
     "text": [
      "8/8 [==============================] - 10s 1s/step - loss: 3.6926 - accuracy: 0.0417\n"
     ]
    }
   ],
   "source": [
    "#Model is being evaluated with test data\n",
    "#Sequence class is being also used for evaluation to convert test data into the same format as training data\n",
    "testResult = model.evaluate(FitSequence(testX, testY, 16))"
   ]
  },
  {
   "cell_type": "code",
   "execution_count": 24,
   "metadata": {},
   "outputs": [
    {
     "name": "stdout",
     "output_type": "stream",
     "text": [
      "Test Loss: 3.6925511360168457\n"
     ]
    }
   ],
   "source": [
    "#Test Loss is being Printed\n",
    "print('Test Loss: ' + str(testResult[0]))"
   ]
  },
  {
   "cell_type": "code",
   "execution_count": 25,
   "metadata": {},
   "outputs": [
    {
     "name": "stdout",
     "output_type": "stream",
     "text": [
      "Test Accuracy: 0.0416666679084301\n"
     ]
    }
   ],
   "source": [
    "#Test Accuracy is being Printed\n",
    "print('Test Accuracy: ' + str(testResult[1]))"
   ]
  },
  {
   "cell_type": "markdown",
   "metadata": {},
   "source": [
    "# Training9 Inference\n",
    "\n",
    "By looking at the charts, it can be seen that learning does not take place.\n",
    "\n",
    "The model has not learned enough to have any success even on the Training data, even overfitting did not occur.\n",
    "\n",
    "Performance can be improved by trying Hyperparameter Optimization methods.\n",
    "\n",
    "See https://en.wikipedia.org/wiki/Hyperparameter_optimization."
   ]
  }
 ],
 "metadata": {
  "kernelspec": {
   "display_name": "Py39AI",
   "language": "python",
   "name": "py39ai"
  },
  "language_info": {
   "codemirror_mode": {
    "name": "ipython",
    "version": 3
   },
   "file_extension": ".py",
   "mimetype": "text/x-python",
   "name": "python",
   "nbconvert_exporter": "python",
   "pygments_lexer": "ipython3",
   "version": "3.9.12"
  }
 },
 "nbformat": 4,
 "nbformat_minor": 2
}
