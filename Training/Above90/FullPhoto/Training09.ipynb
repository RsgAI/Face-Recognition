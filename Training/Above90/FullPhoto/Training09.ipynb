{
 "cells": [
  {
   "cell_type": "markdown",
   "metadata": {},
   "source": [
    "# Training9\n",
    "\n",
    "In this notebook file, Above90-FullPhoto dataset will be read from pkl file.\n",
    "\n",
    "Input(X) and Output(Y) numpy arrays will be created from pandas dataframes.\n",
    "\n",
    "VGG16 pre-trained model will be load and used.\n",
    "\n",
    "Pre-trained model's layers except the last CNN block will be set to non-trainable.\n",
    "\n",
    "Training will be performed in the sections between the last CNN block and the Output layer.\n",
    "\n",
    "In this way, the experience gained by the model on very large datasets will be used in this classification problem, while the last CNN block will be updated and fine-tuned.\n",
    "\n",
    "This method is known as [**Fine-Tuning**](https://deeplizard.com/learn/video/5T-iXNNiwIs \"deeplizard\").\n",
    "\n",
    "See also [**Transfer Learning and Fine-Tuning**](https://www.tensorflow.org/tutorials/images/transfer_learning \"tensorflow\").\n",
    "\n",
    "A keras utils Sequence class will be defined so that operations can be performed on the data to be used during the training.\n",
    "\n",
    "Performance will be checked with Validation data while training model with Training data.\n",
    "\n",
    "Accuracy and Loss charts will be drawn according to epoch numbers.\n",
    "\n",
    "The results obtained by evaluating the model with Test data will be printed."
   ]
  },
  {
   "cell_type": "code",
   "execution_count": 1,
   "metadata": {},
   "outputs": [],
   "source": [
    "#Libraries are being imported\n",
    "import numpy as np\n",
    "import pandas as pd\n",
    "import tensorflow as tf\n",
    "import matplotlib\n",
    "import matplotlib.pyplot as plt"
   ]
  },
  {
   "cell_type": "code",
   "execution_count": 2,
   "metadata": {},
   "outputs": [
    {
     "name": "stdout",
     "output_type": "stream",
     "text": [
      "numpy Version: 1.22.3\n",
      "pandas Version: 1.4.3\n",
      "tensorflow Version: 2.6.0\n",
      "matplotlib Version: 3.5.2\n"
     ]
    }
   ],
   "source": [
    "#Library versions are being printed\n",
    "print('numpy Version: ' + np.__version__)\n",
    "print('pandas Version: ' + pd.__version__)\n",
    "print('tensorflow Version: ' + tf.__version__)\n",
    "print('matplotlib Version: ' + matplotlib.__version__)"
   ]
  },
  {
   "cell_type": "code",
   "execution_count": 3,
   "metadata": {},
   "outputs": [
    {
     "name": "stdout",
     "output_type": "stream",
     "text": [
      "/device:GPU:0\n"
     ]
    }
   ],
   "source": [
    "#GPU will be used for training\n",
    "myGPU = tf.test.gpu_device_name()\n",
    "if myGPU:\n",
    "    print(myGPU)\n",
    "else:\n",
    "    print(\"Error\")"
   ]
  },
  {
   "cell_type": "code",
   "execution_count": 4,
   "metadata": {},
   "outputs": [
    {
     "data": {
      "text/html": [
       "<div>\n",
       "<style scoped>\n",
       "    .dataframe tbody tr th:only-of-type {\n",
       "        vertical-align: middle;\n",
       "    }\n",
       "\n",
       "    .dataframe tbody tr th {\n",
       "        vertical-align: top;\n",
       "    }\n",
       "\n",
       "    .dataframe thead th {\n",
       "        text-align: right;\n",
       "    }\n",
       "</style>\n",
       "<table border=\"1\" class=\"dataframe\">\n",
       "  <thead>\n",
       "    <tr style=\"text-align: right;\">\n",
       "      <th></th>\n",
       "      <th>Name</th>\n",
       "    </tr>\n",
       "    <tr>\n",
       "      <th>ID</th>\n",
       "      <th></th>\n",
       "    </tr>\n",
       "  </thead>\n",
       "  <tbody>\n",
       "    <tr>\n",
       "      <th>0</th>\n",
       "      <td>Alejandro Toledo</td>\n",
       "    </tr>\n",
       "    <tr>\n",
       "      <th>1</th>\n",
       "      <td>Alvaro Uribe</td>\n",
       "    </tr>\n",
       "    <tr>\n",
       "      <th>2</th>\n",
       "      <td>Andre Agassi</td>\n",
       "    </tr>\n",
       "    <tr>\n",
       "      <th>3</th>\n",
       "      <td>Ariel Sharon</td>\n",
       "    </tr>\n",
       "    <tr>\n",
       "      <th>4</th>\n",
       "      <td>Arnold Schwarzenegger</td>\n",
       "    </tr>\n",
       "    <tr>\n",
       "      <th>5</th>\n",
       "      <td>Bill Clinton</td>\n",
       "    </tr>\n",
       "    <tr>\n",
       "      <th>6</th>\n",
       "      <td>Colin Powell</td>\n",
       "    </tr>\n",
       "    <tr>\n",
       "      <th>7</th>\n",
       "      <td>David Beckham</td>\n",
       "    </tr>\n",
       "    <tr>\n",
       "      <th>8</th>\n",
       "      <td>Donald Rumsfeld</td>\n",
       "    </tr>\n",
       "    <tr>\n",
       "      <th>9</th>\n",
       "      <td>George W Bush</td>\n",
       "    </tr>\n",
       "    <tr>\n",
       "      <th>10</th>\n",
       "      <td>Gerhard Schroeder</td>\n",
       "    </tr>\n",
       "    <tr>\n",
       "      <th>11</th>\n",
       "      <td>Gloria Macapagal Arroyo</td>\n",
       "    </tr>\n",
       "    <tr>\n",
       "      <th>12</th>\n",
       "      <td>Gray Davis</td>\n",
       "    </tr>\n",
       "    <tr>\n",
       "      <th>13</th>\n",
       "      <td>Guillermo Coria</td>\n",
       "    </tr>\n",
       "    <tr>\n",
       "      <th>14</th>\n",
       "      <td>Hans Blix</td>\n",
       "    </tr>\n",
       "    <tr>\n",
       "      <th>15</th>\n",
       "      <td>Hugo Chavez</td>\n",
       "    </tr>\n",
       "    <tr>\n",
       "      <th>16</th>\n",
       "      <td>Jack Straw</td>\n",
       "    </tr>\n",
       "    <tr>\n",
       "      <th>17</th>\n",
       "      <td>Jacques Chirac</td>\n",
       "    </tr>\n",
       "    <tr>\n",
       "      <th>18</th>\n",
       "      <td>Jean Chretien</td>\n",
       "    </tr>\n",
       "    <tr>\n",
       "      <th>19</th>\n",
       "      <td>Jennifer Capriati</td>\n",
       "    </tr>\n",
       "    <tr>\n",
       "      <th>20</th>\n",
       "      <td>John Ashcroft</td>\n",
       "    </tr>\n",
       "    <tr>\n",
       "      <th>21</th>\n",
       "      <td>John Negroponte</td>\n",
       "    </tr>\n",
       "    <tr>\n",
       "      <th>22</th>\n",
       "      <td>Juan Carlos Ferrero</td>\n",
       "    </tr>\n",
       "    <tr>\n",
       "      <th>23</th>\n",
       "      <td>Junichiro Koizumi</td>\n",
       "    </tr>\n",
       "    <tr>\n",
       "      <th>24</th>\n",
       "      <td>Kofi Annan</td>\n",
       "    </tr>\n",
       "    <tr>\n",
       "      <th>25</th>\n",
       "      <td>Laura Bush</td>\n",
       "    </tr>\n",
       "    <tr>\n",
       "      <th>26</th>\n",
       "      <td>Lleyton Hewitt</td>\n",
       "    </tr>\n",
       "    <tr>\n",
       "      <th>27</th>\n",
       "      <td>Luiz Inacio Lula da Silva</td>\n",
       "    </tr>\n",
       "    <tr>\n",
       "      <th>28</th>\n",
       "      <td>Mahmoud Abbas</td>\n",
       "    </tr>\n",
       "    <tr>\n",
       "      <th>29</th>\n",
       "      <td>Megawati Sukarnoputri</td>\n",
       "    </tr>\n",
       "    <tr>\n",
       "      <th>30</th>\n",
       "      <td>Nestor Kirchner</td>\n",
       "    </tr>\n",
       "    <tr>\n",
       "      <th>31</th>\n",
       "      <td>Recep Tayyip Erdogan</td>\n",
       "    </tr>\n",
       "    <tr>\n",
       "      <th>32</th>\n",
       "      <td>Ricardo Lagos</td>\n",
       "    </tr>\n",
       "    <tr>\n",
       "      <th>33</th>\n",
       "      <td>Roh Moo-hyun</td>\n",
       "    </tr>\n",
       "    <tr>\n",
       "      <th>34</th>\n",
       "      <td>Rudolph Giuliani</td>\n",
       "    </tr>\n",
       "    <tr>\n",
       "      <th>35</th>\n",
       "      <td>Serena Williams</td>\n",
       "    </tr>\n",
       "    <tr>\n",
       "      <th>36</th>\n",
       "      <td>Silvio Berlusconi</td>\n",
       "    </tr>\n",
       "    <tr>\n",
       "      <th>37</th>\n",
       "      <td>Tom Daschle</td>\n",
       "    </tr>\n",
       "    <tr>\n",
       "      <th>38</th>\n",
       "      <td>Tom Ridge</td>\n",
       "    </tr>\n",
       "    <tr>\n",
       "      <th>39</th>\n",
       "      <td>Tony Blair</td>\n",
       "    </tr>\n",
       "    <tr>\n",
       "      <th>40</th>\n",
       "      <td>Vicente Fox</td>\n",
       "    </tr>\n",
       "    <tr>\n",
       "      <th>41</th>\n",
       "      <td>Vladimir Putin</td>\n",
       "    </tr>\n",
       "  </tbody>\n",
       "</table>\n",
       "</div>"
      ],
      "text/plain": [
       "                         Name\n",
       "ID                           \n",
       "0            Alejandro Toledo\n",
       "1                Alvaro Uribe\n",
       "2                Andre Agassi\n",
       "3                Ariel Sharon\n",
       "4       Arnold Schwarzenegger\n",
       "5                Bill Clinton\n",
       "6                Colin Powell\n",
       "7               David Beckham\n",
       "8             Donald Rumsfeld\n",
       "9               George W Bush\n",
       "10          Gerhard Schroeder\n",
       "11    Gloria Macapagal Arroyo\n",
       "12                 Gray Davis\n",
       "13            Guillermo Coria\n",
       "14                  Hans Blix\n",
       "15                Hugo Chavez\n",
       "16                 Jack Straw\n",
       "17             Jacques Chirac\n",
       "18              Jean Chretien\n",
       "19          Jennifer Capriati\n",
       "20              John Ashcroft\n",
       "21            John Negroponte\n",
       "22        Juan Carlos Ferrero\n",
       "23          Junichiro Koizumi\n",
       "24                 Kofi Annan\n",
       "25                 Laura Bush\n",
       "26             Lleyton Hewitt\n",
       "27  Luiz Inacio Lula da Silva\n",
       "28              Mahmoud Abbas\n",
       "29      Megawati Sukarnoputri\n",
       "30            Nestor Kirchner\n",
       "31       Recep Tayyip Erdogan\n",
       "32              Ricardo Lagos\n",
       "33               Roh Moo-hyun\n",
       "34           Rudolph Giuliani\n",
       "35            Serena Williams\n",
       "36          Silvio Berlusconi\n",
       "37                Tom Daschle\n",
       "38                  Tom Ridge\n",
       "39                 Tony Blair\n",
       "40                Vicente Fox\n",
       "41             Vladimir Putin"
      ]
     },
     "execution_count": 4,
     "metadata": {},
     "output_type": "execute_result"
    }
   ],
   "source": [
    "#Person dataframe in Above90 is being read from pkl file\n",
    "personDf = pd.read_pickle(\"../../../Data/Above90/Person.pkl\")\n",
    "personDf"
   ]
  },
  {
   "cell_type": "code",
   "execution_count": 5,
   "metadata": {},
   "outputs": [
    {
     "data": {
      "text/html": [
       "<div>\n",
       "<style scoped>\n",
       "    .dataframe tbody tr th:only-of-type {\n",
       "        vertical-align: middle;\n",
       "    }\n",
       "\n",
       "    .dataframe tbody tr th {\n",
       "        vertical-align: top;\n",
       "    }\n",
       "\n",
       "    .dataframe thead th {\n",
       "        text-align: right;\n",
       "    }\n",
       "</style>\n",
       "<table border=\"1\" class=\"dataframe\">\n",
       "  <thead>\n",
       "    <tr style=\"text-align: right;\">\n",
       "      <th></th>\n",
       "      <th>PersonID</th>\n",
       "      <th>ImageBGR</th>\n",
       "    </tr>\n",
       "  </thead>\n",
       "  <tbody>\n",
       "    <tr>\n",
       "      <th>0</th>\n",
       "      <td>13</td>\n",
       "      <td>[[[0, 0, 0], [0, 0, 0], [0, 0, 0], [0, 0, 0], ...</td>\n",
       "    </tr>\n",
       "    <tr>\n",
       "      <th>1</th>\n",
       "      <td>9</td>\n",
       "      <td>[[[156, 217, 227], [155, 216, 226], [154, 214,...</td>\n",
       "    </tr>\n",
       "    <tr>\n",
       "      <th>2</th>\n",
       "      <td>1</td>\n",
       "      <td>[[[0, 0, 0], [0, 0, 0], [0, 0, 0], [0, 0, 0], ...</td>\n",
       "    </tr>\n",
       "    <tr>\n",
       "      <th>3</th>\n",
       "      <td>34</td>\n",
       "      <td>[[[1, 1, 7], [1, 1, 7], [1, 1, 7], [1, 1, 7], ...</td>\n",
       "    </tr>\n",
       "    <tr>\n",
       "      <th>4</th>\n",
       "      <td>22</td>\n",
       "      <td>[[[0, 0, 0], [0, 0, 0], [0, 0, 0], [0, 0, 0], ...</td>\n",
       "    </tr>\n",
       "    <tr>\n",
       "      <th>...</th>\n",
       "      <td>...</td>\n",
       "      <td>...</td>\n",
       "    </tr>\n",
       "    <tr>\n",
       "      <th>709</th>\n",
       "      <td>34</td>\n",
       "      <td>[[[0, 0, 0], [0, 0, 0], [0, 0, 0], [0, 0, 0], ...</td>\n",
       "    </tr>\n",
       "    <tr>\n",
       "      <th>710</th>\n",
       "      <td>34</td>\n",
       "      <td>[[[100, 108, 120], [106, 114, 127], [110, 118,...</td>\n",
       "    </tr>\n",
       "    <tr>\n",
       "      <th>711</th>\n",
       "      <td>16</td>\n",
       "      <td>[[[0, 0, 0], [0, 0, 0], [0, 0, 0], [0, 0, 0], ...</td>\n",
       "    </tr>\n",
       "    <tr>\n",
       "      <th>712</th>\n",
       "      <td>32</td>\n",
       "      <td>[[[4, 3, 132], [15, 17, 141], [33, 37, 153], [...</td>\n",
       "    </tr>\n",
       "    <tr>\n",
       "      <th>713</th>\n",
       "      <td>32</td>\n",
       "      <td>[[[20, 76, 77], [22, 78, 79], [25, 81, 82], [2...</td>\n",
       "    </tr>\n",
       "  </tbody>\n",
       "</table>\n",
       "<p>714 rows × 2 columns</p>\n",
       "</div>"
      ],
      "text/plain": [
       "     PersonID                                           ImageBGR\n",
       "0          13  [[[0, 0, 0], [0, 0, 0], [0, 0, 0], [0, 0, 0], ...\n",
       "1           9  [[[156, 217, 227], [155, 216, 226], [154, 214,...\n",
       "2           1  [[[0, 0, 0], [0, 0, 0], [0, 0, 0], [0, 0, 0], ...\n",
       "3          34  [[[1, 1, 7], [1, 1, 7], [1, 1, 7], [1, 1, 7], ...\n",
       "4          22  [[[0, 0, 0], [0, 0, 0], [0, 0, 0], [0, 0, 0], ...\n",
       "..        ...                                                ...\n",
       "709        34  [[[0, 0, 0], [0, 0, 0], [0, 0, 0], [0, 0, 0], ...\n",
       "710        34  [[[100, 108, 120], [106, 114, 127], [110, 118,...\n",
       "711        16  [[[0, 0, 0], [0, 0, 0], [0, 0, 0], [0, 0, 0], ...\n",
       "712        32  [[[4, 3, 132], [15, 17, 141], [33, 37, 153], [...\n",
       "713        32  [[[20, 76, 77], [22, 78, 79], [25, 81, 82], [2...\n",
       "\n",
       "[714 rows x 2 columns]"
      ]
     },
     "execution_count": 5,
     "metadata": {},
     "output_type": "execute_result"
    }
   ],
   "source": [
    "#FullPhoto Training data is being read from pkl file\n",
    "trainingDf = pd.read_pickle(\"../../../Data/Above90/FullPhoto/Training.pkl\")\n",
    "trainingDf"
   ]
  },
  {
   "cell_type": "code",
   "execution_count": 6,
   "metadata": {},
   "outputs": [
    {
     "data": {
      "text/plain": [
       "(714, 224, 224, 3)"
      ]
     },
     "execution_count": 6,
     "metadata": {},
     "output_type": "execute_result"
    }
   ],
   "source": [
    "#trainingX is being extracted from trainingDf as wanted shape\n",
    "#trainingX contains images with pixel values of data type np.uint8 in the range [0, 255]\n",
    "\n",
    "#Many pre-trained models, including the ones to be used within the scope of this project,\n",
    "#have been trained with images containing pixel values in the [-1, 1] range\n",
    "#In this way, the data will be symmetrical and the performance of the Backpropagation algorithm will be increased\n",
    "#See https://en.wikipedia.org/wiki/Backpropagation\n",
    "#See also https://stackoverflow.com/questions/59540276/why-in-preprocessing-image-data-we-need-to-do-zero-centered-data\n",
    "#Therefore, training will be performed by converting pixel values to this range with the simplest method (pixel / 127.5 - 1)\n",
    "\n",
    "trainingX = (np.array(trainingDf.ImageBGR.values.tolist()) / 127.5) - 1\n",
    "trainingX.shape"
   ]
  },
  {
   "cell_type": "code",
   "execution_count": 7,
   "metadata": {},
   "outputs": [
    {
     "data": {
      "text/plain": [
       "(714, 1)"
      ]
     },
     "execution_count": 7,
     "metadata": {},
     "output_type": "execute_result"
    }
   ],
   "source": [
    "#trainingY is being extracted from trainingDf as wanted shape\n",
    "trainingY = np.array(trainingDf.PersonID.values.tolist()).reshape((-1,1))\n",
    "trainingY.shape"
   ]
  },
  {
   "cell_type": "code",
   "execution_count": 8,
   "metadata": {},
   "outputs": [
    {
     "data": {
      "text/html": [
       "<div>\n",
       "<style scoped>\n",
       "    .dataframe tbody tr th:only-of-type {\n",
       "        vertical-align: middle;\n",
       "    }\n",
       "\n",
       "    .dataframe tbody tr th {\n",
       "        vertical-align: top;\n",
       "    }\n",
       "\n",
       "    .dataframe thead th {\n",
       "        text-align: right;\n",
       "    }\n",
       "</style>\n",
       "<table border=\"1\" class=\"dataframe\">\n",
       "  <thead>\n",
       "    <tr style=\"text-align: right;\">\n",
       "      <th></th>\n",
       "      <th>PersonID</th>\n",
       "      <th>ImageBGR</th>\n",
       "    </tr>\n",
       "  </thead>\n",
       "  <tbody>\n",
       "    <tr>\n",
       "      <th>0</th>\n",
       "      <td>19</td>\n",
       "      <td>[[[28, 8, 3], [28, 8, 3], [28, 8, 3], [28, 8, ...</td>\n",
       "    </tr>\n",
       "    <tr>\n",
       "      <th>1</th>\n",
       "      <td>9</td>\n",
       "      <td>[[[13, 20, 15], [13, 20, 15], [13, 20, 15], [1...</td>\n",
       "    </tr>\n",
       "    <tr>\n",
       "      <th>2</th>\n",
       "      <td>8</td>\n",
       "      <td>[[[94, 131, 175], [98, 135, 179], [99, 136, 18...</td>\n",
       "    </tr>\n",
       "    <tr>\n",
       "      <th>3</th>\n",
       "      <td>8</td>\n",
       "      <td>[[[132, 95, 69], [139, 102, 75], [150, 112, 84...</td>\n",
       "    </tr>\n",
       "    <tr>\n",
       "      <th>4</th>\n",
       "      <td>24</td>\n",
       "      <td>[[[0, 0, 0], [0, 0, 0], [0, 0, 0], [0, 0, 0], ...</td>\n",
       "    </tr>\n",
       "    <tr>\n",
       "      <th>...</th>\n",
       "      <td>...</td>\n",
       "      <td>...</td>\n",
       "    </tr>\n",
       "    <tr>\n",
       "      <th>119</th>\n",
       "      <td>37</td>\n",
       "      <td>[[[172, 70, 71], [172, 70, 71], [172, 70, 71],...</td>\n",
       "    </tr>\n",
       "    <tr>\n",
       "      <th>120</th>\n",
       "      <td>13</td>\n",
       "      <td>[[[2, 0, 0], [2, 0, 0], [2, 0, 0], [2, 0, 0], ...</td>\n",
       "    </tr>\n",
       "    <tr>\n",
       "      <th>121</th>\n",
       "      <td>7</td>\n",
       "      <td>[[[0, 0, 0], [0, 0, 0], [0, 0, 0], [0, 0, 0], ...</td>\n",
       "    </tr>\n",
       "    <tr>\n",
       "      <th>122</th>\n",
       "      <td>12</td>\n",
       "      <td>[[[198, 215, 224], [198, 215, 224], [198, 214,...</td>\n",
       "    </tr>\n",
       "    <tr>\n",
       "      <th>123</th>\n",
       "      <td>40</td>\n",
       "      <td>[[[0, 0, 0], [0, 0, 0], [0, 0, 0], [0, 0, 0], ...</td>\n",
       "    </tr>\n",
       "  </tbody>\n",
       "</table>\n",
       "<p>124 rows × 2 columns</p>\n",
       "</div>"
      ],
      "text/plain": [
       "     PersonID                                           ImageBGR\n",
       "0          19  [[[28, 8, 3], [28, 8, 3], [28, 8, 3], [28, 8, ...\n",
       "1           9  [[[13, 20, 15], [13, 20, 15], [13, 20, 15], [1...\n",
       "2           8  [[[94, 131, 175], [98, 135, 179], [99, 136, 18...\n",
       "3           8  [[[132, 95, 69], [139, 102, 75], [150, 112, 84...\n",
       "4          24  [[[0, 0, 0], [0, 0, 0], [0, 0, 0], [0, 0, 0], ...\n",
       "..        ...                                                ...\n",
       "119        37  [[[172, 70, 71], [172, 70, 71], [172, 70, 71],...\n",
       "120        13  [[[2, 0, 0], [2, 0, 0], [2, 0, 0], [2, 0, 0], ...\n",
       "121         7  [[[0, 0, 0], [0, 0, 0], [0, 0, 0], [0, 0, 0], ...\n",
       "122        12  [[[198, 215, 224], [198, 215, 224], [198, 214,...\n",
       "123        40  [[[0, 0, 0], [0, 0, 0], [0, 0, 0], [0, 0, 0], ...\n",
       "\n",
       "[124 rows x 2 columns]"
      ]
     },
     "execution_count": 8,
     "metadata": {},
     "output_type": "execute_result"
    }
   ],
   "source": [
    "#FullPhoto Validation data is being read from pkl file\n",
    "validationDf = pd.read_pickle(\"../../../Data/Above90/FullPhoto/Validation.pkl\")\n",
    "validationDf"
   ]
  },
  {
   "cell_type": "code",
   "execution_count": 9,
   "metadata": {},
   "outputs": [
    {
     "data": {
      "text/plain": [
       "(124, 224, 224, 3)"
      ]
     },
     "execution_count": 9,
     "metadata": {},
     "output_type": "execute_result"
    }
   ],
   "source": [
    "#validationX is being extracted from validationDf as wanted shape\n",
    "#validationX contains images with pixel values of data type np.uint8 in the range [0, 255]\n",
    "\n",
    "#Many pre-trained models, including the ones to be used within the scope of this project,\n",
    "#have been trained with images containing pixel values in the [-1, 1] range\n",
    "#In this way, the data will be symmetrical and the performance of the Backpropagation algorithm will be increased\n",
    "#See https://en.wikipedia.org/wiki/Backpropagation\n",
    "#See also https://stackoverflow.com/questions/59540276/why-in-preprocessing-image-data-we-need-to-do-zero-centered-data\n",
    "#Therefore, training will be performed by converting pixel values to this range with the simplest method (pixel / 127.5 - 1)\n",
    "\n",
    "validationX = (np.array(validationDf.ImageBGR.values.tolist()) / 127.5) - 1\n",
    "validationX.shape"
   ]
  },
  {
   "cell_type": "code",
   "execution_count": 10,
   "metadata": {},
   "outputs": [
    {
     "data": {
      "text/plain": [
       "(124, 1)"
      ]
     },
     "execution_count": 10,
     "metadata": {},
     "output_type": "execute_result"
    }
   ],
   "source": [
    "#validationY is being extracted from validationDf as wanted shape\n",
    "validationY = np.array(validationDf.PersonID.values.tolist()).reshape((-1,1))\n",
    "validationY.shape"
   ]
  },
  {
   "cell_type": "code",
   "execution_count": 11,
   "metadata": {},
   "outputs": [
    {
     "name": "stdout",
     "output_type": "stream",
     "text": [
      "Model: \"vgg16\"\n",
      "_________________________________________________________________\n",
      "Layer (type)                 Output Shape              Param #   \n",
      "=================================================================\n",
      "input_1 (InputLayer)         [(None, 224, 224, 3)]     0         \n",
      "_________________________________________________________________\n",
      "block1_conv1 (Conv2D)        (None, 224, 224, 64)      1792      \n",
      "_________________________________________________________________\n",
      "block1_conv2 (Conv2D)        (None, 224, 224, 64)      36928     \n",
      "_________________________________________________________________\n",
      "block1_pool (MaxPooling2D)   (None, 112, 112, 64)      0         \n",
      "_________________________________________________________________\n",
      "block2_conv1 (Conv2D)        (None, 112, 112, 128)     73856     \n",
      "_________________________________________________________________\n",
      "block2_conv2 (Conv2D)        (None, 112, 112, 128)     147584    \n",
      "_________________________________________________________________\n",
      "block2_pool (MaxPooling2D)   (None, 56, 56, 128)       0         \n",
      "_________________________________________________________________\n",
      "block3_conv1 (Conv2D)        (None, 56, 56, 256)       295168    \n",
      "_________________________________________________________________\n",
      "block3_conv2 (Conv2D)        (None, 56, 56, 256)       590080    \n",
      "_________________________________________________________________\n",
      "block3_conv3 (Conv2D)        (None, 56, 56, 256)       590080    \n",
      "_________________________________________________________________\n",
      "block3_pool (MaxPooling2D)   (None, 28, 28, 256)       0         \n",
      "_________________________________________________________________\n",
      "block4_conv1 (Conv2D)        (None, 28, 28, 512)       1180160   \n",
      "_________________________________________________________________\n",
      "block4_conv2 (Conv2D)        (None, 28, 28, 512)       2359808   \n",
      "_________________________________________________________________\n",
      "block4_conv3 (Conv2D)        (None, 28, 28, 512)       2359808   \n",
      "_________________________________________________________________\n",
      "block4_pool (MaxPooling2D)   (None, 14, 14, 512)       0         \n",
      "_________________________________________________________________\n",
      "block5_conv1 (Conv2D)        (None, 14, 14, 512)       2359808   \n",
      "_________________________________________________________________\n",
      "block5_conv2 (Conv2D)        (None, 14, 14, 512)       2359808   \n",
      "_________________________________________________________________\n",
      "block5_conv3 (Conv2D)        (None, 14, 14, 512)       2359808   \n",
      "_________________________________________________________________\n",
      "block5_pool (MaxPooling2D)   (None, 7, 7, 512)         0         \n",
      "=================================================================\n",
      "Total params: 14,714,688\n",
      "Trainable params: 14,714,688\n",
      "Non-trainable params: 0\n",
      "_________________________________________________________________\n"
     ]
    }
   ],
   "source": [
    "#VGG16 pre-trained model is being loaded\n",
    "#The original VGG16 model was trained with images with size of (224, 224, 3) \n",
    "#in BGR color order and pixel values of [-1, 1] (zero centered) as default\n",
    "#See https://keras.io/api/applications/vgg/ for more information\n",
    "#Since images of dataset saved as size of (224, 224, 3) in BGR color order and pixel values of [0, 255]\n",
    "#Pixel values were converted to [-1, 1] range while preparing trainingX and validationX\n",
    "\n",
    "#Training will be performed in the sections between the last CNN block and the Output layer\n",
    "\n",
    "model = tf.keras.applications.vgg16.VGG16(include_top = False, input_shape = ((224, 224, 3)))\n",
    "model.summary()"
   ]
  },
  {
   "cell_type": "code",
   "execution_count": 12,
   "metadata": {},
   "outputs": [
    {
     "data": {
      "text/plain": [
       "15"
      ]
     },
     "execution_count": 12,
     "metadata": {},
     "output_type": "execute_result"
    }
   ],
   "source": [
    "#Number of layers of pre-trained model is being calculated except last CNN block\n",
    "nonTrainablePart = len(model.layers) - 4\n",
    "nonTrainablePart"
   ]
  },
  {
   "cell_type": "code",
   "execution_count": 13,
   "metadata": {},
   "outputs": [
    {
     "name": "stdout",
     "output_type": "stream",
     "text": [
      "Model: \"vgg16\"\n",
      "_________________________________________________________________\n",
      "Layer (type)                 Output Shape              Param #   \n",
      "=================================================================\n",
      "input_1 (InputLayer)         [(None, 224, 224, 3)]     0         \n",
      "_________________________________________________________________\n",
      "block1_conv1 (Conv2D)        (None, 224, 224, 64)      1792      \n",
      "_________________________________________________________________\n",
      "block1_conv2 (Conv2D)        (None, 224, 224, 64)      36928     \n",
      "_________________________________________________________________\n",
      "block1_pool (MaxPooling2D)   (None, 112, 112, 64)      0         \n",
      "_________________________________________________________________\n",
      "block2_conv1 (Conv2D)        (None, 112, 112, 128)     73856     \n",
      "_________________________________________________________________\n",
      "block2_conv2 (Conv2D)        (None, 112, 112, 128)     147584    \n",
      "_________________________________________________________________\n",
      "block2_pool (MaxPooling2D)   (None, 56, 56, 128)       0         \n",
      "_________________________________________________________________\n",
      "block3_conv1 (Conv2D)        (None, 56, 56, 256)       295168    \n",
      "_________________________________________________________________\n",
      "block3_conv2 (Conv2D)        (None, 56, 56, 256)       590080    \n",
      "_________________________________________________________________\n",
      "block3_conv3 (Conv2D)        (None, 56, 56, 256)       590080    \n",
      "_________________________________________________________________\n",
      "block3_pool (MaxPooling2D)   (None, 28, 28, 256)       0         \n",
      "_________________________________________________________________\n",
      "block4_conv1 (Conv2D)        (None, 28, 28, 512)       1180160   \n",
      "_________________________________________________________________\n",
      "block4_conv2 (Conv2D)        (None, 28, 28, 512)       2359808   \n",
      "_________________________________________________________________\n",
      "block4_conv3 (Conv2D)        (None, 28, 28, 512)       2359808   \n",
      "_________________________________________________________________\n",
      "block4_pool (MaxPooling2D)   (None, 14, 14, 512)       0         \n",
      "_________________________________________________________________\n",
      "block5_conv1 (Conv2D)        (None, 14, 14, 512)       2359808   \n",
      "_________________________________________________________________\n",
      "block5_conv2 (Conv2D)        (None, 14, 14, 512)       2359808   \n",
      "_________________________________________________________________\n",
      "block5_conv3 (Conv2D)        (None, 14, 14, 512)       2359808   \n",
      "_________________________________________________________________\n",
      "block5_pool (MaxPooling2D)   (None, 7, 7, 512)         0         \n",
      "=================================================================\n",
      "Total params: 14,714,688\n",
      "Trainable params: 7,079,424\n",
      "Non-trainable params: 7,635,264\n",
      "_________________________________________________________________\n"
     ]
    }
   ],
   "source": [
    "#Pre-trained model's layers except the last CNN block is being set to non-trainable\n",
    "for layer in model.layers[:nonTrainablePart]:\n",
    "    layer.trainable = False\n",
    "model.summary()"
   ]
  },
  {
   "cell_type": "code",
   "execution_count": 14,
   "metadata": {},
   "outputs": [
    {
     "name": "stdout",
     "output_type": "stream",
     "text": [
      "Model: \"sequential\"\n",
      "_________________________________________________________________\n",
      "Layer (type)                 Output Shape              Param #   \n",
      "=================================================================\n",
      "vgg16 (Functional)           (None, 7, 7, 512)         14714688  \n",
      "_________________________________________________________________\n",
      "flatten (Flatten)            (None, 25088)             0         \n",
      "_________________________________________________________________\n",
      "dense (Dense)                (None, 2048)              51382272  \n",
      "_________________________________________________________________\n",
      "dense_1 (Dense)              (None, 2048)              4196352   \n",
      "_________________________________________________________________\n",
      "dropout (Dropout)            (None, 2048)              0         \n",
      "_________________________________________________________________\n",
      "dense_2 (Dense)              (None, 42)                86058     \n",
      "=================================================================\n",
      "Total params: 70,379,370\n",
      "Trainable params: 62,744,106\n",
      "Non-trainable params: 7,635,264\n",
      "_________________________________________________________________\n"
     ]
    }
   ],
   "source": [
    "#The pre-trained model is being connected to the fully connected layer\n",
    "#A dropout layer is being added to the the model to prevent overfitting,\n",
    "#and the model is being completed with the addition of the output layer\n",
    "model = tf.keras.models.Sequential([\n",
    "    model,\n",
    "    tf.keras.layers.Flatten(),\n",
    "    tf.keras.layers.Dense(2048, activation = 'relu'),\n",
    "    tf.keras.layers.Dense(2048, activation = 'relu'),\n",
    "    tf.keras.layers.Dropout(0.2),\n",
    "    tf.keras.layers.Dense(personDf.shape[0], activation = tf.nn.softmax)\n",
    "])\n",
    "model.summary()"
   ]
  },
  {
   "cell_type": "code",
   "execution_count": 15,
   "metadata": {},
   "outputs": [],
   "source": [
    "#Model is being compiled with Adam optimizer\n",
    "#Adam optimizer is a common used optimizer\n",
    "#See https://keras.io/api/optimizers/adam/\n",
    "#See also https://towardsdatascience.com/7-tips-to-choose-the-best-optimizer-47bb9c1219e\n",
    "#SparseCategoricalCrossentropy loss function is being used because of the label format of the data\n",
    "#SparseCategoricalAccuracy is being used as metric because of the label format of the data\n",
    "model.compile(\n",
    "    optimizer=tf.keras.optimizers.Adam(),\n",
    "    loss=tf.keras.losses.SparseCategoricalCrossentropy(),\n",
    "    metrics=[tf.keras.metrics.SparseCategoricalAccuracy(name = 'accuracy')]\n",
    ")"
   ]
  },
  {
   "cell_type": "code",
   "execution_count": 16,
   "metadata": {},
   "outputs": [],
   "source": [
    "#A class inherited from keras utils Sequence is being created\n",
    "class FitSequence(tf.keras.utils.Sequence):\n",
    "    \n",
    "    #Constructor method is being defined\n",
    "    def __init__(self, image, label, batchSize):\n",
    "        self.image, self.label = image, label\n",
    "        self.batchSize = batchSize\n",
    "        \n",
    "        #A numpy array for image indexes is being created\n",
    "        #This array will be used to shuffle the data\n",
    "        self.index = np.arange(self.image.shape[0])\n",
    "    \n",
    "    #__len__ method is being defined\n",
    "    #This method will be used by the model to show the amount of progress of each epoch\n",
    "    def __len__(self):\n",
    "        return int(np.ceil(self.image.shape[0] / float(self.batchSize)))\n",
    "    \n",
    "    #__getitem__ method is being defined\n",
    "    #The model will retrieve the batches it will use during training by calling this method\n",
    "    #With this method, the data to be used by the model can be manipulated\n",
    "    def __getitem__(self, idx):\n",
    "        \n",
    "        #When the model requests data, the next batch size will be selected based on index array\n",
    "        indexPart = self.index[idx * self.batchSize : (idx + 1) * self.batchSize]\n",
    "        \n",
    "        batchX = self.image[indexPart]\n",
    "        batchY = self.label[indexPart]\n",
    "        return np.array(batchX), np.array(batchY)\n",
    "    \n",
    "    #on_epoch_end method is being defined\n",
    "    #The model will call this method after each epoch is ended\n",
    "    def on_epoch_end(self):\n",
    "        \n",
    "        #At the end of the epoch, the index array is being shuffled \n",
    "        #so that the data in the next epoch is returned in different orders\n",
    "        np.random.shuffle(self.index)"
   ]
  },
  {
   "cell_type": "code",
   "execution_count": 17,
   "metadata": {},
   "outputs": [
    {
     "name": "stdout",
     "output_type": "stream",
     "text": [
      "Epoch 1/50\n",
      "45/45 [==============================] - 70s 1s/step - loss: 4.9529 - accuracy: 0.0140 - val_loss: 3.7377 - val_accuracy: 0.0242\n",
      "Epoch 2/50\n",
      "45/45 [==============================] - 35s 772ms/step - loss: 3.7392 - accuracy: 0.0140 - val_loss: 3.7376 - val_accuracy: 0.0242\n",
      "Epoch 3/50\n",
      "45/45 [==============================] - 35s 788ms/step - loss: 3.7388 - accuracy: 0.0154 - val_loss: 3.7377 - val_accuracy: 0.0242\n",
      "Epoch 4/50\n",
      "45/45 [==============================] - 35s 786ms/step - loss: 3.7388 - accuracy: 0.0238 - val_loss: 3.7375 - val_accuracy: 0.0242\n",
      "Epoch 5/50\n",
      "45/45 [==============================] - 36s 791ms/step - loss: 3.7387 - accuracy: 0.0112 - val_loss: 3.7377 - val_accuracy: 0.0242\n",
      "Epoch 6/50\n",
      "45/45 [==============================] - 36s 791ms/step - loss: 3.7388 - accuracy: 0.0168 - val_loss: 3.7377 - val_accuracy: 0.0242\n",
      "Epoch 7/50\n",
      "45/45 [==============================] - 35s 784ms/step - loss: 3.7384 - accuracy: 0.0238 - val_loss: 3.7377 - val_accuracy: 0.0242\n",
      "Epoch 8/50\n",
      "45/45 [==============================] - 35s 787ms/step - loss: 3.7385 - accuracy: 0.0182 - val_loss: 3.7377 - val_accuracy: 0.0242\n",
      "Epoch 9/50\n",
      "45/45 [==============================] - 36s 798ms/step - loss: 3.7384 - accuracy: 0.0182 - val_loss: 3.7377 - val_accuracy: 0.0242\n",
      "Epoch 10/50\n",
      "45/45 [==============================] - 35s 779ms/step - loss: 3.7384 - accuracy: 0.0168 - val_loss: 3.7377 - val_accuracy: 0.0242\n",
      "Epoch 11/50\n",
      "45/45 [==============================] - 35s 785ms/step - loss: 3.7386 - accuracy: 0.0154 - val_loss: 3.7377 - val_accuracy: 0.0242\n",
      "Epoch 12/50\n",
      "45/45 [==============================] - 36s 791ms/step - loss: 3.7384 - accuracy: 0.0126 - val_loss: 3.7376 - val_accuracy: 0.0242\n",
      "Epoch 13/50\n",
      "45/45 [==============================] - 35s 784ms/step - loss: 3.7384 - accuracy: 0.0224 - val_loss: 3.7376 - val_accuracy: 0.0242\n",
      "Epoch 14/50\n",
      "45/45 [==============================] - 37s 818ms/step - loss: 3.7384 - accuracy: 0.0210 - val_loss: 3.7376 - val_accuracy: 0.0242\n",
      "Epoch 15/50\n",
      "45/45 [==============================] - 37s 819ms/step - loss: 3.7384 - accuracy: 0.0196 - val_loss: 3.7376 - val_accuracy: 0.0242\n",
      "Epoch 16/50\n",
      "45/45 [==============================] - 36s 806ms/step - loss: 3.7384 - accuracy: 0.0182 - val_loss: 3.7376 - val_accuracy: 0.0242\n",
      "Epoch 17/50\n",
      "45/45 [==============================] - 36s 807ms/step - loss: 3.7383 - accuracy: 0.0196 - val_loss: 3.7376 - val_accuracy: 0.0242\n",
      "Epoch 18/50\n",
      "45/45 [==============================] - 35s 789ms/step - loss: 3.7383 - accuracy: 0.0168 - val_loss: 3.7376 - val_accuracy: 0.0242\n",
      "Epoch 19/50\n",
      "45/45 [==============================] - 35s 789ms/step - loss: 3.7383 - accuracy: 0.0112 - val_loss: 3.7377 - val_accuracy: 0.0242\n",
      "Epoch 20/50\n",
      "45/45 [==============================] - 35s 789ms/step - loss: 3.7383 - accuracy: 0.0168 - val_loss: 3.7377 - val_accuracy: 0.0242\n",
      "Epoch 21/50\n",
      "45/45 [==============================] - 36s 803ms/step - loss: 3.7384 - accuracy: 0.0098 - val_loss: 3.7376 - val_accuracy: 0.0242\n",
      "Epoch 22/50\n",
      "45/45 [==============================] - 36s 809ms/step - loss: 3.7382 - accuracy: 0.0182 - val_loss: 3.7376 - val_accuracy: 0.0242\n",
      "Epoch 23/50\n",
      "45/45 [==============================] - 36s 805ms/step - loss: 3.7383 - accuracy: 0.0224 - val_loss: 3.7377 - val_accuracy: 0.0242\n",
      "Epoch 24/50\n",
      "45/45 [==============================] - 37s 813ms/step - loss: 3.7384 - accuracy: 0.0154 - val_loss: 3.7376 - val_accuracy: 0.0242\n",
      "Epoch 25/50\n",
      "45/45 [==============================] - 36s 809ms/step - loss: 3.7383 - accuracy: 0.0098 - val_loss: 3.7376 - val_accuracy: 0.0242\n",
      "Epoch 26/50\n",
      "45/45 [==============================] - 36s 806ms/step - loss: 3.7381 - accuracy: 0.0168 - val_loss: 3.7376 - val_accuracy: 0.0242\n",
      "Epoch 27/50\n",
      "45/45 [==============================] - 37s 818ms/step - loss: 3.7382 - accuracy: 0.0140 - val_loss: 3.7376 - val_accuracy: 0.0242\n",
      "Epoch 28/50\n",
      "45/45 [==============================] - 37s 817ms/step - loss: 3.7383 - accuracy: 0.0154 - val_loss: 3.7377 - val_accuracy: 0.0242\n",
      "Epoch 29/50\n",
      "45/45 [==============================] - 37s 821ms/step - loss: 3.7382 - accuracy: 0.0140 - val_loss: 3.7377 - val_accuracy: 0.0242\n",
      "Epoch 30/50\n",
      "45/45 [==============================] - 37s 823ms/step - loss: 3.7383 - accuracy: 0.0154 - val_loss: 3.7376 - val_accuracy: 0.0242\n",
      "Epoch 31/50\n",
      "45/45 [==============================] - 37s 827ms/step - loss: 3.7383 - accuracy: 0.0126 - val_loss: 3.7376 - val_accuracy: 0.0242\n",
      "Epoch 32/50\n",
      "45/45 [==============================] - 36s 808ms/step - loss: 3.7383 - accuracy: 0.0084 - val_loss: 3.7377 - val_accuracy: 0.0242\n",
      "Epoch 33/50\n",
      "45/45 [==============================] - 36s 812ms/step - loss: 3.7383 - accuracy: 0.0140 - val_loss: 3.7376 - val_accuracy: 0.0242\n",
      "Epoch 34/50\n",
      "45/45 [==============================] - 36s 803ms/step - loss: 3.7382 - accuracy: 0.0182 - val_loss: 3.7376 - val_accuracy: 0.0242\n",
      "Epoch 35/50\n",
      "45/45 [==============================] - 36s 799ms/step - loss: 3.7382 - accuracy: 0.0154 - val_loss: 3.7376 - val_accuracy: 0.0242\n",
      "Epoch 36/50\n",
      "45/45 [==============================] - 36s 801ms/step - loss: 3.7381 - accuracy: 0.0126 - val_loss: 3.7376 - val_accuracy: 0.0242\n",
      "Epoch 37/50\n",
      "45/45 [==============================] - 36s 802ms/step - loss: 3.7382 - accuracy: 0.0168 - val_loss: 3.7377 - val_accuracy: 0.0242\n",
      "Epoch 38/50\n",
      "45/45 [==============================] - 37s 815ms/step - loss: 3.7383 - accuracy: 0.0140 - val_loss: 3.7377 - val_accuracy: 0.0242\n",
      "Epoch 39/50\n",
      "45/45 [==============================] - 37s 825ms/step - loss: 3.7383 - accuracy: 0.0182 - val_loss: 3.7377 - val_accuracy: 0.0242\n",
      "Epoch 40/50\n",
      "45/45 [==============================] - 37s 831ms/step - loss: 3.7382 - accuracy: 0.0140 - val_loss: 3.7377 - val_accuracy: 0.0242\n",
      "Epoch 41/50\n",
      "45/45 [==============================] - 38s 834ms/step - loss: 3.7382 - accuracy: 0.0182 - val_loss: 3.7376 - val_accuracy: 0.0242\n",
      "Epoch 42/50\n",
      "45/45 [==============================] - 37s 818ms/step - loss: 3.7382 - accuracy: 0.0126 - val_loss: 3.7377 - val_accuracy: 0.0242\n",
      "Epoch 43/50\n",
      "45/45 [==============================] - 37s 819ms/step - loss: 3.7381 - accuracy: 0.0168 - val_loss: 3.7376 - val_accuracy: 0.0242\n",
      "Epoch 44/50\n",
      "45/45 [==============================] - 37s 828ms/step - loss: 3.7382 - accuracy: 0.0168 - val_loss: 3.7377 - val_accuracy: 0.0242\n",
      "Epoch 45/50\n",
      "45/45 [==============================] - 37s 828ms/step - loss: 3.7383 - accuracy: 0.0084 - val_loss: 3.7377 - val_accuracy: 0.0242\n",
      "Epoch 46/50\n",
      "45/45 [==============================] - 37s 826ms/step - loss: 3.7383 - accuracy: 0.0196 - val_loss: 3.7377 - val_accuracy: 0.0242\n",
      "Epoch 47/50\n",
      "45/45 [==============================] - 37s 821ms/step - loss: 3.7382 - accuracy: 0.0168 - val_loss: 3.7377 - val_accuracy: 0.0242\n",
      "Epoch 48/50\n",
      "45/45 [==============================] - 37s 816ms/step - loss: 3.7382 - accuracy: 0.0154 - val_loss: 3.7377 - val_accuracy: 0.0242\n",
      "Epoch 49/50\n",
      "45/45 [==============================] - 37s 813ms/step - loss: 3.7382 - accuracy: 0.0112 - val_loss: 3.7377 - val_accuracy: 0.0242\n",
      "Epoch 50/50\n",
      "45/45 [==============================] - 37s 826ms/step - loss: 3.7383 - accuracy: 0.0140 - val_loss: 3.7377 - val_accuracy: 0.0242\n"
     ]
    }
   ],
   "source": [
    "#model is being trained with 50 epochs and 16 batchSize using GPU\n",
    "#A small batchSize value is being chosen to prevent GPU memory problem\n",
    "#Large batchSize reduce training time while also generally providing better results\n",
    "with tf.device(myGPU):\n",
    "    trainingHistory = model.fit(\n",
    "        FitSequence(trainingX, trainingY, 16),\n",
    "        epochs = 50,\n",
    "        validation_data = FitSequence(validationX, validationY, 16)\n",
    "    )"
   ]
  },
  {
   "cell_type": "code",
   "execution_count": 18,
   "metadata": {},
   "outputs": [
    {
     "data": {
      "image/png": "[encoded data removed]",
      "text/plain": [
       "<Figure size 432x288 with 1 Axes>"
      ]
     },
     "metadata": {
      "needs_background": "light"
     },
     "output_type": "display_data"
    }
   ],
   "source": [
    "#Loss Chart is being drawn\n",
    "\n",
    "#Chart Values\n",
    "plt.plot(trainingHistory.history['loss'])\n",
    "plt.plot(trainingHistory.history['val_loss'])\n",
    "\n",
    "#Chart Tittle\n",
    "plt.title('Model Loss Chart')\n",
    "\n",
    "#Chart Labels\n",
    "plt.ylabel('loss')\n",
    "plt.xlabel('epoch')\n",
    "\n",
    "#Chart Lines\n",
    "plt.legend(['Training', 'Validation'], loc='upper left')\n",
    "\n",
    "#Show Method\n",
    "plt.show()"
   ]
  },
  {
   "cell_type": "code",
   "execution_count": 19,
   "metadata": {},
   "outputs": [
    {
     "data": {
      "image/png": "[encoded data removed]",
      "text/plain": [
       "<Figure size 432x288 with 1 Axes>"
      ]
     },
     "metadata": {
      "needs_background": "light"
     },
     "output_type": "display_data"
    }
   ],
   "source": [
    "#Loss Chart is being drawn\n",
    "\n",
    "#Chart Values\n",
    "plt.plot(trainingHistory.history['accuracy'])\n",
    "plt.plot(trainingHistory.history['val_accuracy'])\n",
    "\n",
    "#Chart Tittle\n",
    "plt.title('model accuracy')\n",
    "\n",
    "#Chart Labels\n",
    "plt.ylabel('accuracy')\n",
    "plt.xlabel('epoch')\n",
    "\n",
    "#Chart Lines\n",
    "plt.legend(['Training', 'Validation'], loc='upper left')\n",
    "\n",
    "#Show Method\n",
    "plt.show()"
   ]
  },
  {
   "cell_type": "code",
   "execution_count": 20,
   "metadata": {},
   "outputs": [
    {
     "data": {
      "text/html": [
       "<div>\n",
       "<style scoped>\n",
       "    .dataframe tbody tr th:only-of-type {\n",
       "        vertical-align: middle;\n",
       "    }\n",
       "\n",
       "    .dataframe tbody tr th {\n",
       "        vertical-align: top;\n",
       "    }\n",
       "\n",
       "    .dataframe thead th {\n",
       "        text-align: right;\n",
       "    }\n",
       "</style>\n",
       "<table border=\"1\" class=\"dataframe\">\n",
       "  <thead>\n",
       "    <tr style=\"text-align: right;\">\n",
       "      <th></th>\n",
       "      <th>PersonID</th>\n",
       "      <th>ImageBGR</th>\n",
       "    </tr>\n",
       "  </thead>\n",
       "  <tbody>\n",
       "    <tr>\n",
       "      <th>0</th>\n",
       "      <td>9</td>\n",
       "      <td>[[[166, 148, 131], [167, 146, 129], [159, 136,...</td>\n",
       "    </tr>\n",
       "    <tr>\n",
       "      <th>1</th>\n",
       "      <td>40</td>\n",
       "      <td>[[[8, 0, 0], [8, 0, 0], [8, 0, 0], [8, 0, 0], ...</td>\n",
       "    </tr>\n",
       "    <tr>\n",
       "      <th>2</th>\n",
       "      <td>6</td>\n",
       "      <td>[[[32, 124, 175], [31, 123, 174], [29, 120, 17...</td>\n",
       "    </tr>\n",
       "    <tr>\n",
       "      <th>3</th>\n",
       "      <td>19</td>\n",
       "      <td>[[[144, 143, 131], [163, 160, 150], [176, 175,...</td>\n",
       "    </tr>\n",
       "    <tr>\n",
       "      <th>4</th>\n",
       "      <td>28</td>\n",
       "      <td>[[[24, 68, 121], [25, 69, 122], [25, 69, 122],...</td>\n",
       "    </tr>\n",
       "    <tr>\n",
       "      <th>...</th>\n",
       "      <td>...</td>\n",
       "      <td>...</td>\n",
       "    </tr>\n",
       "    <tr>\n",
       "      <th>121</th>\n",
       "      <td>29</td>\n",
       "      <td>[[[5, 0, 1], [0, 0, 0], [0, 1, 0], [0, 2, 0], ...</td>\n",
       "    </tr>\n",
       "    <tr>\n",
       "      <th>122</th>\n",
       "      <td>32</td>\n",
       "      <td>[[[190, 206, 213], [190, 206, 213], [190, 206,...</td>\n",
       "    </tr>\n",
       "    <tr>\n",
       "      <th>123</th>\n",
       "      <td>33</td>\n",
       "      <td>[[[103, 128, 158], [108, 132, 159], [118, 140,...</td>\n",
       "    </tr>\n",
       "    <tr>\n",
       "      <th>124</th>\n",
       "      <td>5</td>\n",
       "      <td>[[[160, 196, 192], [156, 193, 190], [154, 192,...</td>\n",
       "    </tr>\n",
       "    <tr>\n",
       "      <th>125</th>\n",
       "      <td>5</td>\n",
       "      <td>[[[208, 204, 215], [207, 203, 214], [205, 201,...</td>\n",
       "    </tr>\n",
       "  </tbody>\n",
       "</table>\n",
       "<p>126 rows × 2 columns</p>\n",
       "</div>"
      ],
      "text/plain": [
       "     PersonID                                           ImageBGR\n",
       "0           9  [[[166, 148, 131], [167, 146, 129], [159, 136,...\n",
       "1          40  [[[8, 0, 0], [8, 0, 0], [8, 0, 0], [8, 0, 0], ...\n",
       "2           6  [[[32, 124, 175], [31, 123, 174], [29, 120, 17...\n",
       "3          19  [[[144, 143, 131], [163, 160, 150], [176, 175,...\n",
       "4          28  [[[24, 68, 121], [25, 69, 122], [25, 69, 122],...\n",
       "..        ...                                                ...\n",
       "121        29  [[[5, 0, 1], [0, 0, 0], [0, 1, 0], [0, 2, 0], ...\n",
       "122        32  [[[190, 206, 213], [190, 206, 213], [190, 206,...\n",
       "123        33  [[[103, 128, 158], [108, 132, 159], [118, 140,...\n",
       "124         5  [[[160, 196, 192], [156, 193, 190], [154, 192,...\n",
       "125         5  [[[208, 204, 215], [207, 203, 214], [205, 201,...\n",
       "\n",
       "[126 rows x 2 columns]"
      ]
     },
     "execution_count": 20,
     "metadata": {},
     "output_type": "execute_result"
    }
   ],
   "source": [
    "#FullPhoto Test data is being read from pkl file\n",
    "testDf = pd.read_pickle(\"../../../Data/Above90/FullPhoto/Test.pkl\")\n",
    "testDf"
   ]
  },
  {
   "cell_type": "code",
   "execution_count": 21,
   "metadata": {},
   "outputs": [
    {
     "data": {
      "text/plain": [
       "(126, 224, 224, 3)"
      ]
     },
     "execution_count": 21,
     "metadata": {},
     "output_type": "execute_result"
    }
   ],
   "source": [
    "#testX is being extracted from testDf as wanted shape\n",
    "#Pixel values are being converted  to the [-1, 1] range with the simplest method (pixel / 127.5 - 1)\n",
    "testX = (np.array(testDf.ImageBGR.values.tolist()) / 127.5) - 1\n",
    "testX.shape"
   ]
  },
  {
   "cell_type": "code",
   "execution_count": 22,
   "metadata": {},
   "outputs": [
    {
     "data": {
      "text/plain": [
       "(126, 1)"
      ]
     },
     "execution_count": 22,
     "metadata": {},
     "output_type": "execute_result"
    }
   ],
   "source": [
    "#testY is being extracted from testDf as wanted shape\n",
    "testY = np.array(testDf.PersonID.values.tolist()).reshape((-1,1))\n",
    "testY.shape"
   ]
  },
  {
   "cell_type": "code",
   "execution_count": 23,
   "metadata": {},
   "outputs": [
    {
     "name": "stdout",
     "output_type": "stream",
     "text": [
      "8/8 [==============================] - 14s 2s/step - loss: 3.7377 - accuracy: 0.0238\n"
     ]
    }
   ],
   "source": [
    "#Model is being evaluated with test data\n",
    "#Sequence class is being also used for evaluation to convert test data into the same format as training data\n",
    "testResult = model.evaluate(FitSequence(testX, testY, 16))"
   ]
  },
  {
   "cell_type": "code",
   "execution_count": 24,
   "metadata": {},
   "outputs": [
    {
     "name": "stdout",
     "output_type": "stream",
     "text": [
      "Test Loss: 3.7376720905303955\n"
     ]
    }
   ],
   "source": [
    "#Test Loss is being Printed\n",
    "print('Test Loss: ' + str(testResult[0]))"
   ]
  },
  {
   "cell_type": "code",
   "execution_count": 25,
   "metadata": {},
   "outputs": [
    {
     "name": "stdout",
     "output_type": "stream",
     "text": [
      "Test Accuracy: 0.02380952425301075\n"
     ]
    }
   ],
   "source": [
    "#Test Accuracy is being Printed\n",
    "print('Test Accuracy: ' + str(testResult[1]))"
   ]
  },
  {
   "cell_type": "markdown",
   "metadata": {},
   "source": [
    "# Training9 Inference\n",
    "\n",
    "By looking at the charts, it can be seen that learning does not take place.\n",
    "\n",
    "The model has not learned enough to have any success even on the Training data, even overfitting did not occur.\n",
    "\n",
    "Performance can be improved by trying Hyperparameter Optimization methods.\n",
    "\n",
    "See https://en.wikipedia.org/wiki/Hyperparameter_optimization."
   ]
  }
 ],
 "metadata": {
  "kernelspec": {
   "display_name": "Py39AI",
   "language": "python",
   "name": "py39ai"
  },
  "language_info": {
   "codemirror_mode": {
    "name": "ipython",
    "version": 3
   },
   "file_extension": ".py",
   "mimetype": "text/x-python",
   "name": "python",
   "nbconvert_exporter": "python",
   "pygments_lexer": "ipython3",
   "version": "3.9.12"
  }
 },
 "nbformat": 4,
 "nbformat_minor": 2
}
