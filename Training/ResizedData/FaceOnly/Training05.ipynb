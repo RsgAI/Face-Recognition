{
 "cells": [
  {
   "cell_type": "markdown",
   "metadata": {},
   "source": [
    "# Training5\n",
    "\n",
    "In this notebook file, ResizedData-FaceOnly dataset will be read from pkl file.\n",
    "\n",
    "Input(X) and Output(Y) numpy arrays will be created from pandas dataframes.\n",
    "\n",
    "VGG16 pre-trained model will be load and used.\n",
    "\n",
    "The pre-trained model will be set to non-trainable and will only be used for feature extraction.\n",
    "\n",
    "Training will only be performed on the fully connected layers and the output layer, that will be added to the end of the pre-trained model.\n",
    "\n",
    "In this way, the experience gained by the model on very large data sets will be used for this classification problem.\n",
    "\n",
    "This method is known as [**Transfer Learning**](https://en.wikipedia.org/wiki/Transfer_learning \"wikipedia\").\n",
    "\n",
    "A keras utils Sequence class will be defined so that operations can be performed on the data to be used during the training.\n",
    "\n",
    "Performance will be checked with Validation data while training model with Training data.\n",
    "\n",
    "Accuracy and Loss charts will be drawn according to epoch numbers.\n",
    "\n",
    "The results obtained by evaluating the model with Test data will be printed."
   ]
  },
  {
   "cell_type": "code",
   "execution_count": 1,
   "metadata": {},
   "outputs": [],
   "source": [
    "#Libraries are being imported\n",
    "import numpy as np\n",
    "import pandas as pd\n",
    "import tensorflow as tf\n",
    "import matplotlib\n",
    "import matplotlib.pyplot as plt"
   ]
  },
  {
   "cell_type": "code",
   "execution_count": 2,
   "metadata": {},
   "outputs": [
    {
     "name": "stdout",
     "output_type": "stream",
     "text": [
      "numpy Version: 1.22.3\n",
      "pandas Version: 1.4.3\n",
      "tensorflow Version: 2.6.0\n",
      "matplotlib Version: 3.5.2\n"
     ]
    }
   ],
   "source": [
    "#Library versions are being printed\n",
    "print('numpy Version: ' + np.__version__)\n",
    "print('pandas Version: ' + pd.__version__)\n",
    "print('tensorflow Version: ' + tf.__version__)\n",
    "print('matplotlib Version: ' + matplotlib.__version__)"
   ]
  },
  {
   "cell_type": "code",
   "execution_count": 3,
   "metadata": {},
   "outputs": [
    {
     "name": "stdout",
     "output_type": "stream",
     "text": [
      "/device:GPU:0\n"
     ]
    }
   ],
   "source": [
    "#GPU will be used for training\n",
    "myGPU = tf.test.gpu_device_name()\n",
    "if myGPU:\n",
    "    print(myGPU)\n",
    "else:\n",
    "    print(\"Error\")"
   ]
  },
  {
   "cell_type": "code",
   "execution_count": 4,
   "metadata": {},
   "outputs": [
    {
     "data": {
      "text/html": [
       "<div>\n",
       "<style scoped>\n",
       "    .dataframe tbody tr th:only-of-type {\n",
       "        vertical-align: middle;\n",
       "    }\n",
       "\n",
       "    .dataframe tbody tr th {\n",
       "        vertical-align: top;\n",
       "    }\n",
       "\n",
       "    .dataframe thead th {\n",
       "        text-align: right;\n",
       "    }\n",
       "</style>\n",
       "<table border=\"1\" class=\"dataframe\">\n",
       "  <thead>\n",
       "    <tr style=\"text-align: right;\">\n",
       "      <th></th>\n",
       "      <th>Name</th>\n",
       "    </tr>\n",
       "    <tr>\n",
       "      <th>ID</th>\n",
       "      <th></th>\n",
       "    </tr>\n",
       "  </thead>\n",
       "  <tbody>\n",
       "    <tr>\n",
       "      <th>0</th>\n",
       "      <td>Abdullah Gul</td>\n",
       "    </tr>\n",
       "    <tr>\n",
       "      <th>1</th>\n",
       "      <td>Adrien Brody</td>\n",
       "    </tr>\n",
       "    <tr>\n",
       "      <th>2</th>\n",
       "      <td>Ahmed Chalabi</td>\n",
       "    </tr>\n",
       "    <tr>\n",
       "      <th>3</th>\n",
       "      <td>Ai Sugiyama</td>\n",
       "    </tr>\n",
       "    <tr>\n",
       "      <th>4</th>\n",
       "      <td>Alan Greenspan</td>\n",
       "    </tr>\n",
       "    <tr>\n",
       "      <th>...</th>\n",
       "      <td>...</td>\n",
       "    </tr>\n",
       "    <tr>\n",
       "      <th>418</th>\n",
       "      <td>Yasser Arafat</td>\n",
       "    </tr>\n",
       "    <tr>\n",
       "      <th>419</th>\n",
       "      <td>Yoko Ono</td>\n",
       "    </tr>\n",
       "    <tr>\n",
       "      <th>420</th>\n",
       "      <td>Yoriko Kawaguchi</td>\n",
       "    </tr>\n",
       "    <tr>\n",
       "      <th>421</th>\n",
       "      <td>Zhu Rongji</td>\n",
       "    </tr>\n",
       "    <tr>\n",
       "      <th>422</th>\n",
       "      <td>Zinedine Zidane</td>\n",
       "    </tr>\n",
       "  </tbody>\n",
       "</table>\n",
       "<p>423 rows × 1 columns</p>\n",
       "</div>"
      ],
      "text/plain": [
       "                 Name\n",
       "ID                   \n",
       "0        Abdullah Gul\n",
       "1        Adrien Brody\n",
       "2       Ahmed Chalabi\n",
       "3         Ai Sugiyama\n",
       "4      Alan Greenspan\n",
       "..                ...\n",
       "418     Yasser Arafat\n",
       "419          Yoko Ono\n",
       "420  Yoriko Kawaguchi\n",
       "421        Zhu Rongji\n",
       "422   Zinedine Zidane\n",
       "\n",
       "[423 rows x 1 columns]"
      ]
     },
     "execution_count": 4,
     "metadata": {},
     "output_type": "execute_result"
    }
   ],
   "source": [
    "#Person dataframe in ResizedData is being read from md5 file\n",
    "personDf = pd.read_pickle(\"../../../Data/ResizedData/Person.pkl\")\n",
    "personDf"
   ]
  },
  {
   "cell_type": "code",
   "execution_count": 5,
   "metadata": {},
   "outputs": [
    {
     "data": {
      "text/html": [
       "<div>\n",
       "<style scoped>\n",
       "    .dataframe tbody tr th:only-of-type {\n",
       "        vertical-align: middle;\n",
       "    }\n",
       "\n",
       "    .dataframe tbody tr th {\n",
       "        vertical-align: top;\n",
       "    }\n",
       "\n",
       "    .dataframe thead th {\n",
       "        text-align: right;\n",
       "    }\n",
       "</style>\n",
       "<table border=\"1\" class=\"dataframe\">\n",
       "  <thead>\n",
       "    <tr style=\"text-align: right;\">\n",
       "      <th></th>\n",
       "      <th>PersonID</th>\n",
       "      <th>ImageBGR</th>\n",
       "      <th>DetectionType</th>\n",
       "    </tr>\n",
       "  </thead>\n",
       "  <tbody>\n",
       "    <tr>\n",
       "      <th>0</th>\n",
       "      <td>22</td>\n",
       "      <td>[[[71, 116, 99], [69, 116, 98], [67, 115, 98],...</td>\n",
       "      <td>SingleFace</td>\n",
       "    </tr>\n",
       "    <tr>\n",
       "      <th>1</th>\n",
       "      <td>125</td>\n",
       "      <td>[[[10, 24, 36], [12, 26, 38], [18, 32, 44], [2...</td>\n",
       "      <td>NoFace</td>\n",
       "    </tr>\n",
       "    <tr>\n",
       "      <th>2</th>\n",
       "      <td>356</td>\n",
       "      <td>[[[177, 199, 204], [176, 199, 204], [175, 200,...</td>\n",
       "      <td>SingleFace</td>\n",
       "    </tr>\n",
       "    <tr>\n",
       "      <th>3</th>\n",
       "      <td>277</td>\n",
       "      <td>[[[91, 103, 121], [91, 104, 122], [92, 105, 12...</td>\n",
       "      <td>SingleFace</td>\n",
       "    </tr>\n",
       "    <tr>\n",
       "      <th>4</th>\n",
       "      <td>131</td>\n",
       "      <td>[[[42, 65, 81], [38, 61, 77], [30, 53, 68], [2...</td>\n",
       "      <td>SingleFace</td>\n",
       "    </tr>\n",
       "    <tr>\n",
       "      <th>...</th>\n",
       "      <td>...</td>\n",
       "      <td>...</td>\n",
       "      <td>...</td>\n",
       "    </tr>\n",
       "    <tr>\n",
       "      <th>4151</th>\n",
       "      <td>4</td>\n",
       "      <td>[[[64, 89, 93], [62, 88, 92], [60, 86, 90], [5...</td>\n",
       "      <td>SingleFace</td>\n",
       "    </tr>\n",
       "    <tr>\n",
       "      <th>4152</th>\n",
       "      <td>120</td>\n",
       "      <td>[[[114, 93, 71], [116, 96, 74], [122, 101, 79]...</td>\n",
       "      <td>SingleFace</td>\n",
       "    </tr>\n",
       "    <tr>\n",
       "      <th>4153</th>\n",
       "      <td>322</td>\n",
       "      <td>[[[197, 207, 207], [196, 208, 210], [195, 207,...</td>\n",
       "      <td>NoFace</td>\n",
       "    </tr>\n",
       "    <tr>\n",
       "      <th>4154</th>\n",
       "      <td>383</td>\n",
       "      <td>[[[7, 5, 5], [7, 5, 5], [8, 5, 5], [8, 6, 6], ...</td>\n",
       "      <td>SingleFace</td>\n",
       "    </tr>\n",
       "    <tr>\n",
       "      <th>4155</th>\n",
       "      <td>44</td>\n",
       "      <td>[[[6, 4, 4], [6, 4, 4], [5, 5, 5], [5, 5, 5], ...</td>\n",
       "      <td>SingleFace</td>\n",
       "    </tr>\n",
       "  </tbody>\n",
       "</table>\n",
       "<p>4156 rows × 3 columns</p>\n",
       "</div>"
      ],
      "text/plain": [
       "      PersonID                                           ImageBGR  \\\n",
       "0           22  [[[71, 116, 99], [69, 116, 98], [67, 115, 98],...   \n",
       "1          125  [[[10, 24, 36], [12, 26, 38], [18, 32, 44], [2...   \n",
       "2          356  [[[177, 199, 204], [176, 199, 204], [175, 200,...   \n",
       "3          277  [[[91, 103, 121], [91, 104, 122], [92, 105, 12...   \n",
       "4          131  [[[42, 65, 81], [38, 61, 77], [30, 53, 68], [2...   \n",
       "...        ...                                                ...   \n",
       "4151         4  [[[64, 89, 93], [62, 88, 92], [60, 86, 90], [5...   \n",
       "4152       120  [[[114, 93, 71], [116, 96, 74], [122, 101, 79]...   \n",
       "4153       322  [[[197, 207, 207], [196, 208, 210], [195, 207,...   \n",
       "4154       383  [[[7, 5, 5], [7, 5, 5], [8, 5, 5], [8, 6, 6], ...   \n",
       "4155        44  [[[6, 4, 4], [6, 4, 4], [5, 5, 5], [5, 5, 5], ...   \n",
       "\n",
       "     DetectionType  \n",
       "0       SingleFace  \n",
       "1           NoFace  \n",
       "2       SingleFace  \n",
       "3       SingleFace  \n",
       "4       SingleFace  \n",
       "...            ...  \n",
       "4151    SingleFace  \n",
       "4152    SingleFace  \n",
       "4153        NoFace  \n",
       "4154    SingleFace  \n",
       "4155    SingleFace  \n",
       "\n",
       "[4156 rows x 3 columns]"
      ]
     },
     "execution_count": 5,
     "metadata": {},
     "output_type": "execute_result"
    }
   ],
   "source": [
    "#FaceOnly Training data is being read from md5 file\n",
    "trainingDf = pd.read_pickle(\"../../../Data/ResizedData/FaceOnly/Training.pkl\")\n",
    "trainingDf"
   ]
  },
  {
   "cell_type": "code",
   "execution_count": 6,
   "metadata": {},
   "outputs": [
    {
     "data": {
      "text/plain": [
       "(4156, 224, 224, 3)"
      ]
     },
     "execution_count": 6,
     "metadata": {},
     "output_type": "execute_result"
    }
   ],
   "source": [
    "#trainingX is being extracted from trainingDf as wanted shape\n",
    "#trainingX contains images with pixel values of data type np.uint8 in the range [0, 255]\n",
    "\n",
    "#Many pre-trained models, including the ones to be used within the scope of this project,\n",
    "#have been trained with images containing pixel values in the [-1, 1] range\n",
    "#In this way, the data will be symmetrical and the performance of the Backpropagation algorithm will be increased\n",
    "#See https://en.wikipedia.org/wiki/Backpropagation\n",
    "#See also https://stackoverflow.com/questions/59540276/why-in-preprocessing-image-data-we-need-to-do-zero-centered-data\n",
    "#Therefore, training will be performed by converting pixel values to this range with the simplest method (pixel / 127.5 - 1)\n",
    "\n",
    "#Converting pixel values to range [-1, 1] in this section is an option\n",
    "#Doing this once over the entire array now will be save time\n",
    "#This is not how the conversion will be done because of some memory problems in this project\n",
    "#Images are of data type np.uint8 when they are in the range [0, 255]\n",
    "#np.uint8 requires 1 byte memory while np.float32 requires 4 byte and np.float64 requires 8 byte\n",
    "#See https://www.educba.com/numpy-data-types/\n",
    "#When np.uint8 data type, images use about 1GB memory\n",
    "#Even if these pixel values are converted to np.float32 data type, it will need about 4GB of memory\n",
    "#The computer used for this project has 8GB Ram\n",
    "#Considering operating system requirements, memory required by the model, etc. 8GB Ram is not enough for this process\n",
    "#For this reason, this method is not preferred, although it will save time\n",
    "\n",
    "trainingX = np.array(trainingDf.ImageBGR.values.tolist())\n",
    "trainingX.shape"
   ]
  },
  {
   "cell_type": "code",
   "execution_count": 7,
   "metadata": {},
   "outputs": [
    {
     "data": {
      "text/plain": [
       "(4156, 1)"
      ]
     },
     "execution_count": 7,
     "metadata": {},
     "output_type": "execute_result"
    }
   ],
   "source": [
    "#trainingY is being extracted from trainingDf as wanted shape\n",
    "trainingY = np.array(trainingDf.PersonID.values.tolist()).reshape((-1,1))\n",
    "trainingY.shape"
   ]
  },
  {
   "cell_type": "code",
   "execution_count": 8,
   "metadata": {},
   "outputs": [
    {
     "data": {
      "text/html": [
       "<div>\n",
       "<style scoped>\n",
       "    .dataframe tbody tr th:only-of-type {\n",
       "        vertical-align: middle;\n",
       "    }\n",
       "\n",
       "    .dataframe tbody tr th {\n",
       "        vertical-align: top;\n",
       "    }\n",
       "\n",
       "    .dataframe thead th {\n",
       "        text-align: right;\n",
       "    }\n",
       "</style>\n",
       "<table border=\"1\" class=\"dataframe\">\n",
       "  <thead>\n",
       "    <tr style=\"text-align: right;\">\n",
       "      <th></th>\n",
       "      <th>PersonID</th>\n",
       "      <th>ImageBGR</th>\n",
       "      <th>DetectionType</th>\n",
       "    </tr>\n",
       "  </thead>\n",
       "  <tbody>\n",
       "    <tr>\n",
       "      <th>0</th>\n",
       "      <td>171</td>\n",
       "      <td>[[[64, 65, 56], [93, 94, 85], [143, 144, 135],...</td>\n",
       "      <td>SingleFace</td>\n",
       "    </tr>\n",
       "    <tr>\n",
       "      <th>1</th>\n",
       "      <td>120</td>\n",
       "      <td>[[[102, 116, 110], [106, 120, 114], [115, 129,...</td>\n",
       "      <td>SingleFace</td>\n",
       "    </tr>\n",
       "    <tr>\n",
       "      <th>2</th>\n",
       "      <td>196</td>\n",
       "      <td>[[[23, 40, 43], [23, 40, 43], [24, 41, 44], [2...</td>\n",
       "      <td>SingleFace</td>\n",
       "    </tr>\n",
       "    <tr>\n",
       "      <th>3</th>\n",
       "      <td>95</td>\n",
       "      <td>[[[34, 55, 63], [35, 56, 65], [38, 59, 69], [4...</td>\n",
       "      <td>MultipleFace</td>\n",
       "    </tr>\n",
       "    <tr>\n",
       "      <th>4</th>\n",
       "      <td>380</td>\n",
       "      <td>[[[227, 227, 227], [227, 227, 227], [227, 227,...</td>\n",
       "      <td>SingleFace</td>\n",
       "    </tr>\n",
       "    <tr>\n",
       "      <th>...</th>\n",
       "      <td>...</td>\n",
       "      <td>...</td>\n",
       "      <td>...</td>\n",
       "    </tr>\n",
       "    <tr>\n",
       "      <th>909</th>\n",
       "      <td>71</td>\n",
       "      <td>[[[104, 116, 120], [103, 116, 121], [102, 117,...</td>\n",
       "      <td>SingleFace</td>\n",
       "    </tr>\n",
       "    <tr>\n",
       "      <th>910</th>\n",
       "      <td>183</td>\n",
       "      <td>[[[35, 17, 10], [35, 17, 11], [36, 17, 12], [3...</td>\n",
       "      <td>SingleFace</td>\n",
       "    </tr>\n",
       "    <tr>\n",
       "      <th>911</th>\n",
       "      <td>120</td>\n",
       "      <td>[[[109, 141, 160], [105, 137, 156], [97, 129, ...</td>\n",
       "      <td>SingleFace</td>\n",
       "    </tr>\n",
       "    <tr>\n",
       "      <th>912</th>\n",
       "      <td>120</td>\n",
       "      <td>[[[84, 94, 111], [81, 91, 108], [76, 86, 103],...</td>\n",
       "      <td>SingleFace</td>\n",
       "    </tr>\n",
       "    <tr>\n",
       "      <th>913</th>\n",
       "      <td>209</td>\n",
       "      <td>[[[59, 64, 65], [57, 61, 62], [53, 57, 58], [5...</td>\n",
       "      <td>SingleFace</td>\n",
       "    </tr>\n",
       "  </tbody>\n",
       "</table>\n",
       "<p>914 rows × 3 columns</p>\n",
       "</div>"
      ],
      "text/plain": [
       "     PersonID                                           ImageBGR DetectionType\n",
       "0         171  [[[64, 65, 56], [93, 94, 85], [143, 144, 135],...    SingleFace\n",
       "1         120  [[[102, 116, 110], [106, 120, 114], [115, 129,...    SingleFace\n",
       "2         196  [[[23, 40, 43], [23, 40, 43], [24, 41, 44], [2...    SingleFace\n",
       "3          95  [[[34, 55, 63], [35, 56, 65], [38, 59, 69], [4...  MultipleFace\n",
       "4         380  [[[227, 227, 227], [227, 227, 227], [227, 227,...    SingleFace\n",
       "..        ...                                                ...           ...\n",
       "909        71  [[[104, 116, 120], [103, 116, 121], [102, 117,...    SingleFace\n",
       "910       183  [[[35, 17, 10], [35, 17, 11], [36, 17, 12], [3...    SingleFace\n",
       "911       120  [[[109, 141, 160], [105, 137, 156], [97, 129, ...    SingleFace\n",
       "912       120  [[[84, 94, 111], [81, 91, 108], [76, 86, 103],...    SingleFace\n",
       "913       209  [[[59, 64, 65], [57, 61, 62], [53, 57, 58], [5...    SingleFace\n",
       "\n",
       "[914 rows x 3 columns]"
      ]
     },
     "execution_count": 8,
     "metadata": {},
     "output_type": "execute_result"
    }
   ],
   "source": [
    "#FaceOnly Validation data is being read from md5 file\n",
    "validationDf = pd.read_pickle(\"../../../Data/ResizedData/FaceOnly/Validation.pkl\")\n",
    "validationDf"
   ]
  },
  {
   "cell_type": "code",
   "execution_count": 9,
   "metadata": {},
   "outputs": [
    {
     "data": {
      "text/plain": [
       "(914, 224, 224, 3)"
      ]
     },
     "execution_count": 9,
     "metadata": {},
     "output_type": "execute_result"
    }
   ],
   "source": [
    "#validationX is being extracted from validationDf as wanted shape\n",
    "#validationX contains images with pixel values of data type np.uint8 in the range [0, 255]\n",
    "\n",
    "#Many pre-trained models, including the ones to be used within the scope of this project,\n",
    "#have been trained with images containing pixel values in the [-1, 1] range\n",
    "#In this way, the data will be symmetrical and the performance of the Backpropagation algorithm will be increased\n",
    "#See https://en.wikipedia.org/wiki/Backpropagation\n",
    "#See also https://stackoverflow.com/questions/59540276/why-in-preprocessing-image-data-we-need-to-do-zero-centered-data\n",
    "#Therefore, training will be performed by converting pixel values to this range with the simplest method (pixel / 127.5 - 1)\n",
    "\n",
    "#Converting pixel values to range [-1, 1] in this section is an option\n",
    "#Doing this once over the entire array now will be save time\n",
    "#This is not how the conversion will be done because of some memory problems in this project\n",
    "#Images are of data type np.uint8 when they are in the range [0, 255]\n",
    "#np.uint8 requires 1 byte memory while np.float32 requires 4 byte and np.float64 requires 8 byte\n",
    "#See https://www.educba.com/numpy-data-types/\n",
    "#When np.uint8 data type, images use about 1GB memory\n",
    "#Even if these pixel values are converted to np.float32 data type, it will need about 4GB of memory\n",
    "#The computer used for this project has 8GB Ram\n",
    "#Considering operating system requirements, memory required by the model, etc. 8GB Ram is not enough for this process\n",
    "#For this reason, this method is not preferred, although it will save time\n",
    "\n",
    "validationX = np.array(validationDf.ImageBGR.values.tolist())\n",
    "validationX.shape"
   ]
  },
  {
   "cell_type": "code",
   "execution_count": 10,
   "metadata": {},
   "outputs": [
    {
     "data": {
      "text/plain": [
       "(914, 1)"
      ]
     },
     "execution_count": 10,
     "metadata": {},
     "output_type": "execute_result"
    }
   ],
   "source": [
    "#validationY is being extracted from validationDf as wanted shape\n",
    "validationY = np.array(validationDf.PersonID.values.tolist()).reshape((-1,1))\n",
    "validationY.shape"
   ]
  },
  {
   "cell_type": "code",
   "execution_count": 11,
   "metadata": {},
   "outputs": [
    {
     "name": "stdout",
     "output_type": "stream",
     "text": [
      "Model: \"vgg16\"\n",
      "_________________________________________________________________\n",
      "Layer (type)                 Output Shape              Param #   \n",
      "=================================================================\n",
      "input_1 (InputLayer)         [(None, 224, 224, 3)]     0         \n",
      "_________________________________________________________________\n",
      "block1_conv1 (Conv2D)        (None, 224, 224, 64)      1792      \n",
      "_________________________________________________________________\n",
      "block1_conv2 (Conv2D)        (None, 224, 224, 64)      36928     \n",
      "_________________________________________________________________\n",
      "block1_pool (MaxPooling2D)   (None, 112, 112, 64)      0         \n",
      "_________________________________________________________________\n",
      "block2_conv1 (Conv2D)        (None, 112, 112, 128)     73856     \n",
      "_________________________________________________________________\n",
      "block2_conv2 (Conv2D)        (None, 112, 112, 128)     147584    \n",
      "_________________________________________________________________\n",
      "block2_pool (MaxPooling2D)   (None, 56, 56, 128)       0         \n",
      "_________________________________________________________________\n",
      "block3_conv1 (Conv2D)        (None, 56, 56, 256)       295168    \n",
      "_________________________________________________________________\n",
      "block3_conv2 (Conv2D)        (None, 56, 56, 256)       590080    \n",
      "_________________________________________________________________\n",
      "block3_conv3 (Conv2D)        (None, 56, 56, 256)       590080    \n",
      "_________________________________________________________________\n",
      "block3_pool (MaxPooling2D)   (None, 28, 28, 256)       0         \n",
      "_________________________________________________________________\n",
      "block4_conv1 (Conv2D)        (None, 28, 28, 512)       1180160   \n",
      "_________________________________________________________________\n",
      "block4_conv2 (Conv2D)        (None, 28, 28, 512)       2359808   \n",
      "_________________________________________________________________\n",
      "block4_conv3 (Conv2D)        (None, 28, 28, 512)       2359808   \n",
      "_________________________________________________________________\n",
      "block4_pool (MaxPooling2D)   (None, 14, 14, 512)       0         \n",
      "_________________________________________________________________\n",
      "block5_conv1 (Conv2D)        (None, 14, 14, 512)       2359808   \n",
      "_________________________________________________________________\n",
      "block5_conv2 (Conv2D)        (None, 14, 14, 512)       2359808   \n",
      "_________________________________________________________________\n",
      "block5_conv3 (Conv2D)        (None, 14, 14, 512)       2359808   \n",
      "_________________________________________________________________\n",
      "block5_pool (MaxPooling2D)   (None, 7, 7, 512)         0         \n",
      "=================================================================\n",
      "Total params: 14,714,688\n",
      "Trainable params: 0\n",
      "Non-trainable params: 14,714,688\n",
      "_________________________________________________________________\n"
     ]
    }
   ],
   "source": [
    "#VGG16 pre-trained model is being loaded\n",
    "#The original VGG16 model was trained with images with size of (224, 224, 3) \n",
    "#in BGR color order and pixel values of [-1, 1] (zero centered) as default\n",
    "#See https://keras.io/api/applications/vgg/ for more information\n",
    "#Since images of dataset saved as size of (224, 224, 3) in BGR color order and pixel values of [0, 255]\n",
    "#dataset will be used by just converting the pixel values to the range [-1, 1]\n",
    "\n",
    "#Model is set to non-trainable\n",
    "#In this way, the convolutional layers that will be used for feature extraction will be used without changing them\n",
    "#Fully connected layers will be fed the feature-map obtained from the pre-trained convolutional model\n",
    "#the training process will be performed on this fully connected layers\n",
    "\n",
    "model = tf.keras.applications.vgg16.VGG16(include_top = False, input_shape = ((224, 224, 3)))\n",
    "model.trainable = False\n",
    "model.summary()"
   ]
  },
  {
   "cell_type": "code",
   "execution_count": 12,
   "metadata": {},
   "outputs": [
    {
     "name": "stdout",
     "output_type": "stream",
     "text": [
      "Model: \"sequential\"\n",
      "_________________________________________________________________\n",
      "Layer (type)                 Output Shape              Param #   \n",
      "=================================================================\n",
      "vgg16 (Functional)           (None, 7, 7, 512)         14714688  \n",
      "_________________________________________________________________\n",
      "flatten (Flatten)            (None, 25088)             0         \n",
      "_________________________________________________________________\n",
      "dense (Dense)                (None, 2048)              51382272  \n",
      "_________________________________________________________________\n",
      "dense_1 (Dense)              (None, 2048)              4196352   \n",
      "_________________________________________________________________\n",
      "dropout (Dropout)            (None, 2048)              0         \n",
      "_________________________________________________________________\n",
      "dense_2 (Dense)              (None, 423)               866727    \n",
      "=================================================================\n",
      "Total params: 71,160,039\n",
      "Trainable params: 56,445,351\n",
      "Non-trainable params: 14,714,688\n",
      "_________________________________________________________________\n"
     ]
    }
   ],
   "source": [
    "#The pre-trained model is being connected to the fully connected layer where the training will performed\n",
    "#A dropout layer is being added to the the model to prevent overfitting,\n",
    "#and the model is being completed with the addition of the output layer\n",
    "\n",
    "model = tf.keras.models.Sequential([\n",
    "    model,\n",
    "    tf.keras.layers.Flatten(),\n",
    "    tf.keras.layers.Dense(2048, activation = 'relu'),\n",
    "    tf.keras.layers.Dense(2048, activation = 'relu'),\n",
    "    tf.keras.layers.Dropout(0.2),\n",
    "    tf.keras.layers.Dense(personDf.shape[0], activation = tf.nn.softmax)\n",
    "])\n",
    "model.summary()"
   ]
  },
  {
   "cell_type": "code",
   "execution_count": 13,
   "metadata": {},
   "outputs": [],
   "source": [
    "#Model is being compiled with Adam optimizer\n",
    "#Adam optimizer is a common used optimizer\n",
    "#See https://keras.io/api/optimizers/adam/\n",
    "#See also https://towardsdatascience.com/7-tips-to-choose-the-best-optimizer-47bb9c1219e\n",
    "#SparseCategoricalCrossentropy loss function is being used because of the label format of the data\n",
    "#SparseCategoricalAccuracy is being used as metric because of the label format of the data\n",
    "model.compile(\n",
    "    optimizer=tf.keras.optimizers.Adam(),\n",
    "    loss=tf.keras.losses.SparseCategoricalCrossentropy(),\n",
    "    metrics=[tf.keras.metrics.SparseCategoricalAccuracy(name = 'accuracy')]\n",
    ")"
   ]
  },
  {
   "cell_type": "code",
   "execution_count": 14,
   "metadata": {},
   "outputs": [],
   "source": [
    "#A class inherited from keras utils Sequence is being created\n",
    "class FitSequence(tf.keras.utils.Sequence):\n",
    "    \n",
    "    #Constructor method is being defined\n",
    "    def __init__(self, image, label, batchSize):\n",
    "        self.image, self.label = image, label\n",
    "        self.batchSize = batchSize\n",
    "        \n",
    "        #A numpy array for image indexes is being created\n",
    "        #This array will be used to shuffle the data\n",
    "        self.index = np.arange(self.image.shape[0])\n",
    "    \n",
    "    #__len__ method is being defined\n",
    "    #This method will be used by the model to show the amount of progress of each epoch\n",
    "    def __len__(self):\n",
    "        return int(np.ceil(self.image.shape[0] / float(self.batchSize)))\n",
    "    \n",
    "    #__getitem__ method is being defined\n",
    "    #The model will retrieve the batches it will use during training by calling this method\n",
    "    #With this method, the data to be used by the model can be manipulated\n",
    "    def __getitem__(self, idx):\n",
    "        \n",
    "        #When the model requests data, the next batch size will be selected based on index array\n",
    "        indexPart = self.index[idx * self.batchSize : (idx + 1) * self.batchSize]\n",
    "        \n",
    "        #Before being sent to the model on demand pixel values will be converted to range [-1, 1]\n",
    "        #Doing this operation here means that it will be repeated as many epochs for each image and this wastes time\n",
    "        #This is how the conversion is being done because of some memory problem in this project\n",
    "        batchX = (self.image[indexPart] / 127.5) - 1\n",
    "        batchY = self.label[indexPart]\n",
    "        return np.array(batchX), np.array(batchY)\n",
    "    \n",
    "    #on_epoch_end method is being defined\n",
    "    #The model will call this method after each epoch is ended\n",
    "    def on_epoch_end(self):\n",
    "        \n",
    "        #At the end of the epoch, the index array is being shuffled \n",
    "        #so that the data in the next epoch is returned in different orders\n",
    "        np.random.shuffle(self.index)"
   ]
  },
  {
   "cell_type": "code",
   "execution_count": 15,
   "metadata": {},
   "outputs": [
    {
     "name": "stdout",
     "output_type": "stream",
     "text": [
      "Epoch 1/30\n",
      "260/260 [==============================] - 214s 772ms/step - loss: 5.6463 - accuracy: 0.0840 - val_loss: 5.1044 - val_accuracy: 0.0985\n",
      "Epoch 2/30\n",
      "260/260 [==============================] - 185s 713ms/step - loss: 5.0187 - accuracy: 0.1121 - val_loss: 4.6713 - val_accuracy: 0.1521\n",
      "Epoch 3/30\n",
      "260/260 [==============================] - 186s 714ms/step - loss: 4.6750 - accuracy: 0.1381 - val_loss: 4.4523 - val_accuracy: 0.1751\n",
      "Epoch 4/30\n",
      "260/260 [==============================] - 193s 741ms/step - loss: 4.3221 - accuracy: 0.1689 - val_loss: 4.3325 - val_accuracy: 0.1882\n",
      "Epoch 5/30\n",
      "260/260 [==============================] - 193s 740ms/step - loss: 4.0406 - accuracy: 0.1901 - val_loss: 4.1058 - val_accuracy: 0.2035\n",
      "Epoch 6/30\n",
      "260/260 [==============================] - 193s 741ms/step - loss: 3.7863 - accuracy: 0.2117 - val_loss: 3.9856 - val_accuracy: 0.2101\n",
      "Epoch 7/30\n",
      "260/260 [==============================] - 196s 755ms/step - loss: 3.4923 - accuracy: 0.2375 - val_loss: 3.8887 - val_accuracy: 0.2101\n",
      "Epoch 8/30\n",
      "260/260 [==============================] - 209s 802ms/step - loss: 3.2476 - accuracy: 0.2724 - val_loss: 3.9070 - val_accuracy: 0.2243\n",
      "Epoch 9/30\n",
      "260/260 [==============================] - 212s 814ms/step - loss: 3.0044 - accuracy: 0.2919 - val_loss: 4.2572 - val_accuracy: 0.2298\n",
      "Epoch 10/30\n",
      "260/260 [==============================] - 194s 745ms/step - loss: 2.8470 - accuracy: 0.3251 - val_loss: 4.1070 - val_accuracy: 0.2123\n",
      "Epoch 11/30\n",
      "260/260 [==============================] - 210s 807ms/step - loss: 2.6846 - accuracy: 0.3390 - val_loss: 4.0964 - val_accuracy: 0.2352\n",
      "Epoch 12/30\n",
      "260/260 [==============================] - 212s 814ms/step - loss: 2.4780 - accuracy: 0.3737 - val_loss: 4.5280 - val_accuracy: 0.2265\n",
      "Epoch 13/30\n",
      "260/260 [==============================] - 207s 795ms/step - loss: 2.3407 - accuracy: 0.3982 - val_loss: 4.6097 - val_accuracy: 0.2462\n",
      "Epoch 14/30\n",
      "260/260 [==============================] - 203s 781ms/step - loss: 2.2401 - accuracy: 0.4165 - val_loss: 4.7575 - val_accuracy: 0.1980\n",
      "Epoch 15/30\n",
      "260/260 [==============================] - 203s 779ms/step - loss: 2.1379 - accuracy: 0.4341 - val_loss: 4.7917 - val_accuracy: 0.2385\n",
      "Epoch 16/30\n",
      "260/260 [==============================] - 211s 813ms/step - loss: 2.0202 - accuracy: 0.4586 - val_loss: 4.9380 - val_accuracy: 0.2232\n",
      "Epoch 17/30\n",
      "260/260 [==============================] - 208s 800ms/step - loss: 1.9382 - accuracy: 0.4699 - val_loss: 5.2090 - val_accuracy: 0.2276\n",
      "Epoch 18/30\n",
      "260/260 [==============================] - 202s 778ms/step - loss: 1.8528 - accuracy: 0.4904 - val_loss: 5.4099 - val_accuracy: 0.2090\n",
      "Epoch 19/30\n",
      "260/260 [==============================] - 190s 731ms/step - loss: 1.8116 - accuracy: 0.5038 - val_loss: 5.6046 - val_accuracy: 0.2319\n",
      "Epoch 20/30\n",
      "260/260 [==============================] - 206s 793ms/step - loss: 1.7399 - accuracy: 0.5123 - val_loss: 5.6058 - val_accuracy: 0.2429\n",
      "Epoch 21/30\n",
      "260/260 [==============================] - 206s 794ms/step - loss: 1.6473 - accuracy: 0.5428 - val_loss: 5.7453 - val_accuracy: 0.2221\n",
      "Epoch 22/30\n",
      "260/260 [==============================] - 205s 790ms/step - loss: 1.5968 - accuracy: 0.5515 - val_loss: 6.0031 - val_accuracy: 0.2188\n",
      "Epoch 23/30\n",
      "260/260 [==============================] - 210s 806ms/step - loss: 1.5678 - accuracy: 0.5585 - val_loss: 6.0454 - val_accuracy: 0.2254\n",
      "Epoch 24/30\n",
      "260/260 [==============================] - 196s 752ms/step - loss: 1.5665 - accuracy: 0.5623 - val_loss: 6.0746 - val_accuracy: 0.2341\n",
      "Epoch 25/30\n",
      "260/260 [==============================] - 197s 758ms/step - loss: 1.5138 - accuracy: 0.5693 - val_loss: 6.3337 - val_accuracy: 0.2287\n",
      "Epoch 26/30\n",
      "260/260 [==============================] - 207s 797ms/step - loss: 1.4168 - accuracy: 0.5987 - val_loss: 6.7146 - val_accuracy: 0.2155\n",
      "Epoch 27/30\n",
      "260/260 [==============================] - 207s 794ms/step - loss: 1.4152 - accuracy: 0.5994 - val_loss: 6.5856 - val_accuracy: 0.2287\n",
      "Epoch 28/30\n",
      "260/260 [==============================] - 207s 797ms/step - loss: 1.4421 - accuracy: 0.5859 - val_loss: 6.6530 - val_accuracy: 0.2177\n",
      "Epoch 29/30\n",
      "260/260 [==============================] - 206s 794ms/step - loss: 1.3075 - accuracy: 0.6292 - val_loss: 7.1106 - val_accuracy: 0.1980\n",
      "Epoch 30/30\n",
      "260/260 [==============================] - 206s 792ms/step - loss: 1.4075 - accuracy: 0.5965 - val_loss: 7.1985 - val_accuracy: 0.2144\n"
     ]
    }
   ],
   "source": [
    "#model is being trained with 30 epochs and 16 batchSize using GPU\n",
    "#A small batchSize value is being chosen to prevent GPU memory problem\n",
    "#Large batchSize reduce training time while also generally providing better results\n",
    "with tf.device(myGPU):\n",
    "    trainingHistory = model.fit(\n",
    "        FitSequence(trainingX, trainingY, 16),\n",
    "        epochs = 30,\n",
    "        validation_data = FitSequence(validationX, validationY, 16)\n",
    "    )"
   ]
  },
  {
   "cell_type": "code",
   "execution_count": 16,
   "metadata": {},
   "outputs": [
    {
     "data": {
      "image/png": "[encoded data removed]",
      "text/plain": [
       "<Figure size 432x288 with 1 Axes>"
      ]
     },
     "metadata": {
      "needs_background": "light"
     },
     "output_type": "display_data"
    }
   ],
   "source": [
    "#Loss Chart is being drawn\n",
    "\n",
    "#Chart Values\n",
    "plt.plot(trainingHistory.history['loss'])\n",
    "plt.plot(trainingHistory.history['val_loss'])\n",
    "\n",
    "#Chart Tittle\n",
    "plt.title('Model Loss Chart')\n",
    "\n",
    "#Chart Labels\n",
    "plt.ylabel('loss')\n",
    "plt.xlabel('epoch')\n",
    "\n",
    "#Chart Lines\n",
    "plt.legend(['Training', 'Validation'], loc='upper left')\n",
    "\n",
    "#Show Method\n",
    "plt.show()"
   ]
  },
  {
   "cell_type": "code",
   "execution_count": 17,
   "metadata": {},
   "outputs": [
    {
     "data": {
      "image/png": "[encoded data removed]",
      "text/plain": [
       "<Figure size 432x288 with 1 Axes>"
      ]
     },
     "metadata": {
      "needs_background": "light"
     },
     "output_type": "display_data"
    }
   ],
   "source": [
    "#Loss Chart is being drawn\n",
    "\n",
    "#Chart Values\n",
    "plt.plot(trainingHistory.history['accuracy'])\n",
    "plt.plot(trainingHistory.history['val_accuracy'])\n",
    "\n",
    "#Chart Tittle\n",
    "plt.title('model accuracy')\n",
    "\n",
    "#Chart Labels\n",
    "plt.ylabel('accuracy')\n",
    "plt.xlabel('epoch')\n",
    "\n",
    "#Chart Lines\n",
    "plt.legend(['Training', 'Validation'], loc='upper left')\n",
    "\n",
    "#Show Method\n",
    "plt.show()"
   ]
  },
  {
   "cell_type": "code",
   "execution_count": 18,
   "metadata": {},
   "outputs": [
    {
     "data": {
      "text/html": [
       "<div>\n",
       "<style scoped>\n",
       "    .dataframe tbody tr th:only-of-type {\n",
       "        vertical-align: middle;\n",
       "    }\n",
       "\n",
       "    .dataframe tbody tr th {\n",
       "        vertical-align: top;\n",
       "    }\n",
       "\n",
       "    .dataframe thead th {\n",
       "        text-align: right;\n",
       "    }\n",
       "</style>\n",
       "<table border=\"1\" class=\"dataframe\">\n",
       "  <thead>\n",
       "    <tr style=\"text-align: right;\">\n",
       "      <th></th>\n",
       "      <th>PersonID</th>\n",
       "      <th>ImageBGR</th>\n",
       "      <th>DetectionType</th>\n",
       "    </tr>\n",
       "  </thead>\n",
       "  <tbody>\n",
       "    <tr>\n",
       "      <th>0</th>\n",
       "      <td>270</td>\n",
       "      <td>[[[0, 2, 13], [0, 1, 11], [0, 0, 8], [0, 0, 7]...</td>\n",
       "      <td>SingleFace</td>\n",
       "    </tr>\n",
       "    <tr>\n",
       "      <th>1</th>\n",
       "      <td>80</td>\n",
       "      <td>[[[9, 11, 22], [9, 11, 23], [10, 12, 25], [11,...</td>\n",
       "      <td>SingleFace</td>\n",
       "    </tr>\n",
       "    <tr>\n",
       "      <th>2</th>\n",
       "      <td>14</td>\n",
       "      <td>[[[43, 69, 53], [32, 58, 42], [13, 37, 22], [6...</td>\n",
       "      <td>SingleFace</td>\n",
       "    </tr>\n",
       "    <tr>\n",
       "      <th>3</th>\n",
       "      <td>120</td>\n",
       "      <td>[[[161, 124, 104], [160, 124, 105], [159, 125,...</td>\n",
       "      <td>SingleFace</td>\n",
       "    </tr>\n",
       "    <tr>\n",
       "      <th>4</th>\n",
       "      <td>401</td>\n",
       "      <td>[[[8, 15, 142], [7, 15, 142], [6, 15, 142], [6...</td>\n",
       "      <td>SingleFace</td>\n",
       "    </tr>\n",
       "    <tr>\n",
       "      <th>...</th>\n",
       "      <td>...</td>\n",
       "      <td>...</td>\n",
       "      <td>...</td>\n",
       "    </tr>\n",
       "    <tr>\n",
       "      <th>910</th>\n",
       "      <td>291</td>\n",
       "      <td>[[[157, 175, 176], [152, 170, 173], [143, 161,...</td>\n",
       "      <td>SingleFace</td>\n",
       "    </tr>\n",
       "    <tr>\n",
       "      <th>911</th>\n",
       "      <td>302</td>\n",
       "      <td>[[[76, 82, 89], [76, 82, 89], [77, 82, 90], [7...</td>\n",
       "      <td>MultipleFace</td>\n",
       "    </tr>\n",
       "    <tr>\n",
       "      <th>912</th>\n",
       "      <td>401</td>\n",
       "      <td>[[[39, 42, 46], [38, 41, 45], [37, 40, 44], [3...</td>\n",
       "      <td>SingleFace</td>\n",
       "    </tr>\n",
       "    <tr>\n",
       "      <th>913</th>\n",
       "      <td>340</td>\n",
       "      <td>[[[11, 16, 25], [11, 16, 24], [12, 15, 23], [1...</td>\n",
       "      <td>SingleFace</td>\n",
       "    </tr>\n",
       "    <tr>\n",
       "      <th>914</th>\n",
       "      <td>293</td>\n",
       "      <td>[[[154, 178, 202], [155, 179, 203], [157, 181,...</td>\n",
       "      <td>SingleFace</td>\n",
       "    </tr>\n",
       "  </tbody>\n",
       "</table>\n",
       "<p>915 rows × 3 columns</p>\n",
       "</div>"
      ],
      "text/plain": [
       "     PersonID                                           ImageBGR DetectionType\n",
       "0         270  [[[0, 2, 13], [0, 1, 11], [0, 0, 8], [0, 0, 7]...    SingleFace\n",
       "1          80  [[[9, 11, 22], [9, 11, 23], [10, 12, 25], [11,...    SingleFace\n",
       "2          14  [[[43, 69, 53], [32, 58, 42], [13, 37, 22], [6...    SingleFace\n",
       "3         120  [[[161, 124, 104], [160, 124, 105], [159, 125,...    SingleFace\n",
       "4         401  [[[8, 15, 142], [7, 15, 142], [6, 15, 142], [6...    SingleFace\n",
       "..        ...                                                ...           ...\n",
       "910       291  [[[157, 175, 176], [152, 170, 173], [143, 161,...    SingleFace\n",
       "911       302  [[[76, 82, 89], [76, 82, 89], [77, 82, 90], [7...  MultipleFace\n",
       "912       401  [[[39, 42, 46], [38, 41, 45], [37, 40, 44], [3...    SingleFace\n",
       "913       340  [[[11, 16, 25], [11, 16, 24], [12, 15, 23], [1...    SingleFace\n",
       "914       293  [[[154, 178, 202], [155, 179, 203], [157, 181,...    SingleFace\n",
       "\n",
       "[915 rows x 3 columns]"
      ]
     },
     "execution_count": 18,
     "metadata": {},
     "output_type": "execute_result"
    }
   ],
   "source": [
    "#FaceOnly Test data is being read from md5 file\n",
    "testDf = pd.read_pickle(\"../../../Data/ResizedData/FaceOnly/Test.pkl\")\n",
    "testDf"
   ]
  },
  {
   "cell_type": "code",
   "execution_count": 19,
   "metadata": {},
   "outputs": [
    {
     "data": {
      "text/plain": [
       "(915, 224, 224, 3)"
      ]
     },
     "execution_count": 19,
     "metadata": {},
     "output_type": "execute_result"
    }
   ],
   "source": [
    "#testX is being extracted from testDf as wanted shape\n",
    "testX = np.array(testDf.ImageBGR.values.tolist())\n",
    "testX.shape"
   ]
  },
  {
   "cell_type": "code",
   "execution_count": 20,
   "metadata": {},
   "outputs": [
    {
     "data": {
      "text/plain": [
       "(915, 1)"
      ]
     },
     "execution_count": 20,
     "metadata": {},
     "output_type": "execute_result"
    }
   ],
   "source": [
    "#testY is being extracted from testDf as wanted shape\n",
    "testY = np.array(testDf.PersonID.values.tolist()).reshape((-1,1))\n",
    "testY.shape"
   ]
  },
  {
   "cell_type": "code",
   "execution_count": 21,
   "metadata": {},
   "outputs": [
    {
     "name": "stdout",
     "output_type": "stream",
     "text": [
      "58/58 [==============================] - 43s 739ms/step - loss: 7.1855 - accuracy: 0.1978\n"
     ]
    }
   ],
   "source": [
    "#Model is being evaluated with test data\n",
    "#Sequence class is being also used for evaluation to convert test data into the same format as training data\n",
    "testResult = model.evaluate(FitSequence(testX, testY, 16))"
   ]
  },
  {
   "cell_type": "code",
   "execution_count": 22,
   "metadata": {},
   "outputs": [
    {
     "name": "stdout",
     "output_type": "stream",
     "text": [
      "Test Loss: 7.185532093048096\n"
     ]
    }
   ],
   "source": [
    "#Test Loss is being Printed\n",
    "print('Test Loss: ' + str(testResult[0]))"
   ]
  },
  {
   "cell_type": "code",
   "execution_count": 23,
   "metadata": {},
   "outputs": [
    {
     "name": "stdout",
     "output_type": "stream",
     "text": [
      "Test Accuracy: 0.1978142112493515\n"
     ]
    }
   ],
   "source": [
    "#Test Accuracy is being Printed\n",
    "print('Test Accuracy: ' + str(testResult[1]))"
   ]
  },
  {
   "cell_type": "markdown",
   "metadata": {},
   "source": [
    "# Training5 Inference\n",
    "\n",
    "By looking at the charts, it can be seen that the number of epochs is insufficient to reach the exact result.\n",
    "\n",
    "However, training seems to result in overfitting even if the number of epochs is increased.\n",
    "\n",
    "Performance can be improved by trying Hyperparameter Optimization methods.\n",
    "\n",
    "See https://en.wikipedia.org/wiki/Hyperparameter_optimization.\n",
    "\n",
    "Since there is no expectation from this unprocessed dataset, which is already imbalanced.\n",
    "\n",
    "This training will not be focussed on."
   ]
  }
 ],
 "metadata": {
  "kernelspec": {
   "display_name": "Py39AI",
   "language": "python",
   "name": "py39ai"
  },
  "language_info": {
   "codemirror_mode": {
    "name": "ipython",
    "version": 3
   },
   "file_extension": ".py",
   "mimetype": "text/x-python",
   "name": "python",
   "nbconvert_exporter": "python",
   "pygments_lexer": "ipython3",
   "version": "3.9.12"
  }
 },
 "nbformat": 4,
 "nbformat_minor": 2
}
